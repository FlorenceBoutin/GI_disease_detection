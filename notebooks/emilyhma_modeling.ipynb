{
 "cells": [
  {
   "cell_type": "markdown",
   "id": "291817ac",
   "metadata": {},
   "source": [
    "# Modeling"
   ]
  },
  {
   "cell_type": "markdown",
   "id": "551bd653",
   "metadata": {},
   "source": [
    "## Loading and Cleaning Datasets"
   ]
  },
  {
   "cell_type": "code",
   "execution_count": 1,
   "id": "6bb61078",
   "metadata": {},
   "outputs": [
    {
     "name": "stderr",
     "output_type": "stream",
     "text": [
      "2023-03-07 12:44:09.216521: I tensorflow/core/platform/cpu_feature_guard.cc:193] This TensorFlow binary is optimized with oneAPI Deep Neural Network Library (oneDNN) to use the following CPU instructions in performance-critical operations:  AVX2 FMA\n",
      "To enable them in other operations, rebuild TensorFlow with the appropriate compiler flags.\n",
      "2023-03-07 12:44:10.075134: W tensorflow/compiler/xla/stream_executor/platform/default/dso_loader.cc:64] Could not load dynamic library 'libcudart.so.11.0'; dlerror: libcudart.so.11.0: cannot open shared object file: No such file or directory\n",
      "2023-03-07 12:44:10.075181: I tensorflow/compiler/xla/stream_executor/cuda/cudart_stub.cc:29] Ignore above cudart dlerror if you do not have a GPU set up on your machine.\n",
      "2023-03-07 12:44:12.564887: W tensorflow/compiler/xla/stream_executor/platform/default/dso_loader.cc:64] Could not load dynamic library 'libnvinfer.so.7'; dlerror: libnvinfer.so.7: cannot open shared object file: No such file or directory\n",
      "2023-03-07 12:44:12.565108: W tensorflow/compiler/xla/stream_executor/platform/default/dso_loader.cc:64] Could not load dynamic library 'libnvinfer_plugin.so.7'; dlerror: libnvinfer_plugin.so.7: cannot open shared object file: No such file or directory\n",
      "2023-03-07 12:44:12.565121: W tensorflow/compiler/tf2tensorrt/utils/py_utils.cc:38] TF-TRT Warning: Cannot dlopen some TensorRT libraries. If you would like to use Nvidia GPU with TensorRT, please make sure the missing libraries mentioned above are installed properly.\n"
     ]
    }
   ],
   "source": [
    "from tensorflow.keras.preprocessing.image import ImageDataGenerator\n",
    "import os"
   ]
  },
  {
   "cell_type": "code",
   "execution_count": 5,
   "id": "9a5f6918",
   "metadata": {},
   "outputs": [],
   "source": [
    "def load_images(folder):\n",
    "    \"\"\"\n",
    "    Enter a folder directory with images to load.\n",
    "    \"\"\"\n",
    "    datagen = ImageDataGenerator(rescale = 1. / 255)\n",
    "    images = datagen.flow_from_directory(folder,\n",
    "                                         target_size = (224, 224),\n",
    "                                         color_mode = \"rgb\",\n",
    "                                         batch_size = 32,\n",
    "                                         class_mode = \"categorical\")\n",
    "    return images"
   ]
  },
  {
   "cell_type": "code",
   "execution_count": 6,
   "id": "91d5158f",
   "metadata": {},
   "outputs": [],
   "source": [
    "def train_val_test_generator(root):\n",
    "    \"\"\"\n",
    "    Generate the train, validation, and test batches.\n",
    "    \"\"\"\n",
    "    #the directories need to be updated once we have the data in the cloud\n",
    "    #root will be updated to folder\n",
    "    root = \"/home/emilyma/code/FlorenceBoutin/GI_disease_detection/raw_data\"\n",
    "    train_directory = os.path.join(root, \"train\")\n",
    "    val_directory = os.path.join(root, \"val\")\n",
    "    test_directory = os.path.join(root, \"test\")\n",
    "\n",
    "    train_dataset = load_images(train_directory)\n",
    "    val_dataset = load_images(val_directory)\n",
    "    test_dataset = load_images(test_directory)\n",
    "\n",
    "    return train_dataset, val_dataset, test_dataset"
   ]
  },
  {
   "cell_type": "code",
   "execution_count": 7,
   "id": "7a0e81a9",
   "metadata": {},
   "outputs": [
    {
     "name": "stdout",
     "output_type": "stream",
     "text": [
      "Found 3200 images belonging to 4 classes.\n",
      "Found 2000 images belonging to 4 classes.\n",
      "Found 800 images belonging to 4 classes.\n"
     ]
    }
   ],
   "source": [
    "train_dataset, val_dataset, test_dataset = train_val_test_generator(\"/home/emilyma/code/FlorenceBoutin/GI_disease_detection/raw_data\")"
   ]
  },
  {
   "cell_type": "markdown",
   "id": "75c7877a",
   "metadata": {},
   "source": [
    "## Modeling"
   ]
  },
  {
   "cell_type": "code",
   "execution_count": 8,
   "id": "10036d45",
   "metadata": {},
   "outputs": [],
   "source": [
    "from tensorflow.keras import models\n",
    "from tensorflow.keras import Sequential, layers, regularizers\n",
    "from tensorflow.keras import optimizers\n",
    "from tensorflow.keras.callbacks import EarlyStopping\n",
    "from tensorflow.keras import metrics"
   ]
  },
  {
   "cell_type": "code",
   "execution_count": 9,
   "id": "7f263a4a",
   "metadata": {},
   "outputs": [],
   "source": [
    "# reg_l1_l2 = regularizers.l1_l2(l1 = 0.005, l2 = 0.0005)"
   ]
  },
  {
   "cell_type": "code",
   "execution_count": 10,
   "id": "78c5c2cf",
   "metadata": {},
   "outputs": [],
   "source": [
    "es = EarlyStopping(patience = 2, restore_best_weights = True)"
   ]
  },
  {
   "cell_type": "code",
   "execution_count": 11,
   "id": "cf5b5888",
   "metadata": {},
   "outputs": [
    {
     "name": "stderr",
     "output_type": "stream",
     "text": [
      "2023-03-07 12:44:37.186605: W tensorflow/compiler/xla/stream_executor/platform/default/dso_loader.cc:64] Could not load dynamic library 'libcuda.so.1'; dlerror: libcuda.so.1: cannot open shared object file: No such file or directory\n",
      "2023-03-07 12:44:37.187279: W tensorflow/compiler/xla/stream_executor/cuda/cuda_driver.cc:265] failed call to cuInit: UNKNOWN ERROR (303)\n",
      "2023-03-07 12:44:37.187710: I tensorflow/compiler/xla/stream_executor/cuda/cuda_diagnostics.cc:156] kernel driver does not appear to be running on this host (DESKTOP-FEC965N): /proc/driver/nvidia/version does not exist\n",
      "2023-03-07 12:44:37.191596: I tensorflow/core/platform/cpu_feature_guard.cc:193] This TensorFlow binary is optimized with oneAPI Deep Neural Network Library (oneDNN) to use the following CPU instructions in performance-critical operations:  AVX2 FMA\n",
      "To enable them in other operations, rebuild TensorFlow with the appropriate compiler flags.\n"
     ]
    }
   ],
   "source": [
    "model = Sequential()\n",
    "model.add(layers.Conv2D(128, kernel_size = (3, 3), input_shape = (224, 224, 3), activation = \"relu\", padding = \"same\"))\n",
    "model.add(layers.Conv2D(64, kernel_size = (3, 3), activation = \"relu\"))\n",
    "model.add(layers.MaxPool2D(pool_size = (2, 2)))\n",
    "model.add(layers.Dropout(rate = 0.2))\n",
    "model.add(layers.Conv2D(32, kernel_size = (2, 2), activation = \"relu\"))\n",
    "model.add(layers.MaxPool2D(pool_size = (2, 2)))\n",
    "model.add(layers.Dropout(rate = 0.2))\n",
    "model.add(layers.Conv2D(16, kernel_size = (2, 2), activation = \"relu\"))\n",
    "model.add(layers.MaxPool2D(pool_size = (2, 2)))\n",
    "model.add(layers.Dropout(rate = 0.2))\n",
    "model.add(layers.Flatten())\n",
    "# model.add(layers.Dense(15, activation = \"relu\", activity_regularizer = reg_l1_l2))\n",
    "model.add(layers.Dense(8, activation = \"relu\"))\n",
    "model.add(layers.Dense(4, activation = \"softmax\"))"
   ]
  },
  {
   "cell_type": "code",
   "execution_count": 12,
   "id": "510463ce",
   "metadata": {},
   "outputs": [
    {
     "name": "stdout",
     "output_type": "stream",
     "text": [
      "Model: \"sequential\"\n",
      "_________________________________________________________________\n",
      " Layer (type)                Output Shape              Param #   \n",
      "=================================================================\n",
      " conv2d (Conv2D)             (None, 224, 224, 128)     3584      \n",
      "                                                                 \n",
      " conv2d_1 (Conv2D)           (None, 222, 222, 64)      73792     \n",
      "                                                                 \n",
      " max_pooling2d (MaxPooling2D  (None, 111, 111, 64)     0         \n",
      " )                                                               \n",
      "                                                                 \n",
      " dropout (Dropout)           (None, 111, 111, 64)      0         \n",
      "                                                                 \n",
      " conv2d_2 (Conv2D)           (None, 110, 110, 32)      8224      \n",
      "                                                                 \n",
      " max_pooling2d_1 (MaxPooling  (None, 55, 55, 32)       0         \n",
      " 2D)                                                             \n",
      "                                                                 \n",
      " dropout_1 (Dropout)         (None, 55, 55, 32)        0         \n",
      "                                                                 \n",
      " conv2d_3 (Conv2D)           (None, 54, 54, 16)        2064      \n",
      "                                                                 \n",
      " max_pooling2d_2 (MaxPooling  (None, 27, 27, 16)       0         \n",
      " 2D)                                                             \n",
      "                                                                 \n",
      " dropout_2 (Dropout)         (None, 27, 27, 16)        0         \n",
      "                                                                 \n",
      " flatten (Flatten)           (None, 11664)             0         \n",
      "                                                                 \n",
      " dense (Dense)               (None, 8)                 93320     \n",
      "                                                                 \n",
      " dense_1 (Dense)             (None, 4)                 36        \n",
      "                                                                 \n",
      "=================================================================\n",
      "Total params: 181,020\n",
      "Trainable params: 181,020\n",
      "Non-trainable params: 0\n",
      "_________________________________________________________________\n"
     ]
    }
   ],
   "source": [
    "model.summary()"
   ]
  },
  {
   "cell_type": "code",
   "execution_count": 13,
   "id": "845f0138",
   "metadata": {},
   "outputs": [],
   "source": [
    "model.compile(loss = \"categorical_crossentropy\", optimizer = \"adam\", metrics = [metrics.Accuracy(), metrics.Recall()])"
   ]
  },
  {
   "cell_type": "code",
   "execution_count": null,
   "id": "8532f8d8",
   "metadata": {},
   "outputs": [
    {
     "name": "stdout",
     "output_type": "stream",
     "text": [
      "Epoch 1/10\n"
     ]
    },
    {
     "name": "stderr",
     "output_type": "stream",
     "text": [
      "2023-03-07 12:44:44.317640: W tensorflow/tsl/framework/cpu_allocator_impl.cc:82] Allocation of 822083584 exceeds 10% of free system memory.\n",
      "2023-03-07 12:44:44.699960: W tensorflow/tsl/framework/cpu_allocator_impl.cc:82] Allocation of 403734528 exceeds 10% of free system memory.\n",
      "2023-03-07 12:44:47.881632: W tensorflow/tsl/framework/cpu_allocator_impl.cc:82] Allocation of 403734528 exceeds 10% of free system memory.\n",
      "2023-03-07 12:44:48.583062: W tensorflow/tsl/framework/cpu_allocator_impl.cc:82] Allocation of 822083584 exceeds 10% of free system memory.\n"
     ]
    },
    {
     "name": "stdout",
     "output_type": "stream",
     "text": [
      "\r",
      "  1/100 [..............................] - ETA: 30:42 - loss: 1.3737 - accuracy: 0.0000e+00 - recall: 0.0000e+00"
     ]
    },
    {
     "name": "stderr",
     "output_type": "stream",
     "text": [
      "2023-03-07 12:45:01.430757: W tensorflow/tsl/framework/cpu_allocator_impl.cc:82] Allocation of 822083584 exceeds 10% of free system memory.\n"
     ]
    },
    {
     "name": "stdout",
     "output_type": "stream",
     "text": [
      " 17/100 [====>.........................] - ETA: 17:51 - loss: 1.2293 - accuracy: 0.0000e+00 - recall: 0.1562"
     ]
    }
   ],
   "source": [
    "model.fit(train_dataset, validation_data = val_dataset, epochs = 10, callbacks = [es])"
   ]
  },
  {
   "cell_type": "code",
   "execution_count": 19,
   "id": "e8f7a3a8",
   "metadata": {},
   "outputs": [
    {
     "name": "stdout",
     "output_type": "stream",
     "text": [
      "25/25 [==============================] - 10s 400ms/step - loss: 1.1288 - accuracy: 0.0000e+00 - recall_1: 0.2800\n"
     ]
    },
    {
     "data": {
      "text/plain": [
       "[1.1287957429885864, 0.0, 0.2800000011920929]"
      ]
     },
     "execution_count": 19,
     "metadata": {},
     "output_type": "execute_result"
    }
   ],
   "source": [
    "model.evaluate(test_dataset)"
   ]
  },
  {
   "cell_type": "code",
   "execution_count": 22,
   "id": "ca7d0cd8",
   "metadata": {},
   "outputs": [],
   "source": [
    "model_3 = Sequential()\n",
    "model_3.add(layers.Conv2D(64, kernel_size=(3,3), input_shape=(224, 224, 3), activation='relu', padding='same'))\n",
    "model_3.add(layers.MaxPool2D(pool_size=(3,3)))\n",
    "model_3.add(layers.Dropout(rate=0.3))\n",
    "model_3.add(layers.Conv2D(32, kernel_size=(2,2), activation='relu'))\n",
    "model_3.add(layers.MaxPool2D(pool_size=(2,2)))\n",
    "model_3.add(layers.Conv2D(16, kernel_size=(2,2), activation='relu'))\n",
    "model_3.add(layers.MaxPool2D(pool_size=(2,2)))\n",
    "model_3.add(layers.Flatten())\n",
    "model_3.add(layers.Dense(15, activation='relu'))\n",
    "model_3.add(layers.Dropout(rate=0.3))\n",
    "model_3.add(layers.Dense(5, activation='relu'))\n",
    "model_3.add(layers.Dense(4, activation='softmax'))"
   ]
  },
  {
   "cell_type": "code",
   "execution_count": 23,
   "id": "4cfa7493",
   "metadata": {},
   "outputs": [
    {
     "name": "stdout",
     "output_type": "stream",
     "text": [
      "Model: \"sequential_4\"\n",
      "_________________________________________________________________\n",
      " Layer (type)                Output Shape              Param #   \n",
      "=================================================================\n",
      " conv2d_12 (Conv2D)          (None, 224, 224, 64)      1792      \n",
      "                                                                 \n",
      "                                                                 \n",
      " g2D)                                                            \n",
      "                                                                 \n",
      " dropout_8 (Dropout)         (None, 74, 74, 64)        0         \n",
      "                                                                 \n",
      " conv2d_13 (Conv2D)          (None, 73, 73, 32)        8224      \n",
      "                                                                 \n",
      " max_pooling2d_13 (MaxPoolin  (None, 36, 36, 32)       0         \n",
      " g2D)                                                            \n",
      "                                                                 \n",
      " conv2d_14 (Conv2D)          (None, 35, 35, 16)        2064      \n",
      "                                                                 \n",
      " max_pooling2d_14 (MaxPoolin  (None, 17, 17, 16)       0         \n",
      " g2D)                                                            \n",
      "                                                                 \n",
      " flatten_4 (Flatten)         (None, 4624)              0         \n",
      "                                                                 \n",
      " dense_12 (Dense)            (None, 15)                69375     \n",
      "                                                                 \n",
      " dropout_9 (Dropout)         (None, 15)                0         \n",
      "                                                                 \n",
      " dense_13 (Dense)            (None, 5)                 80        \n",
      "                                                                 \n",
      " dense_14 (Dense)            (None, 4)                 24        \n",
      "                                                                 \n",
      "=================================================================\n",
      "Total params: 81,559\n",
      "Trainable params: 81,559\n",
      "Non-trainable params: 0\n",
      "_________________________________________________________________\n"
     ]
    }
   ],
   "source": [
    "model_3.summary()"
   ]
  },
  {
   "cell_type": "code",
   "execution_count": 24,
   "id": "6d2253fd",
   "metadata": {},
   "outputs": [],
   "source": [
    "model_3.compile(loss='categorical_crossentropy',\n",
    "               optimizer='adam',\n",
    "               metrics=[metrics.Accuracy(), metrics.Recall()])"
   ]
  },
  {
   "cell_type": "code",
   "execution_count": 25,
   "id": "81d53f75",
   "metadata": {},
   "outputs": [
    {
     "name": "stdout",
     "output_type": "stream",
     "text": [
      "Epoch 1/10\n"
     ]
    },
    {
     "name": "stderr",
     "output_type": "stream",
     "text": [
      "2023-03-07 11:44:13.593006: W tensorflow/tsl/framework/cpu_allocator_impl.cc:82] Allocation of 411041792 exceeds 10% of free system memory.\n",
      "2023-03-07 11:44:14.106467: W tensorflow/tsl/framework/cpu_allocator_impl.cc:82] Allocation of 411041792 exceeds 10% of free system memory.\n"
     ]
    },
    {
     "name": "stdout",
     "output_type": "stream",
     "text": [
      "\r",
      "  1/100 [..............................] - ETA: 3:38 - loss: 1.3842 - accuracy: 0.0000e+00 - recall: 0.0000e+00"
     ]
    },
    {
     "name": "stderr",
     "output_type": "stream",
     "text": [
      "2023-03-07 11:44:14.569127: W tensorflow/tsl/framework/cpu_allocator_impl.cc:82] Allocation of 411041792 exceeds 10% of free system memory.\n",
      "2023-03-07 11:44:15.042432: W tensorflow/tsl/framework/cpu_allocator_impl.cc:82] Allocation of 411041792 exceeds 10% of free system memory.\n"
     ]
    },
    {
     "name": "stdout",
     "output_type": "stream",
     "text": [
      "\b\b\b\b\b\b\b\b\b\b\b\b\b\b\b\b\b\b\b\b\b\b\b\b\b\b\b\b\b\b\b\b\b\b\b\b\b\b\b\b\b\b\b\b\b\b\b\b\b\b\b\b\b\b\b\b\b\b\b\b\b\b\b\b\b\b\b\b\b\b\b\b\b\b\b\b\b\b\b\b\b\b\b\b\b\b\b\b\b\b\b\b\b\b\b\b\b\b\b\b\b\b\b\b\b\b\b\b\b\b\b\r",
      "  2/100 [..............................] - ETA: 1:45 - loss: 1.3763 - accuracy: 0.0000e+00 - recall: 0.0000e+00"
     ]
    },
    {
     "name": "stderr",
     "output_type": "stream",
     "text": [
      "2023-03-07 11:44:15.649305: W tensorflow/tsl/framework/cpu_allocator_impl.cc:82] Allocation of 411041792 exceeds 10% of free system memory.\n"
     ]
    },
    {
     "name": "stdout",
     "output_type": "stream",
     "text": [
      "100/100 [==============================] - 155s 2s/step - loss: 0.9652 - accuracy: 0.0000e+00 - recall: 0.3016 - val_loss: 0.8190 - val_accuracy: 0.0000e+00 - val_recall: 0.4700\n",
      "Epoch 2/10\n",
      "100/100 [==============================] - 150s 2s/step - loss: 0.6682 - accuracy: 0.0000e+00 - recall: 0.4897 - val_loss: 0.6833 - val_accuracy: 0.0000e+00 - val_recall: 0.5720\n",
      "Epoch 3/10\n",
      "100/100 [==============================] - 162s 2s/step - loss: 0.5004 - accuracy: 3.1250e-04 - recall: 0.7456 - val_loss: 0.5189 - val_accuracy: 0.0000e+00 - val_recall: 0.7100\n",
      "Epoch 4/10\n",
      "100/100 [==============================] - 156s 2s/step - loss: 0.3364 - accuracy: 0.0010 - recall: 0.8238 - val_loss: 0.5221 - val_accuracy: 0.0000e+00 - val_recall: 0.7100\n",
      "Epoch 5/10\n",
      "100/100 [==============================] - 144s 1s/step - loss: 0.3432 - accuracy: 0.0037 - recall: 0.8203 - val_loss: 0.8757 - val_accuracy: 0.0000e+00 - val_recall: 0.6880\n"
     ]
    },
    {
     "data": {
      "text/plain": [
       "<keras.callbacks.History at 0x7f8bcd940c70>"
      ]
     },
     "execution_count": 25,
     "metadata": {},
     "output_type": "execute_result"
    }
   ],
   "source": [
    "model_3.fit(train_dataset, validation_data = val_dataset, epochs = 10, callbacks = [es])"
   ]
  },
  {
   "cell_type": "code",
   "execution_count": 26,
   "id": "efed1204",
   "metadata": {},
   "outputs": [
    {
     "name": "stdout",
     "output_type": "stream",
     "text": [
      "25/25 [==============================] - 12s 488ms/step - loss: 0.4699 - accuracy: 0.0000e+00 - recall: 0.7300\n"
     ]
    },
    {
     "data": {
      "text/plain": [
       "[0.4698968827724457, 0.0, 0.7300000190734863]"
      ]
     },
     "execution_count": 26,
     "metadata": {},
     "output_type": "execute_result"
    }
   ],
   "source": [
    "model_3.evaluate(test_dataset)"
   ]
  },
  {
   "cell_type": "code",
   "execution_count": null,
   "id": "2eb44e60",
   "metadata": {},
   "outputs": [],
   "source": []
  }
 ],
 "metadata": {
  "kernelspec": {
   "display_name": "Python 3 (ipykernel)",
   "language": "python",
   "name": "python3"
  },
  "language_info": {
   "codemirror_mode": {
    "name": "ipython",
    "version": 3
   },
   "file_extension": ".py",
   "mimetype": "text/x-python",
   "name": "python",
   "nbconvert_exporter": "python",
   "pygments_lexer": "ipython3",
   "version": "3.10.6"
  },
  "toc": {
   "base_numbering": 1,
   "nav_menu": {},
   "number_sections": true,
   "sideBar": true,
   "skip_h1_title": false,
   "title_cell": "Table of Contents",
   "title_sidebar": "Contents",
   "toc_cell": false,
   "toc_position": {},
   "toc_section_display": true,
   "toc_window_display": false
  },
  "varInspector": {
   "cols": {
    "lenName": 16,
    "lenType": 16,
    "lenVar": 40
   },
   "kernels_config": {
    "python": {
     "delete_cmd_postfix": "",
     "delete_cmd_prefix": "del ",
     "library": "var_list.py",
     "varRefreshCmd": "print(var_dic_list())"
    },
    "r": {
     "delete_cmd_postfix": ") ",
     "delete_cmd_prefix": "rm(",
     "library": "var_list.r",
     "varRefreshCmd": "cat(var_dic_list()) "
    }
   },
   "types_to_exclude": [
    "module",
    "function",
    "builtin_function_or_method",
    "instance",
    "_Feature"
   ],
   "window_display": false
  }
 },
 "nbformat": 4,
 "nbformat_minor": 5
}
