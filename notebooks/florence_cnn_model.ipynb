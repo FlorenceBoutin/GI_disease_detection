{
 "cells": [
  {
   "cell_type": "markdown",
   "id": "90a2c5f6",
   "metadata": {},
   "source": [
    "# Build CNN model"
   ]
  },
  {
   "cell_type": "markdown",
   "id": "83892132",
   "metadata": {},
   "source": [
    "Create first versions of the CNN model and test different hyperparameters"
   ]
  },
  {
   "cell_type": "code",
   "execution_count": 19,
   "id": "3ccdac34",
   "metadata": {},
   "outputs": [],
   "source": [
    "# Imports\n",
    "\n",
    "import numpy as np\n",
    "import tensorflow as tf\n",
    "\n",
    "from tensorflow.keras import optimizers\n",
    "from tensorflow.keras.preprocessing.image import ImageDataGenerator\n",
    "from tensorflow.keras import models\n",
    "from tensorflow.keras import Sequential, layers\n",
    "from tensorflow.keras.callbacks import EarlyStopping"
   ]
  },
  {
   "cell_type": "markdown",
   "id": "aa050266",
   "metadata": {},
   "source": [
    "## Import data"
   ]
  },
  {
   "cell_type": "code",
   "execution_count": 2,
   "id": "05bfd813",
   "metadata": {},
   "outputs": [
    {
     "name": "stdout",
     "output_type": "stream",
     "text": [
      "Found 2400 images belonging to 3 classes.\n",
      "Found 1500 images belonging to 3 classes.\n"
     ]
    }
   ],
   "source": [
    "train_folder = '/home/florenceboutin/code/FlorenceBoutin/GI_disease_detection/raw_data/train'\n",
    "val_folder = '/home/florenceboutin/code/FlorenceBoutin/GI_disease_detection/raw_data/val'\n",
    "\n",
    "datagen = ImageDataGenerator(rescale = 1. / 255)\n",
    "train_dataset = datagen.flow_from_directory(train_folder,\n",
    "                                         target_size = (224, 224),\n",
    "                                         color_mode = \"rgb\",\n",
    "                                         batch_size = 32,\n",
    "                                         class_mode = \"categorical\")\n",
    "\n",
    "val_dataset = datagen.flow_from_directory(val_folder,\n",
    "                                         target_size = (224, 224),\n",
    "                                         color_mode = \"rgb\",\n",
    "                                         batch_size = 32,\n",
    "                                         class_mode = \"categorical\")"
   ]
  },
  {
   "cell_type": "markdown",
   "id": "175bbe9c",
   "metadata": {},
   "source": [
    "## Create model"
   ]
  },
  {
   "cell_type": "code",
   "execution_count": 29,
   "id": "c1b9f35a",
   "metadata": {},
   "outputs": [],
   "source": [
    "recall = tf.keras.metrics.Recall()\n",
    "es = EarlyStopping(patience=5, restore_best_weights=True)\n",
    "adam_opt = optimizers.Adam(learning_rate=0.0001)\n",
    "adam_opt_1 = optimizers.Adam(learning_rate=0.01)\n",
    "adam_opt_2 = optimizers.Adam(learning_rate=0.005)"
   ]
  },
  {
   "cell_type": "markdown",
   "id": "825a6343",
   "metadata": {
    "heading_collapsed": true
   },
   "source": [
    "### Model 1 : \n",
    "- val_recall: 0.6607\n",
    "- val_accuracy: 0.6607"
   ]
  },
  {
   "cell_type": "code",
   "execution_count": 3,
   "id": "8c9f84fc",
   "metadata": {
    "hidden": true
   },
   "outputs": [
    {
     "name": "stderr",
     "output_type": "stream",
     "text": [
      "2023-03-07 10:15:04.883700: W tensorflow/stream_executor/platform/default/dso_loader.cc:64] Could not load dynamic library 'libcuda.so.1'; dlerror: libcuda.so.1: cannot open shared object file: No such file or directory\n",
      "2023-03-07 10:15:04.883782: W tensorflow/stream_executor/cuda/cuda_driver.cc:263] failed call to cuInit: UNKNOWN ERROR (303)\n",
      "2023-03-07 10:15:04.883803: I tensorflow/stream_executor/cuda/cuda_diagnostics.cc:156] kernel driver does not appear to be running on this host (ASUS_Flo): /proc/driver/nvidia/version does not exist\n",
      "2023-03-07 10:15:04.884204: I tensorflow/core/platform/cpu_feature_guard.cc:193] This TensorFlow binary is optimized with oneAPI Deep Neural Network Library (oneDNN) to use the following CPU instructions in performance-critical operations:  AVX2 AVX512F AVX512_VNNI FMA\n",
      "To enable them in other operations, rebuild TensorFlow with the appropriate compiler flags.\n"
     ]
    }
   ],
   "source": [
    "model_1 = Sequential()"
   ]
  },
  {
   "cell_type": "code",
   "execution_count": 4,
   "id": "92fd7f0e",
   "metadata": {
    "hidden": true,
    "scrolled": false
   },
   "outputs": [
    {
     "name": "stdout",
     "output_type": "stream",
     "text": [
      "Model: \"sequential\"\n",
      "_________________________________________________________________\n",
      " Layer (type)                Output Shape              Param #   \n",
      "=================================================================\n",
      " conv2d (Conv2D)             (None, 224, 224, 6)       294       \n",
      "                                                                 \n",
      " max_pooling2d (MaxPooling2D  (None, 112, 112, 6)      0         \n",
      " )                                                               \n",
      "                                                                 \n",
      " conv2d_1 (Conv2D)           (None, 110, 110, 32)      1760      \n",
      "                                                                 \n",
      " max_pooling2d_1 (MaxPooling  (None, 55, 55, 32)       0         \n",
      " 2D)                                                             \n",
      "                                                                 \n",
      " flatten (Flatten)           (None, 96800)             0         \n",
      "                                                                 \n",
      " dense (Dense)               (None, 10)                968010    \n",
      "                                                                 \n",
      " dense_1 (Dense)             (None, 3)                 33        \n",
      "                                                                 \n",
      "=================================================================\n",
      "Total params: 970,097\n",
      "Trainable params: 970,097\n",
      "Non-trainable params: 0\n",
      "_________________________________________________________________\n"
     ]
    }
   ],
   "source": [
    "model_1.add(layers.Conv2D(6, kernel_size=(4, 4), input_shape=(224, 224, 3), activation='relu', padding='same'))\n",
    "model_1.add(layers.MaxPool2D(pool_size=(2,2)))\n",
    "model_1.add(layers.Conv2D(32, kernel_size=(3,3), activation='relu'))\n",
    "model_1.add(layers.MaxPool2D(pool_size=(2,2)))\n",
    "\n",
    "model_1.add(layers.Flatten())\n",
    "model_1.add(layers.Dense(10, activation='relu'))\n",
    "model_1.add(layers.Dense(3, activation='softmax'))\n",
    "\n",
    "model_1.summary()"
   ]
  },
  {
   "cell_type": "code",
   "execution_count": 9,
   "id": "fe85232a",
   "metadata": {
    "hidden": true
   },
   "outputs": [],
   "source": [
    "model_1.compile(loss='categorical_crossentropy',\n",
    "               optimizer='adam',\n",
    "               metrics=[recall, 'accuracy'])"
   ]
  },
  {
   "cell_type": "code",
   "execution_count": 11,
   "id": "8ac24258",
   "metadata": {
    "hidden": true
   },
   "outputs": [
    {
     "name": "stdout",
     "output_type": "stream",
     "text": [
      "Epoch 1/20\n",
      "75/75 [==============================] - 21s 266ms/step - loss: 0.7547 - recall: 0.3812 - accuracy: 0.5967 - val_loss: 0.5918 - val_recall: 0.6413 - val_accuracy: 0.6507\n",
      "Epoch 2/20\n",
      "75/75 [==============================] - 15s 203ms/step - loss: 0.4317 - recall: 0.6654 - accuracy: 0.6783 - val_loss: 0.6073 - val_recall: 0.6667 - val_accuracy: 0.6667\n",
      "Epoch 3/20\n",
      "75/75 [==============================] - 15s 205ms/step - loss: 0.3430 - recall: 0.6662 - accuracy: 0.7467 - val_loss: 0.7796 - val_recall: 0.6653 - val_accuracy: 0.6653\n",
      "Epoch 4/20\n",
      "75/75 [==============================] - 15s 199ms/step - loss: 0.2763 - recall: 0.8167 - accuracy: 0.8929 - val_loss: 2.0781 - val_recall: 0.6640 - val_accuracy: 0.6640\n",
      "Epoch 5/20\n",
      "75/75 [==============================] - 14s 191ms/step - loss: 0.2665 - recall: 0.9450 - accuracy: 0.9550 - val_loss: 1.9427 - val_recall: 0.6640 - val_accuracy: 0.6640\n",
      "Epoch 6/20\n",
      "75/75 [==============================] - 14s 191ms/step - loss: 0.1142 - recall: 0.9796 - accuracy: 0.9800 - val_loss: 3.9579 - val_recall: 0.6607 - val_accuracy: 0.6607\n"
     ]
    },
    {
     "data": {
      "text/plain": [
       "<keras.callbacks.History at 0x7fbc589f3d00>"
      ]
     },
     "execution_count": 11,
     "metadata": {},
     "output_type": "execute_result"
    }
   ],
   "source": [
    "model_1.fit(train_dataset, \n",
    "            epochs=20,\n",
    "           callbacks=[es],\n",
    "           validation_data=val_dataset)"
   ]
  },
  {
   "cell_type": "markdown",
   "id": "5530643b",
   "metadata": {
    "heading_collapsed": true
   },
   "source": [
    "### Model 2 : \n",
    "- val_recall: 0.6647 \n",
    "- val_accuracy: 0.6647"
   ]
  },
  {
   "cell_type": "code",
   "execution_count": 16,
   "id": "aded6d00",
   "metadata": {
    "hidden": true
   },
   "outputs": [
    {
     "name": "stdout",
     "output_type": "stream",
     "text": [
      "Model: \"sequential_3\"\n",
      "_________________________________________________________________\n",
      " Layer (type)                Output Shape              Param #   \n",
      "=================================================================\n",
      " conv2d_6 (Conv2D)           (None, 224, 224, 128)     3584      \n",
      "                                                                 \n",
      " max_pooling2d_6 (MaxPooling  (None, 74, 74, 128)      0         \n",
      " 2D)                                                             \n",
      "                                                                 \n",
      " conv2d_7 (Conv2D)           (None, 73, 73, 64)        32832     \n",
      "                                                                 \n",
      " max_pooling2d_7 (MaxPooling  (None, 36, 36, 64)       0         \n",
      " 2D)                                                             \n",
      "                                                                 \n",
      " flatten_3 (Flatten)         (None, 82944)             0         \n",
      "                                                                 \n",
      " dense_6 (Dense)             (None, 15)                1244175   \n",
      "                                                                 \n",
      " dense_7 (Dense)             (None, 3)                 48        \n",
      "                                                                 \n",
      "=================================================================\n",
      "Total params: 1,280,639\n",
      "Trainable params: 1,280,639\n",
      "Non-trainable params: 0\n",
      "_________________________________________________________________\n"
     ]
    }
   ],
   "source": [
    "model_2 = Sequential()\n",
    "\n",
    "model_2.add(layers.Conv2D(128, kernel_size=(3,3), input_shape=(224, 224, 3), activation='relu', padding='same'))\n",
    "model_2.add(layers.MaxPool2D(pool_size=(3,3)))\n",
    "model_2.add(layers.Conv2D(64, kernel_size=(2,2), activation='relu'))\n",
    "model_2.add(layers.MaxPool2D(pool_size=(2,2)))\n",
    "\n",
    "model_2.add(layers.Flatten())\n",
    "model_2.add(layers.Dense(15, activation='relu'))\n",
    "model_2.add(layers.Dense(3, activation='softmax'))\n",
    "\n",
    "model_2.summary()"
   ]
  },
  {
   "cell_type": "code",
   "execution_count": 17,
   "id": "79aa902d",
   "metadata": {
    "hidden": true
   },
   "outputs": [],
   "source": [
    "model_2.compile(loss='categorical_crossentropy',\n",
    "               optimizer='adam',\n",
    "               metrics=[recall, 'accuracy'])"
   ]
  },
  {
   "cell_type": "code",
   "execution_count": 18,
   "id": "c8c31532",
   "metadata": {
    "hidden": true,
    "scrolled": true
   },
   "outputs": [
    {
     "name": "stdout",
     "output_type": "stream",
     "text": [
      "Epoch 1/20\n",
      "75/75 [==============================] - 74s 945ms/step - loss: 0.2186 - recall: 0.8028 - accuracy: 0.9087 - val_loss: 1.9713 - val_recall: 0.6327 - val_accuracy: 0.6347\n",
      "Epoch 2/20\n",
      "75/75 [==============================] - 73s 971ms/step - loss: 0.0210 - recall: 0.9933 - accuracy: 0.9933 - val_loss: 3.3000 - val_recall: 0.6647 - val_accuracy: 0.6647\n",
      "Epoch 3/20\n",
      "75/75 [==============================] - 68s 906ms/step - loss: 0.0050 - recall: 0.9983 - accuracy: 0.9983 - val_loss: 5.4223 - val_recall: 0.6447 - val_accuracy: 0.6447\n",
      "Epoch 4/20\n",
      "75/75 [==============================] - 70s 934ms/step - loss: 7.4495e-04 - recall: 1.0000 - accuracy: 1.0000 - val_loss: 4.7447 - val_recall: 0.6580 - val_accuracy: 0.6580\n",
      "Epoch 5/20\n",
      "75/75 [==============================] - 71s 951ms/step - loss: 2.3319e-04 - recall: 1.0000 - accuracy: 1.0000 - val_loss: 5.4086 - val_recall: 0.6607 - val_accuracy: 0.6607\n",
      "Epoch 6/20\n",
      "75/75 [==============================] - 72s 956ms/step - loss: 1.4435e-04 - recall: 1.0000 - accuracy: 1.0000 - val_loss: 5.5761 - val_recall: 0.6607 - val_accuracy: 0.6607\n"
     ]
    },
    {
     "data": {
      "text/plain": [
       "<keras.callbacks.History at 0x7fbc58a67bb0>"
      ]
     },
     "execution_count": 18,
     "metadata": {},
     "output_type": "execute_result"
    }
   ],
   "source": [
    "model_2.fit(train_dataset, \n",
    "            epochs=20,\n",
    "           callbacks=[es],\n",
    "           validation_data=val_dataset)"
   ]
  },
  {
   "cell_type": "markdown",
   "id": "ea6f59f1",
   "metadata": {
    "heading_collapsed": true
   },
   "source": [
    "### Model 3 a : ⭐\n",
    "- val_recall: 0.7320 \n",
    "- val_accuracy: 0.7587\n",
    "- Optimizer = adam\n",
    "- Learning rate = 0.001"
   ]
  },
  {
   "cell_type": "code",
   "execution_count": 21,
   "id": "1f59ccaa",
   "metadata": {
    "hidden": true
   },
   "outputs": [
    {
     "name": "stdout",
     "output_type": "stream",
     "text": [
      "Model: \"sequential_5\"\n",
      "_________________________________________________________________\n",
      " Layer (type)                Output Shape              Param #   \n",
      "=================================================================\n",
      " conv2d_11 (Conv2D)          (None, 224, 224, 64)      1792      \n",
      "                                                                 \n",
      " max_pooling2d_11 (MaxPoolin  (None, 74, 74, 64)       0         \n",
      " g2D)                                                            \n",
      "                                                                 \n",
      " dropout_1 (Dropout)         (None, 74, 74, 64)        0         \n",
      "                                                                 \n",
      " conv2d_12 (Conv2D)          (None, 73, 73, 32)        8224      \n",
      "                                                                 \n",
      " max_pooling2d_12 (MaxPoolin  (None, 36, 36, 32)       0         \n",
      " g2D)                                                            \n",
      "                                                                 \n",
      " conv2d_13 (Conv2D)          (None, 35, 35, 16)        2064      \n",
      "                                                                 \n",
      " max_pooling2d_13 (MaxPoolin  (None, 17, 17, 16)       0         \n",
      " g2D)                                                            \n",
      "                                                                 \n",
      " flatten_5 (Flatten)         (None, 4624)              0         \n",
      "                                                                 \n",
      " dense_11 (Dense)            (None, 15)                69375     \n",
      "                                                                 \n",
      " dropout_2 (Dropout)         (None, 15)                0         \n",
      "                                                                 \n",
      " dense_12 (Dense)            (None, 5)                 80        \n",
      "                                                                 \n",
      " dense_13 (Dense)            (None, 3)                 18        \n",
      "                                                                 \n",
      "=================================================================\n",
      "Total params: 81,553\n",
      "Trainable params: 81,553\n",
      "Non-trainable params: 0\n",
      "_________________________________________________________________\n"
     ]
    }
   ],
   "source": [
    "model_3 = Sequential()\n",
    "\n",
    "model_3.add(layers.Conv2D(64, kernel_size=(3,3), input_shape=(224, 224, 3), activation='relu', padding='same'))\n",
    "model_3.add(layers.MaxPool2D(pool_size=(3,3)))\n",
    "model_3.add(layers.Dropout(0.3))\n",
    "model_3.add(layers.Conv2D(32, kernel_size=(2,2), activation='relu'))\n",
    "model_3.add(layers.MaxPool2D(pool_size=(2,2)))\n",
    "model_3.add(layers.Conv2D(16, kernel_size=(2,2), activation='relu'))\n",
    "model_3.add(layers.MaxPool2D(pool_size=(2,2)))\n",
    "\n",
    "model_3.add(layers.Flatten())\n",
    "model_3.add(layers.Dense(15, activation='relu'))\n",
    "model_3.add(layers.Dropout(0.3))\n",
    "model_3.add(layers.Dense(5, activation='relu'))\n",
    "model_3.add(layers.Dense(3, activation='softmax'))\n",
    "\n",
    "model_3.summary()"
   ]
  },
  {
   "cell_type": "code",
   "execution_count": 22,
   "id": "959b58c1",
   "metadata": {
    "hidden": true
   },
   "outputs": [],
   "source": [
    "model_3.compile(loss='categorical_crossentropy',\n",
    "               optimizer='adam',\n",
    "               metrics=[recall, 'accuracy'])"
   ]
  },
  {
   "cell_type": "code",
   "execution_count": 23,
   "id": "abed78bf",
   "metadata": {
    "hidden": true
   },
   "outputs": [
    {
     "name": "stdout",
     "output_type": "stream",
     "text": [
      "Epoch 1/20\n",
      "75/75 [==============================] - 36s 461ms/step - loss: 0.9065 - recall_1: 0.2404 - accuracy: 0.4688 - val_loss: 0.6019 - val_recall_1: 0.6200 - val_accuracy: 0.6660\n",
      "Epoch 2/20\n",
      "75/75 [==============================] - 34s 458ms/step - loss: 0.5981 - recall_1: 0.5950 - accuracy: 0.6938 - val_loss: 0.5400 - val_recall_1: 0.7240 - val_accuracy: 0.7453\n",
      "Epoch 3/20\n",
      "75/75 [==============================] - 34s 450ms/step - loss: 0.4820 - recall_1: 0.6687 - accuracy: 0.7842 - val_loss: 0.5364 - val_recall_1: 0.7320 - val_accuracy: 0.7587\n",
      "Epoch 4/20\n",
      "75/75 [==============================] - 36s 480ms/step - loss: 0.4127 - recall_1: 0.7121 - accuracy: 0.8079 - val_loss: 0.6533 - val_recall_1: 0.7273 - val_accuracy: 0.7320\n",
      "Epoch 5/20\n",
      "75/75 [==============================] - 34s 452ms/step - loss: 0.3446 - recall_1: 0.7312 - accuracy: 0.8442 - val_loss: 0.8735 - val_recall_1: 0.7080 - val_accuracy: 0.7113\n",
      "Epoch 6/20\n",
      "75/75 [==============================] - 35s 465ms/step - loss: 0.3165 - recall_1: 0.7613 - accuracy: 0.8521 - val_loss: 0.6886 - val_recall_1: 0.7213 - val_accuracy: 0.7280\n",
      "Epoch 7/20\n",
      "75/75 [==============================] - 35s 463ms/step - loss: 0.2972 - recall_1: 0.7613 - accuracy: 0.8525 - val_loss: 0.9942 - val_recall_1: 0.6593 - val_accuracy: 0.6733\n",
      "Epoch 8/20\n",
      "75/75 [==============================] - 35s 463ms/step - loss: 0.2989 - recall_1: 0.7621 - accuracy: 0.8567 - val_loss: 0.9423 - val_recall_1: 0.6993 - val_accuracy: 0.7053\n"
     ]
    },
    {
     "data": {
      "text/plain": [
       "<keras.callbacks.History at 0x7fbbff76ac20>"
      ]
     },
     "execution_count": 23,
     "metadata": {},
     "output_type": "execute_result"
    }
   ],
   "source": [
    "model_3.fit(train_dataset, \n",
    "            epochs=20,\n",
    "           callbacks=[es],\n",
    "           validation_data=val_dataset)"
   ]
  },
  {
   "cell_type": "markdown",
   "id": "a9e2e02d",
   "metadata": {
    "heading_collapsed": true
   },
   "source": [
    "### Model 3 b :\n",
    "- val_recall: 0.6887 \n",
    "- val_accuracy: 0.7027\n",
    "- Optimizer = rmsprop"
   ]
  },
  {
   "cell_type": "code",
   "execution_count": 16,
   "id": "8133c2ec",
   "metadata": {
    "hidden": true
   },
   "outputs": [
    {
     "name": "stdout",
     "output_type": "stream",
     "text": [
      "Model: \"sequential_5\"\n",
      "_________________________________________________________________\n",
      " Layer (type)                Output Shape              Param #   \n",
      "=================================================================\n",
      " conv2d_19 (Conv2D)          (None, 224, 224, 64)      1792      \n",
      "                                                                 \n",
      " max_pooling2d_16 (MaxPoolin  (None, 74, 74, 64)       0         \n",
      " g2D)                                                            \n",
      "                                                                 \n",
      " dropout_18 (Dropout)        (None, 74, 74, 64)        0         \n",
      "                                                                 \n",
      " conv2d_20 (Conv2D)          (None, 73, 73, 32)        8224      \n",
      "                                                                 \n",
      " max_pooling2d_17 (MaxPoolin  (None, 36, 36, 32)       0         \n",
      " g2D)                                                            \n",
      "                                                                 \n",
      " conv2d_21 (Conv2D)          (None, 35, 35, 16)        2064      \n",
      "                                                                 \n",
      " max_pooling2d_18 (MaxPoolin  (None, 17, 17, 16)       0         \n",
      " g2D)                                                            \n",
      "                                                                 \n",
      " flatten_5 (Flatten)         (None, 4624)              0         \n",
      "                                                                 \n",
      " dense_15 (Dense)            (None, 15)                69375     \n",
      "                                                                 \n",
      " dropout_19 (Dropout)        (None, 15)                0         \n",
      "                                                                 \n",
      " dense_16 (Dense)            (None, 5)                 80        \n",
      "                                                                 \n",
      " dense_17 (Dense)            (None, 3)                 18        \n",
      "                                                                 \n",
      "=================================================================\n",
      "Total params: 81,553\n",
      "Trainable params: 81,553\n",
      "Non-trainable params: 0\n",
      "_________________________________________________________________\n"
     ]
    }
   ],
   "source": [
    "model_3b = Sequential()\n",
    "\n",
    "model_3b.add(layers.Conv2D(64, kernel_size=(3,3), input_shape=(224, 224, 3), activation='relu', padding='same'))\n",
    "model_3b.add(layers.MaxPool2D(pool_size=(3,3)))\n",
    "model_3b.add(layers.Dropout(0.3))\n",
    "model_3b.add(layers.Conv2D(32, kernel_size=(2,2), activation='relu'))\n",
    "model_3b.add(layers.MaxPool2D(pool_size=(2,2)))\n",
    "model_3b.add(layers.Conv2D(16, kernel_size=(2,2), activation='relu'))\n",
    "model_3b.add(layers.MaxPool2D(pool_size=(2,2)))\n",
    "\n",
    "model_3b.add(layers.Flatten())\n",
    "model_3b.add(layers.Dense(15, activation='relu'))\n",
    "model_3b.add(layers.Dropout(0.3))\n",
    "model_3b.add(layers.Dense(5, activation='relu'))\n",
    "model_3b.add(layers.Dense(3, activation='softmax'))\n",
    "\n",
    "model_3b.summary()"
   ]
  },
  {
   "cell_type": "code",
   "execution_count": 17,
   "id": "cc9fabdd",
   "metadata": {
    "hidden": true
   },
   "outputs": [],
   "source": [
    "model_3b.compile(loss='categorical_crossentropy',\n",
    "               optimizer='rmsprop',\n",
    "               metrics=[recall, 'accuracy'])"
   ]
  },
  {
   "cell_type": "code",
   "execution_count": 18,
   "id": "ba369e1a",
   "metadata": {
    "hidden": true
   },
   "outputs": [
    {
     "name": "stdout",
     "output_type": "stream",
     "text": [
      "Epoch 1/20\n",
      "75/75 [==============================] - 35s 456ms/step - loss: 0.7707 - recall: 0.5108 - accuracy: 0.5950 - val_loss: 0.6328 - val_recall: 0.5407 - val_accuracy: 0.6687\n",
      "Epoch 2/20\n",
      "75/75 [==============================] - 34s 446ms/step - loss: 0.4917 - recall: 0.6629 - accuracy: 0.7396 - val_loss: 0.6504 - val_recall: 0.6533 - val_accuracy: 0.6647\n",
      "Epoch 3/20\n",
      "75/75 [==============================] - 33s 446ms/step - loss: 0.4274 - recall: 0.7058 - accuracy: 0.7788 - val_loss: 0.8401 - val_recall: 0.6020 - val_accuracy: 0.6273\n",
      "Epoch 4/20\n",
      "75/75 [==============================] - 34s 456ms/step - loss: 0.3433 - recall: 0.7800 - accuracy: 0.8408 - val_loss: 0.8419 - val_recall: 0.6887 - val_accuracy: 0.7027\n",
      "Epoch 5/20\n",
      "75/75 [==============================] - 35s 463ms/step - loss: 0.2773 - recall: 0.8442 - accuracy: 0.8737 - val_loss: 1.3675 - val_recall: 0.6387 - val_accuracy: 0.6533\n",
      "Epoch 6/20\n",
      "75/75 [==============================] - 35s 469ms/step - loss: 0.1971 - recall: 0.9092 - accuracy: 0.9150 - val_loss: 1.2847 - val_recall: 0.6633 - val_accuracy: 0.6673\n",
      "Epoch 7/20\n",
      "75/75 [==============================] - 36s 484ms/step - loss: 0.1641 - recall: 0.9304 - accuracy: 0.9325 - val_loss: 1.9145 - val_recall: 0.6680 - val_accuracy: 0.6680\n",
      "Epoch 8/20\n",
      "75/75 [==============================] - 36s 483ms/step - loss: 0.1359 - recall: 0.9375 - accuracy: 0.9433 - val_loss: 1.8113 - val_recall: 0.6653 - val_accuracy: 0.6660\n",
      "Epoch 9/20\n",
      "75/75 [==============================] - 37s 488ms/step - loss: 0.0920 - recall: 0.9592 - accuracy: 0.9642 - val_loss: 2.9522 - val_recall: 0.6833 - val_accuracy: 0.6833\n",
      "Epoch 10/20\n",
      "75/75 [==============================] - 35s 471ms/step - loss: 0.0798 - recall: 0.9550 - accuracy: 0.9592 - val_loss: 2.4728 - val_recall: 0.6660 - val_accuracy: 0.6707\n",
      "Epoch 11/20\n",
      "75/75 [==============================] - 2514s 34s/step - loss: 0.0787 - recall: 0.9642 - accuracy: 0.9692 - val_loss: 2.3200 - val_recall: 0.6680 - val_accuracy: 0.6767\n"
     ]
    },
    {
     "data": {
      "text/plain": [
       "<keras.callbacks.History at 0x7f8619fb8040>"
      ]
     },
     "execution_count": 18,
     "metadata": {},
     "output_type": "execute_result"
    }
   ],
   "source": [
    "model_3b.fit(train_dataset, \n",
    "            epochs=20,\n",
    "           callbacks=[es_10],\n",
    "           validation_data=val_dataset)"
   ]
  },
  {
   "cell_type": "markdown",
   "id": "ab10f4be",
   "metadata": {
    "heading_collapsed": true
   },
   "source": [
    "### Model 3 c :\n",
    "- val_recall: 0.2593 \n",
    "- val_accuracy: 0.7587\n",
    "- Optimizer = adam\n",
    "- Learning rate = 0.0001"
   ]
  },
  {
   "cell_type": "code",
   "execution_count": 21,
   "id": "db7fe52c",
   "metadata": {
    "hidden": true
   },
   "outputs": [
    {
     "name": "stdout",
     "output_type": "stream",
     "text": [
      "Model: \"sequential_6\"\n",
      "_________________________________________________________________\n",
      " Layer (type)                Output Shape              Param #   \n",
      "=================================================================\n",
      " conv2d_22 (Conv2D)          (None, 224, 224, 64)      1792      \n",
      "                                                                 \n",
      " max_pooling2d_19 (MaxPoolin  (None, 74, 74, 64)       0         \n",
      " g2D)                                                            \n",
      "                                                                 \n",
      " dropout_20 (Dropout)        (None, 74, 74, 64)        0         \n",
      "                                                                 \n",
      " conv2d_23 (Conv2D)          (None, 73, 73, 32)        8224      \n",
      "                                                                 \n",
      " max_pooling2d_20 (MaxPoolin  (None, 36, 36, 32)       0         \n",
      " g2D)                                                            \n",
      "                                                                 \n",
      " conv2d_24 (Conv2D)          (None, 35, 35, 16)        2064      \n",
      "                                                                 \n",
      " max_pooling2d_21 (MaxPoolin  (None, 17, 17, 16)       0         \n",
      " g2D)                                                            \n",
      "                                                                 \n",
      " flatten_6 (Flatten)         (None, 4624)              0         \n",
      "                                                                 \n",
      " dense_18 (Dense)            (None, 15)                69375     \n",
      "                                                                 \n",
      " dropout_21 (Dropout)        (None, 15)                0         \n",
      "                                                                 \n",
      " dense_19 (Dense)            (None, 5)                 80        \n",
      "                                                                 \n",
      " dense_20 (Dense)            (None, 3)                 18        \n",
      "                                                                 \n",
      "=================================================================\n",
      "Total params: 81,553\n",
      "Trainable params: 81,553\n",
      "Non-trainable params: 0\n",
      "_________________________________________________________________\n"
     ]
    }
   ],
   "source": [
    "model_3c = Sequential()\n",
    "\n",
    "model_3c.add(layers.Conv2D(64, kernel_size=(3,3), input_shape=(224, 224, 3), activation='relu', padding='same'))\n",
    "model_3c.add(layers.MaxPool2D(pool_size=(3,3)))\n",
    "model_3c.add(layers.Dropout(0.3))\n",
    "model_3c.add(layers.Conv2D(32, kernel_size=(2,2), activation='relu'))\n",
    "model_3c.add(layers.MaxPool2D(pool_size=(2,2)))\n",
    "model_3c.add(layers.Conv2D(16, kernel_size=(2,2), activation='relu'))\n",
    "model_3c.add(layers.MaxPool2D(pool_size=(2,2)))\n",
    "\n",
    "model_3c.add(layers.Flatten())\n",
    "model_3c.add(layers.Dense(15, activation='relu'))\n",
    "model_3c.add(layers.Dropout(0.3))\n",
    "model_3c.add(layers.Dense(5, activation='relu'))\n",
    "model_3c.add(layers.Dense(3, activation='softmax'))\n",
    "\n",
    "model_3c.summary()"
   ]
  },
  {
   "cell_type": "code",
   "execution_count": 22,
   "id": "95942f1f",
   "metadata": {
    "hidden": true
   },
   "outputs": [],
   "source": [
    "model_3c.compile(loss='categorical_crossentropy',\n",
    "               optimizer=adam_opt,\n",
    "               metrics=[recall, 'accuracy'])"
   ]
  },
  {
   "cell_type": "code",
   "execution_count": 23,
   "id": "e132739d",
   "metadata": {
    "hidden": true
   },
   "outputs": [
    {
     "name": "stdout",
     "output_type": "stream",
     "text": [
      "Epoch 1/30\n",
      "75/75 [==============================] - 34s 445ms/step - loss: 1.0053 - recall_1: 0.1187 - accuracy: 0.3988 - val_loss: 1.0328 - val_recall_1: 0.0420 - val_accuracy: 0.3627\n",
      "Epoch 2/30\n",
      "75/75 [==============================] - 36s 473ms/step - loss: 0.8533 - recall_1: 0.3129 - accuracy: 0.5142 - val_loss: 0.9957 - val_recall_1: 0.1307 - val_accuracy: 0.6300\n",
      "Epoch 3/30\n",
      "75/75 [==============================] - 33s 437ms/step - loss: 0.7882 - recall_1: 0.3913 - accuracy: 0.5775 - val_loss: 0.9499 - val_recall_1: 0.1647 - val_accuracy: 0.6047\n",
      "Epoch 4/30\n",
      "75/75 [==============================] - 33s 445ms/step - loss: 0.7411 - recall_1: 0.4596 - accuracy: 0.6371 - val_loss: 0.8990 - val_recall_1: 0.2593 - val_accuracy: 0.7587\n",
      "Epoch 5/30\n",
      "75/75 [==============================] - 34s 450ms/step - loss: 0.6950 - recall_1: 0.4958 - accuracy: 0.7008 - val_loss: 0.9297 - val_recall_1: 0.2187 - val_accuracy: 0.7247\n",
      "Epoch 6/30\n",
      "75/75 [==============================] - 33s 444ms/step - loss: 0.6660 - recall_1: 0.5154 - accuracy: 0.7242 - val_loss: 0.9810 - val_recall_1: 0.2320 - val_accuracy: 0.7207\n",
      "Epoch 7/30\n",
      "75/75 [==============================] - 34s 449ms/step - loss: 0.6376 - recall_1: 0.5387 - accuracy: 0.7492 - val_loss: 1.0930 - val_recall_1: 0.2993 - val_accuracy: 0.7093\n",
      "Epoch 8/30\n",
      "75/75 [==============================] - 34s 453ms/step - loss: 0.6006 - recall_1: 0.5596 - accuracy: 0.7942 - val_loss: 1.1494 - val_recall_1: 0.3200 - val_accuracy: 0.7013\n",
      "Epoch 9/30\n",
      "75/75 [==============================] - 36s 481ms/step - loss: 0.5660 - recall_1: 0.5692 - accuracy: 0.8142 - val_loss: 1.2952 - val_recall_1: 0.3327 - val_accuracy: 0.6847\n",
      "Epoch 10/30\n",
      "75/75 [==============================] - 36s 479ms/step - loss: 0.5520 - recall_1: 0.5883 - accuracy: 0.8562 - val_loss: 1.3419 - val_recall_1: 0.3287 - val_accuracy: 0.6727\n",
      "Epoch 11/30\n",
      "75/75 [==============================] - 37s 487ms/step - loss: 0.5191 - recall_1: 0.5942 - accuracy: 0.8800 - val_loss: 1.6545 - val_recall_1: 0.3300 - val_accuracy: 0.6593\n",
      "Epoch 12/30\n",
      "75/75 [==============================] - 35s 461ms/step - loss: 0.5051 - recall_1: 0.6067 - accuracy: 0.8929 - val_loss: 1.4538 - val_recall_1: 0.3300 - val_accuracy: 0.6640\n",
      "Epoch 13/30\n",
      "75/75 [==============================] - 35s 468ms/step - loss: 0.4730 - recall_1: 0.6171 - accuracy: 0.9225 - val_loss: 1.7311 - val_recall_1: 0.3307 - val_accuracy: 0.6607\n",
      "Epoch 14/30\n",
      "75/75 [==============================] - 39s 514ms/step - loss: 0.4501 - recall_1: 0.6296 - accuracy: 0.9388 - val_loss: 1.6164 - val_recall_1: 0.3353 - val_accuracy: 0.6680\n"
     ]
    },
    {
     "data": {
      "text/plain": [
       "<keras.callbacks.History at 0x7f84ba93f010>"
      ]
     },
     "execution_count": 23,
     "metadata": {},
     "output_type": "execute_result"
    }
   ],
   "source": [
    "model_3c.fit(train_dataset, \n",
    "            epochs=30,\n",
    "           callbacks=[es_10],\n",
    "           validation_data=val_dataset)"
   ]
  },
  {
   "cell_type": "markdown",
   "id": "6f218292",
   "metadata": {
    "heading_collapsed": true
   },
   "source": [
    "### Model 3 d :\n",
    "- val_recall_2: 0.7187 \n",
    "- val_accuracy: 0.7193\n",
    "- Optimizer = adam\n",
    "- Learning rate = 0.01"
   ]
  },
  {
   "cell_type": "code",
   "execution_count": 24,
   "id": "2dee7cb6",
   "metadata": {
    "hidden": true
   },
   "outputs": [
    {
     "name": "stdout",
     "output_type": "stream",
     "text": [
      "Model: \"sequential_7\"\n",
      "_________________________________________________________________\n",
      " Layer (type)                Output Shape              Param #   \n",
      "=================================================================\n",
      " conv2d_25 (Conv2D)          (None, 224, 224, 64)      1792      \n",
      "                                                                 \n",
      " max_pooling2d_22 (MaxPoolin  (None, 74, 74, 64)       0         \n",
      " g2D)                                                            \n",
      "                                                                 \n",
      " dropout_22 (Dropout)        (None, 74, 74, 64)        0         \n",
      "                                                                 \n",
      " conv2d_26 (Conv2D)          (None, 73, 73, 32)        8224      \n",
      "                                                                 \n",
      " max_pooling2d_23 (MaxPoolin  (None, 36, 36, 32)       0         \n",
      " g2D)                                                            \n",
      "                                                                 \n",
      " conv2d_27 (Conv2D)          (None, 35, 35, 16)        2064      \n",
      "                                                                 \n",
      " max_pooling2d_24 (MaxPoolin  (None, 17, 17, 16)       0         \n",
      " g2D)                                                            \n",
      "                                                                 \n",
      " flatten_7 (Flatten)         (None, 4624)              0         \n",
      "                                                                 \n",
      " dense_21 (Dense)            (None, 15)                69375     \n",
      "                                                                 \n",
      " dropout_23 (Dropout)        (None, 15)                0         \n",
      "                                                                 \n",
      " dense_22 (Dense)            (None, 5)                 80        \n",
      "                                                                 \n",
      " dense_23 (Dense)            (None, 3)                 18        \n",
      "                                                                 \n",
      "=================================================================\n",
      "Total params: 81,553\n",
      "Trainable params: 81,553\n",
      "Non-trainable params: 0\n",
      "_________________________________________________________________\n"
     ]
    }
   ],
   "source": [
    "model_3d = Sequential()\n",
    "\n",
    "model_3d.add(layers.Conv2D(64, kernel_size=(3,3), input_shape=(224, 224, 3), activation='relu', padding='same'))\n",
    "model_3d.add(layers.MaxPool2D(pool_size=(3,3)))\n",
    "model_3d.add(layers.Dropout(0.3))\n",
    "model_3d.add(layers.Conv2D(32, kernel_size=(2,2), activation='relu'))\n",
    "model_3d.add(layers.MaxPool2D(pool_size=(2,2)))\n",
    "model_3d.add(layers.Conv2D(16, kernel_size=(2,2), activation='relu'))\n",
    "model_3d.add(layers.MaxPool2D(pool_size=(2,2)))\n",
    "\n",
    "model_3d.add(layers.Flatten())\n",
    "model_3d.add(layers.Dense(15, activation='relu'))\n",
    "model_3d.add(layers.Dropout(0.3))\n",
    "model_3d.add(layers.Dense(5, activation='relu'))\n",
    "model_3d.add(layers.Dense(3, activation='softmax'))\n",
    "\n",
    "model_3d.summary()"
   ]
  },
  {
   "cell_type": "code",
   "execution_count": 26,
   "id": "f23a04c3",
   "metadata": {
    "hidden": true
   },
   "outputs": [],
   "source": [
    "model_3d.compile(loss='categorical_crossentropy',\n",
    "               optimizer=adam_opt_1,\n",
    "               metrics=[recall, 'accuracy'])"
   ]
  },
  {
   "cell_type": "code",
   "execution_count": 27,
   "id": "92cf0f63",
   "metadata": {
    "hidden": true
   },
   "outputs": [
    {
     "name": "stdout",
     "output_type": "stream",
     "text": [
      "Epoch 1/30\n",
      "75/75 [==============================] - 34s 451ms/step - loss: 0.7765 - recall_2: 0.3517 - accuracy: 0.6154 - val_loss: 0.7173 - val_recall_2: 0.4200 - val_accuracy: 0.6387\n",
      "Epoch 2/30\n",
      "75/75 [==============================] - 32s 432ms/step - loss: 0.3857 - recall_2: 0.7904 - accuracy: 0.8450 - val_loss: 1.0397 - val_recall_2: 0.6467 - val_accuracy: 0.6493\n",
      "Epoch 3/30\n",
      "75/75 [==============================] - 32s 433ms/step - loss: 0.2916 - recall_2: 0.8600 - accuracy: 0.8608 - val_loss: 1.5531 - val_recall_2: 0.6500 - val_accuracy: 0.6573\n",
      "Epoch 4/30\n",
      "75/75 [==============================] - 33s 435ms/step - loss: 0.2262 - recall_2: 0.8796 - accuracy: 0.8800 - val_loss: 0.9676 - val_recall_2: 0.7187 - val_accuracy: 0.7193\n",
      "Epoch 5/30\n",
      "75/75 [==============================] - 32s 433ms/step - loss: 0.1995 - recall_2: 0.8796 - accuracy: 0.8808 - val_loss: 1.3921 - val_recall_2: 0.6633 - val_accuracy: 0.6633\n",
      "Epoch 6/30\n",
      "75/75 [==============================] - 33s 443ms/step - loss: 0.1913 - recall_2: 0.8838 - accuracy: 0.8929 - val_loss: 1.8227 - val_recall_2: 0.6673 - val_accuracy: 0.6680\n",
      "Epoch 7/30\n",
      "75/75 [==============================] - 33s 440ms/step - loss: 0.2134 - recall_2: 0.9054 - accuracy: 0.9092 - val_loss: 3.1632 - val_recall_2: 0.6573 - val_accuracy: 0.6573\n",
      "Epoch 8/30\n",
      "75/75 [==============================] - 33s 446ms/step - loss: 0.1746 - recall_2: 0.9425 - accuracy: 0.9425 - val_loss: 2.4911 - val_recall_2: 0.6580 - val_accuracy: 0.6600\n",
      "Epoch 9/30\n",
      "75/75 [==============================] - 34s 452ms/step - loss: 0.1091 - recall_2: 0.9550 - accuracy: 0.9550 - val_loss: 2.6358 - val_recall_2: 0.5773 - val_accuracy: 0.6020\n",
      "Epoch 10/30\n",
      "75/75 [==============================] - 35s 462ms/step - loss: 0.0967 - recall_2: 0.9767 - accuracy: 0.9767 - val_loss: 2.1519 - val_recall_2: 0.5933 - val_accuracy: 0.6213\n",
      "Epoch 11/30\n",
      "75/75 [==============================] - 36s 481ms/step - loss: 0.0913 - recall_2: 0.9750 - accuracy: 0.9754 - val_loss: 1.9169 - val_recall_2: 0.5200 - val_accuracy: 0.5860\n"
     ]
    },
    {
     "data": {
      "text/plain": [
       "<keras.callbacks.History at 0x7f8619f785e0>"
      ]
     },
     "execution_count": 27,
     "metadata": {},
     "output_type": "execute_result"
    }
   ],
   "source": [
    "model_3d.fit(train_dataset, \n",
    "            epochs=30,\n",
    "           callbacks=[es_10],\n",
    "           validation_data=val_dataset)"
   ]
  },
  {
   "cell_type": "markdown",
   "id": "e951026a",
   "metadata": {
    "heading_collapsed": true
   },
   "source": [
    "### Model 3 e :\n",
    "- val_recall: 0.6680 \n",
    "- val_accuracy: 0.7107\n",
    "- Optimizer = adam\n",
    "- Learning rate = 0.005"
   ]
  },
  {
   "cell_type": "code",
   "execution_count": 30,
   "id": "dbd328ca",
   "metadata": {
    "hidden": true
   },
   "outputs": [
    {
     "name": "stdout",
     "output_type": "stream",
     "text": [
      "Model: \"sequential_8\"\n",
      "_________________________________________________________________\n",
      " Layer (type)                Output Shape              Param #   \n",
      "=================================================================\n",
      " conv2d_28 (Conv2D)          (None, 224, 224, 64)      1792      \n",
      "                                                                 \n",
      " max_pooling2d_25 (MaxPoolin  (None, 74, 74, 64)       0         \n",
      " g2D)                                                            \n",
      "                                                                 \n",
      " dropout_24 (Dropout)        (None, 74, 74, 64)        0         \n",
      "                                                                 \n",
      " conv2d_29 (Conv2D)          (None, 73, 73, 32)        8224      \n",
      "                                                                 \n",
      " max_pooling2d_26 (MaxPoolin  (None, 36, 36, 32)       0         \n",
      " g2D)                                                            \n",
      "                                                                 \n",
      " conv2d_30 (Conv2D)          (None, 35, 35, 16)        2064      \n",
      "                                                                 \n",
      " max_pooling2d_27 (MaxPoolin  (None, 17, 17, 16)       0         \n",
      " g2D)                                                            \n",
      "                                                                 \n",
      " flatten_8 (Flatten)         (None, 4624)              0         \n",
      "                                                                 \n",
      " dense_24 (Dense)            (None, 15)                69375     \n",
      "                                                                 \n",
      " dropout_25 (Dropout)        (None, 15)                0         \n",
      "                                                                 \n",
      " dense_25 (Dense)            (None, 5)                 80        \n",
      "                                                                 \n",
      " dense_26 (Dense)            (None, 3)                 18        \n",
      "                                                                 \n",
      "=================================================================\n",
      "Total params: 81,553\n",
      "Trainable params: 81,553\n",
      "Non-trainable params: 0\n",
      "_________________________________________________________________\n"
     ]
    }
   ],
   "source": [
    "model_3e = Sequential()\n",
    "\n",
    "model_3e.add(layers.Conv2D(64, kernel_size=(3,3), input_shape=(224, 224, 3), activation='relu', padding='same'))\n",
    "model_3e.add(layers.MaxPool2D(pool_size=(3,3)))\n",
    "model_3e.add(layers.Dropout(0.3))\n",
    "model_3e.add(layers.Conv2D(32, kernel_size=(2,2), activation='relu'))\n",
    "model_3e.add(layers.MaxPool2D(pool_size=(2,2)))\n",
    "model_3e.add(layers.Conv2D(16, kernel_size=(2,2), activation='relu'))\n",
    "model_3e.add(layers.MaxPool2D(pool_size=(2,2)))\n",
    "\n",
    "model_3e.add(layers.Flatten())\n",
    "model_3e.add(layers.Dense(15, activation='relu'))\n",
    "model_3e.add(layers.Dropout(0.3))\n",
    "model_3e.add(layers.Dense(5, activation='relu'))\n",
    "model_3e.add(layers.Dense(3, activation='softmax'))\n",
    "\n",
    "model_3e.summary()"
   ]
  },
  {
   "cell_type": "code",
   "execution_count": 31,
   "id": "9a115016",
   "metadata": {
    "hidden": true
   },
   "outputs": [],
   "source": [
    "model_3e.compile(loss='categorical_crossentropy',\n",
    "               optimizer=adam_opt_2,\n",
    "               metrics=[recall, 'accuracy'])"
   ]
  },
  {
   "cell_type": "code",
   "execution_count": 32,
   "id": "e83b8855",
   "metadata": {
    "hidden": true
   },
   "outputs": [
    {
     "name": "stdout",
     "output_type": "stream",
     "text": [
      "Epoch 1/30\n",
      "75/75 [==============================] - 33s 433ms/step - loss: 0.7475 - recall_4: 0.3021 - accuracy: 0.6367 - val_loss: 0.9380 - val_recall_4: 0.4187 - val_accuracy: 0.6507\n",
      "Epoch 2/30\n",
      "75/75 [==============================] - 32s 432ms/step - loss: 0.5273 - recall_4: 0.5321 - accuracy: 0.8125 - val_loss: 1.4683 - val_recall_4: 0.4187 - val_accuracy: 0.6687\n",
      "Epoch 3/30\n",
      "75/75 [==============================] - 32s 429ms/step - loss: 0.4098 - recall_4: 0.8213 - accuracy: 0.8604 - val_loss: 1.4619 - val_recall_4: 0.6680 - val_accuracy: 0.7107\n",
      "Epoch 4/30\n",
      "75/75 [==============================] - 32s 430ms/step - loss: 0.3251 - recall_4: 0.8838 - accuracy: 0.8875 - val_loss: 1.8521 - val_recall_4: 0.5767 - val_accuracy: 0.6487\n",
      "Epoch 5/30\n",
      "75/75 [==============================] - 32s 433ms/step - loss: 0.2971 - recall_4: 0.8879 - accuracy: 0.8900 - val_loss: 1.3833 - val_recall_4: 0.6607 - val_accuracy: 0.6653\n",
      "Epoch 6/30\n",
      "75/75 [==============================] - 33s 445ms/step - loss: 0.2134 - recall_4: 0.9421 - accuracy: 0.9442 - val_loss: 1.5129 - val_recall_4: 0.6387 - val_accuracy: 0.6460\n",
      "Epoch 7/30\n",
      "75/75 [==============================] - 33s 445ms/step - loss: 0.1605 - recall_4: 0.9588 - accuracy: 0.9588 - val_loss: 1.3752 - val_recall_4: 0.6360 - val_accuracy: 0.6467\n",
      "Epoch 8/30\n",
      "75/75 [==============================] - 34s 447ms/step - loss: 0.1367 - recall_4: 0.9621 - accuracy: 0.9625 - val_loss: 1.5232 - val_recall_4: 0.6633 - val_accuracy: 0.6633\n",
      "Epoch 9/30\n",
      "75/75 [==============================] - 34s 455ms/step - loss: 0.1616 - recall_4: 0.9504 - accuracy: 0.9504 - val_loss: 1.8496 - val_recall_4: 0.6593 - val_accuracy: 0.6807\n",
      "Epoch 10/30\n",
      "75/75 [==============================] - 35s 462ms/step - loss: 0.1307 - recall_4: 0.9663 - accuracy: 0.9675 - val_loss: 1.5330 - val_recall_4: 0.6600 - val_accuracy: 0.6633\n",
      "Epoch 11/30\n",
      "75/75 [==============================] - 34s 459ms/step - loss: 0.1100 - recall_4: 0.9742 - accuracy: 0.9746 - val_loss: 2.4140 - val_recall_4: 0.5980 - val_accuracy: 0.6020\n"
     ]
    },
    {
     "data": {
      "text/plain": [
       "<keras.callbacks.History at 0x7f8619f31240>"
      ]
     },
     "execution_count": 32,
     "metadata": {},
     "output_type": "execute_result"
    }
   ],
   "source": [
    "model_3e.fit(train_dataset, \n",
    "            epochs=30,\n",
    "           callbacks=[es_10],\n",
    "           validation_data=val_dataset)"
   ]
  },
  {
   "cell_type": "markdown",
   "id": "721d0e11",
   "metadata": {
    "heading_collapsed": true
   },
   "source": [
    "### Model 4 :\n",
    "- val_recall_1: 0.6620 \n",
    "- val_accuracy: 0.6620"
   ]
  },
  {
   "cell_type": "code",
   "execution_count": 24,
   "id": "ab0d5e62",
   "metadata": {
    "hidden": true
   },
   "outputs": [
    {
     "name": "stdout",
     "output_type": "stream",
     "text": [
      "Model: \"sequential_6\"\n",
      "_________________________________________________________________\n",
      " Layer (type)                Output Shape              Param #   \n",
      "=================================================================\n",
      " conv2d_14 (Conv2D)          (None, 224, 224, 128)     9728      \n",
      "                                                                 \n",
      " max_pooling2d_14 (MaxPoolin  (None, 74, 74, 128)      0         \n",
      " g2D)                                                            \n",
      "                                                                 \n",
      " dropout_3 (Dropout)         (None, 74, 74, 128)       0         \n",
      "                                                                 \n",
      " conv2d_15 (Conv2D)          (None, 73, 73, 64)        32832     \n",
      "                                                                 \n",
      " max_pooling2d_15 (MaxPoolin  (None, 36, 36, 64)       0         \n",
      " g2D)                                                            \n",
      "                                                                 \n",
      " conv2d_16 (Conv2D)          (None, 35, 35, 32)        8224      \n",
      "                                                                 \n",
      " max_pooling2d_16 (MaxPoolin  (None, 17, 17, 32)       0         \n",
      " g2D)                                                            \n",
      "                                                                 \n",
      " flatten_6 (Flatten)         (None, 9248)              0         \n",
      "                                                                 \n",
      " dense_14 (Dense)            (None, 25)                231225    \n",
      "                                                                 \n",
      " dropout_4 (Dropout)         (None, 25)                0         \n",
      "                                                                 \n",
      " dense_15 (Dense)            (None, 15)                390       \n",
      "                                                                 \n",
      " dense_16 (Dense)            (None, 3)                 48        \n",
      "                                                                 \n",
      "=================================================================\n",
      "Total params: 282,447\n",
      "Trainable params: 282,447\n",
      "Non-trainable params: 0\n",
      "_________________________________________________________________\n"
     ]
    }
   ],
   "source": [
    "model_4 = Sequential()\n",
    "\n",
    "model_4.add(layers.Conv2D(128, kernel_size=(5,5), input_shape=(224, 224, 3), activation='relu', padding='same'))\n",
    "model_4.add(layers.MaxPool2D(pool_size=(3,3)))\n",
    "model_4.add(layers.Dropout(0.3))\n",
    "model_4.add(layers.Conv2D(64, kernel_size=(2,2), activation='relu'))\n",
    "model_4.add(layers.MaxPool2D(pool_size=(2,2)))\n",
    "model_4.add(layers.Conv2D(32, kernel_size=(2,2), activation='relu'))\n",
    "model_4.add(layers.MaxPool2D(pool_size=(2,2)))\n",
    "\n",
    "model_4.add(layers.Flatten())\n",
    "model_4.add(layers.Dense(25, activation='relu'))\n",
    "model_4.add(layers.Dropout(0.3))\n",
    "model_4.add(layers.Dense(15, activation='relu'))\n",
    "model_4.add(layers.Dense(3, activation='softmax'))\n",
    "\n",
    "model_4.summary()"
   ]
  },
  {
   "cell_type": "code",
   "execution_count": 25,
   "id": "bfd15072",
   "metadata": {
    "hidden": true
   },
   "outputs": [],
   "source": [
    "model_4.compile(loss='categorical_crossentropy',\n",
    "               optimizer='adam',\n",
    "               metrics=[recall, 'accuracy'])"
   ]
  },
  {
   "cell_type": "code",
   "execution_count": 26,
   "id": "e41d783f",
   "metadata": {
    "hidden": true
   },
   "outputs": [
    {
     "name": "stdout",
     "output_type": "stream",
     "text": [
      "Epoch 1/20\n",
      "75/75 [==============================] - 86s 1s/step - loss: 0.5192 - recall_1: 0.6877 - accuracy: 0.7729 - val_loss: 0.9029 - val_recall_1: 0.6180 - val_accuracy: 0.6227\n",
      "Epoch 2/20\n",
      "75/75 [==============================] - 88s 1s/step - loss: 0.1503 - recall_1: 0.9383 - accuracy: 0.9446 - val_loss: 1.3762 - val_recall_1: 0.6620 - val_accuracy: 0.6660\n",
      "Epoch 3/20\n",
      "75/75 [==============================] - 94s 1s/step - loss: 0.0697 - recall_1: 0.9708 - accuracy: 0.9708 - val_loss: 1.7109 - val_recall_1: 0.6613 - val_accuracy: 0.6640\n",
      "Epoch 4/20\n",
      "75/75 [==============================] - 89s 1s/step - loss: 0.0499 - recall_1: 0.9783 - accuracy: 0.9792 - val_loss: 2.4538 - val_recall_1: 0.6620 - val_accuracy: 0.6620\n",
      "Epoch 5/20\n",
      "75/75 [==============================] - 89s 1s/step - loss: 0.0462 - recall_1: 0.9817 - accuracy: 0.9825 - val_loss: 2.4233 - val_recall_1: 0.6493 - val_accuracy: 0.6533\n",
      "Epoch 6/20\n",
      "75/75 [==============================] - 88s 1s/step - loss: 0.0312 - recall_1: 0.9854 - accuracy: 0.9862 - val_loss: 3.6817 - val_recall_1: 0.6627 - val_accuracy: 0.6627\n"
     ]
    },
    {
     "data": {
      "text/plain": [
       "<keras.callbacks.History at 0x7fbbff76bf10>"
      ]
     },
     "execution_count": 26,
     "metadata": {},
     "output_type": "execute_result"
    }
   ],
   "source": [
    "model_4.fit(train_dataset, \n",
    "            epochs=20,\n",
    "           callbacks=[es],\n",
    "           validation_data=val_dataset)"
   ]
  },
  {
   "cell_type": "markdown",
   "id": "df86f0b5",
   "metadata": {
    "heading_collapsed": true
   },
   "source": [
    "### Model 5 :\n",
    "- val_recall_1: 0.6213 \n",
    "- val_accuracy: 0.6393"
   ]
  },
  {
   "cell_type": "code",
   "execution_count": 29,
   "id": "ec9ebc35",
   "metadata": {
    "hidden": true
   },
   "outputs": [
    {
     "name": "stdout",
     "output_type": "stream",
     "text": [
      "Model: \"sequential_9\"\n",
      "_________________________________________________________________\n",
      " Layer (type)                Output Shape              Param #   \n",
      "=================================================================\n",
      " conv2d_27 (Conv2D)          (None, 224, 224, 64)      1792      \n",
      "                                                                 \n",
      " max_pooling2d_25 (MaxPoolin  (None, 112, 112, 64)     0         \n",
      " g2D)                                                            \n",
      "                                                                 \n",
      " dropout_17 (Dropout)        (None, 112, 112, 64)      0         \n",
      "                                                                 \n",
      " conv2d_28 (Conv2D)          (None, 111, 111, 32)      8224      \n",
      "                                                                 \n",
      " dropout_18 (Dropout)        (None, 111, 111, 32)      0         \n",
      "                                                                 \n",
      " conv2d_29 (Conv2D)          (None, 110, 110, 32)      4128      \n",
      "                                                                 \n",
      " max_pooling2d_26 (MaxPoolin  (None, 55, 55, 32)       0         \n",
      " g2D)                                                            \n",
      "                                                                 \n",
      " dropout_19 (Dropout)        (None, 55, 55, 32)        0         \n",
      "                                                                 \n",
      " conv2d_30 (Conv2D)          (None, 54, 54, 16)        2064      \n",
      "                                                                 \n",
      " dropout_20 (Dropout)        (None, 54, 54, 16)        0         \n",
      "                                                                 \n",
      " conv2d_31 (Conv2D)          (None, 53, 53, 16)        1040      \n",
      "                                                                 \n",
      " max_pooling2d_27 (MaxPoolin  (None, 26, 26, 16)       0         \n",
      " g2D)                                                            \n",
      "                                                                 \n",
      " flatten_9 (Flatten)         (None, 10816)             0         \n",
      "                                                                 \n",
      " dense_23 (Dense)            (None, 15)                162255    \n",
      "                                                                 \n",
      " dropout_21 (Dropout)        (None, 15)                0         \n",
      "                                                                 \n",
      " dense_24 (Dense)            (None, 10)                160       \n",
      "                                                                 \n",
      " dropout_22 (Dropout)        (None, 10)                0         \n",
      "                                                                 \n",
      " dense_25 (Dense)            (None, 3)                 33        \n",
      "                                                                 \n",
      "=================================================================\n",
      "Total params: 179,696\n",
      "Trainable params: 179,696\n",
      "Non-trainable params: 0\n",
      "_________________________________________________________________\n"
     ]
    }
   ],
   "source": [
    "model_5 = Sequential()\n",
    "\n",
    "model_5.add(layers.Conv2D(64, kernel_size=(3,3), input_shape=(224, 224, 3), activation='relu', padding='same'))\n",
    "model_5.add(layers.MaxPool2D(pool_size=(2,2)))\n",
    "model_5.add(layers.Dropout(0.3))\n",
    "model_5.add(layers.Conv2D(32, kernel_size=(2,2), activation='relu'))\n",
    "model_5.add(layers.Dropout(0.3))\n",
    "model_5.add(layers.Conv2D(32, kernel_size=(2,2), activation='relu'))\n",
    "model_5.add(layers.MaxPool2D(pool_size=(2,2)))\n",
    "model_5.add(layers.Dropout(0.3))\n",
    "model_5.add(layers.Conv2D(16, kernel_size=(2,2), activation='relu'))\n",
    "model_5.add(layers.Dropout(0.3))\n",
    "model_5.add(layers.Conv2D(16, kernel_size=(2,2), activation='relu'))\n",
    "model_5.add(layers.MaxPool2D(pool_size=(2,2)))\n",
    "\n",
    "model_5.add(layers.Flatten())\n",
    "model_5.add(layers.Dense(15, activation='relu'))\n",
    "model_5.add(layers.Dropout(0.3))\n",
    "model_5.add(layers.Dense(10, activation='relu'))\n",
    "model_5.add(layers.Dropout(0.3))\n",
    "model_5.add(layers.Dense(3, activation='softmax'))\n",
    "\n",
    "model_5.summary()"
   ]
  },
  {
   "cell_type": "code",
   "execution_count": 30,
   "id": "4b55ef63",
   "metadata": {
    "hidden": true
   },
   "outputs": [],
   "source": [
    "model_5.compile(loss='categorical_crossentropy',\n",
    "               optimizer='adam',\n",
    "               metrics=[recall, 'accuracy'])"
   ]
  },
  {
   "cell_type": "code",
   "execution_count": 31,
   "id": "1c8b2f7d",
   "metadata": {
    "hidden": true
   },
   "outputs": [
    {
     "name": "stdout",
     "output_type": "stream",
     "text": [
      "Epoch 1/20\n",
      "75/75 [==============================] - 54s 717ms/step - loss: 0.9336 - recall_1: 0.3928 - accuracy: 0.5467 - val_loss: 0.8310 - val_recall_1: 0.3287 - val_accuracy: 0.6267\n",
      "Epoch 2/20\n",
      "75/75 [==============================] - 54s 719ms/step - loss: 0.6947 - recall_1: 0.4308 - accuracy: 0.7337 - val_loss: 0.8426 - val_recall_1: 0.3407 - val_accuracy: 0.6247\n",
      "Epoch 3/20\n",
      "75/75 [==============================] - 55s 727ms/step - loss: 0.5718 - recall_1: 0.5063 - accuracy: 0.8250 - val_loss: 0.7545 - val_recall_1: 0.3373 - val_accuracy: 0.5987\n",
      "Epoch 4/20\n",
      "75/75 [==============================] - 58s 777ms/step - loss: 0.4670 - recall_1: 0.5925 - accuracy: 0.8750 - val_loss: 0.8614 - val_recall_1: 0.3360 - val_accuracy: 0.5960\n",
      "Epoch 5/20\n",
      "75/75 [==============================] - 61s 815ms/step - loss: 0.3966 - recall_1: 0.8025 - accuracy: 0.8904 - val_loss: 0.8501 - val_recall_1: 0.5993 - val_accuracy: 0.6280\n",
      "Epoch 6/20\n",
      "75/75 [==============================] - 58s 781ms/step - loss: 0.3570 - recall_1: 0.8604 - accuracy: 0.8967 - val_loss: 1.2185 - val_recall_1: 0.5333 - val_accuracy: 0.5560\n",
      "Epoch 7/20\n",
      "75/75 [==============================] - 59s 783ms/step - loss: 0.2988 - recall_1: 0.8813 - accuracy: 0.9142 - val_loss: 0.8360 - val_recall_1: 0.6213 - val_accuracy: 0.6393\n",
      "Epoch 8/20\n",
      "75/75 [==============================] - 60s 801ms/step - loss: 0.2857 - recall_1: 0.8867 - accuracy: 0.9104 - val_loss: 0.9757 - val_recall_1: 0.6193 - val_accuracy: 0.6333\n"
     ]
    },
    {
     "data": {
      "text/plain": [
       "<keras.callbacks.History at 0x7fbbe66b0b20>"
      ]
     },
     "execution_count": 31,
     "metadata": {},
     "output_type": "execute_result"
    }
   ],
   "source": [
    "model_5.fit(train_dataset, \n",
    "            epochs=20,\n",
    "           callbacks=[es],\n",
    "           validation_data=val_dataset)"
   ]
  },
  {
   "cell_type": "markdown",
   "id": "2ead4cd3",
   "metadata": {
    "heading_collapsed": true
   },
   "source": [
    "### Model 6 :\n",
    "- val_recall: 0.6620 \n",
    "- val_accuracy: 0.6980"
   ]
  },
  {
   "cell_type": "code",
   "execution_count": 4,
   "id": "1cb35782",
   "metadata": {
    "hidden": true
   },
   "outputs": [
    {
     "name": "stdout",
     "output_type": "stream",
     "text": [
      "Model: \"sequential\"\n",
      "_________________________________________________________________\n",
      " Layer (type)                Output Shape              Param #   \n",
      "=================================================================\n",
      " conv2d (Conv2D)             (None, 224, 224, 128)     3584      \n",
      "                                                                 \n",
      " max_pooling2d (MaxPooling2D  (None, 112, 112, 128)    0         \n",
      " )                                                               \n",
      "                                                                 \n",
      " dropout (Dropout)           (None, 112, 112, 128)     0         \n",
      "                                                                 \n",
      " conv2d_1 (Conv2D)           (None, 110, 110, 64)      73792     \n",
      "                                                                 \n",
      " max_pooling2d_1 (MaxPooling  (None, 55, 55, 64)       0         \n",
      " 2D)                                                             \n",
      "                                                                 \n",
      " dropout_1 (Dropout)         (None, 55, 55, 64)        0         \n",
      "                                                                 \n",
      " conv2d_2 (Conv2D)           (None, 53, 53, 32)        18464     \n",
      "                                                                 \n",
      " max_pooling2d_2 (MaxPooling  (None, 26, 26, 32)       0         \n",
      " 2D)                                                             \n",
      "                                                                 \n",
      " dropout_2 (Dropout)         (None, 26, 26, 32)        0         \n",
      "                                                                 \n",
      " conv2d_3 (Conv2D)           (None, 24, 24, 16)        4624      \n",
      "                                                                 \n",
      " dropout_3 (Dropout)         (None, 24, 24, 16)        0         \n",
      "                                                                 \n",
      " conv2d_4 (Conv2D)           (None, 22, 22, 8)         1160      \n",
      "                                                                 \n",
      " max_pooling2d_3 (MaxPooling  (None, 11, 11, 8)        0         \n",
      " 2D)                                                             \n",
      "                                                                 \n",
      " flatten (Flatten)           (None, 968)               0         \n",
      "                                                                 \n",
      " dense (Dense)               (None, 15)                14535     \n",
      "                                                                 \n",
      " dropout_4 (Dropout)         (None, 15)                0         \n",
      "                                                                 \n",
      " dense_1 (Dense)             (None, 5)                 80        \n",
      "                                                                 \n",
      " dropout_5 (Dropout)         (None, 5)                 0         \n",
      "                                                                 \n",
      " dense_2 (Dense)             (None, 3)                 18        \n",
      "                                                                 \n",
      "=================================================================\n",
      "Total params: 116,257\n",
      "Trainable params: 116,257\n",
      "Non-trainable params: 0\n",
      "_________________________________________________________________\n"
     ]
    }
   ],
   "source": [
    "model_6 = Sequential()\n",
    "\n",
    "model_6.add(layers.Conv2D(128, kernel_size=(3,3), input_shape=(224, 224, 3), activation='relu', padding='same'))\n",
    "model_6.add(layers.MaxPool2D(pool_size=(2,2)))\n",
    "model_6.add(layers.Dropout(0.3))\n",
    "model_6.add(layers.Conv2D(64, kernel_size=(3,3), activation='relu'))\n",
    "model_6.add(layers.MaxPool2D(pool_size=(2,2)))\n",
    "model_6.add(layers.Dropout(0.3))\n",
    "model_6.add(layers.Conv2D(32, kernel_size=(3,3), activation='relu'))\n",
    "model_6.add(layers.MaxPool2D(pool_size=(2,2)))\n",
    "model_6.add(layers.Dropout(0.3))\n",
    "model_6.add(layers.Conv2D(16, kernel_size=(3,3), activation='relu'))\n",
    "model_6.add(layers.Dropout(0.3))\n",
    "model_6.add(layers.Conv2D(8, kernel_size=(3,3), activation='relu'))\n",
    "model_6.add(layers.MaxPool2D(pool_size=(2,2)))\n",
    "\n",
    "model_6.add(layers.Flatten())\n",
    "model_6.add(layers.Dense(15, activation='relu'))\n",
    "model_6.add(layers.Dropout(0.3))\n",
    "model_6.add(layers.Dense(5, activation='relu'))\n",
    "model_6.add(layers.Dropout(0.3))\n",
    "model_6.add(layers.Dense(3, activation='softmax'))\n",
    "\n",
    "model_6.summary()"
   ]
  },
  {
   "cell_type": "code",
   "execution_count": 5,
   "id": "9d554089",
   "metadata": {
    "hidden": true
   },
   "outputs": [],
   "source": [
    "model_6.compile(loss='categorical_crossentropy',\n",
    "               optimizer='adam',\n",
    "               metrics=[recall, 'accuracy'])"
   ]
  },
  {
   "cell_type": "code",
   "execution_count": 6,
   "id": "9cfb3b44",
   "metadata": {
    "hidden": true
   },
   "outputs": [
    {
     "name": "stdout",
     "output_type": "stream",
     "text": [
      "Epoch 1/20\n",
      "75/75 [==============================] - 132s 2s/step - loss: 1.0364 - recall: 0.0650 - accuracy: 0.3817 - val_loss: 1.1641 - val_recall: 0.0073 - val_accuracy: 0.4920\n",
      "Epoch 2/20\n",
      "75/75 [==============================] - 138s 2s/step - loss: 0.8519 - recall: 0.3521 - accuracy: 0.5546 - val_loss: 1.2156 - val_recall: 0.3333 - val_accuracy: 0.4913\n",
      "Epoch 3/20\n",
      "75/75 [==============================] - 145s 2s/step - loss: 0.7567 - recall: 0.4454 - accuracy: 0.6175 - val_loss: 0.6649 - val_recall: 0.4613 - val_accuracy: 0.6227\n",
      "Epoch 4/20\n",
      "75/75 [==============================] - 141s 2s/step - loss: 0.6612 - recall: 0.4608 - accuracy: 0.6592 - val_loss: 0.6547 - val_recall: 0.4967 - val_accuracy: 0.6593\n",
      "Epoch 5/20\n",
      "75/75 [==============================] - 141s 2s/step - loss: 0.6270 - recall: 0.4758 - accuracy: 0.6712 - val_loss: 0.7621 - val_recall: 0.4780 - val_accuracy: 0.6667\n",
      "Epoch 6/20\n",
      "75/75 [==============================] - 334s 4s/step - loss: 0.5918 - recall: 0.5046 - accuracy: 0.6875 - val_loss: 0.7897 - val_recall: 0.5707 - val_accuracy: 0.6900\n",
      "Epoch 7/20\n",
      "75/75 [==============================] - 144s 2s/step - loss: 0.5585 - recall: 0.5412 - accuracy: 0.7229 - val_loss: 0.7003 - val_recall: 0.5387 - val_accuracy: 0.6440\n",
      "Epoch 8/20\n",
      "75/75 [==============================] - 144s 2s/step - loss: 0.5377 - recall: 0.5608 - accuracy: 0.7325 - val_loss: 0.7046 - val_recall: 0.6620 - val_accuracy: 0.6980\n",
      "Epoch 9/20\n",
      "75/75 [==============================] - 139s 2s/step - loss: 0.5313 - recall: 0.5608 - accuracy: 0.7096 - val_loss: 0.9895 - val_recall: 0.5493 - val_accuracy: 0.6467\n",
      "Epoch 10/20\n",
      "75/75 [==============================] - 140s 2s/step - loss: 0.4781 - recall: 0.5983 - accuracy: 0.7275 - val_loss: 0.7114 - val_recall: 0.4300 - val_accuracy: 0.6600\n",
      "Epoch 11/20\n",
      "75/75 [==============================] - 141s 2s/step - loss: 0.4552 - recall: 0.5838 - accuracy: 0.7408 - val_loss: 0.8437 - val_recall: 0.5607 - val_accuracy: 0.6220\n",
      "Epoch 12/20\n",
      "75/75 [==============================] - 140s 2s/step - loss: 0.4626 - recall: 0.6621 - accuracy: 0.7450 - val_loss: 0.7804 - val_recall: 0.4440 - val_accuracy: 0.6500\n",
      "Epoch 13/20\n",
      "75/75 [==============================] - 141s 2s/step - loss: 0.4004 - recall: 0.7063 - accuracy: 0.8058 - val_loss: 0.7656 - val_recall: 0.5567 - val_accuracy: 0.6360\n",
      "Epoch 14/20\n",
      "75/75 [==============================] - 140s 2s/step - loss: 0.3621 - recall: 0.7546 - accuracy: 0.8487 - val_loss: 0.9719 - val_recall: 0.6420 - val_accuracy: 0.6693\n"
     ]
    },
    {
     "data": {
      "text/plain": [
       "<keras.callbacks.History at 0x7f86585659f0>"
      ]
     },
     "execution_count": 6,
     "metadata": {},
     "output_type": "execute_result"
    }
   ],
   "source": [
    "es_10 = EarlyStopping(patience=10, restore_best_weights=True)\n",
    "model_6.fit(train_dataset, \n",
    "            epochs=20,\n",
    "           callbacks=[es_10],\n",
    "           validation_data=val_dataset)"
   ]
  },
  {
   "cell_type": "markdown",
   "id": "9a71f111",
   "metadata": {
    "heading_collapsed": true
   },
   "source": [
    "### Model 7 :\n",
    "- val_recall: 0.6573 \n",
    "- val_accuracy: 0.6613"
   ]
  },
  {
   "cell_type": "code",
   "execution_count": 8,
   "id": "5d2ba732",
   "metadata": {
    "hidden": true
   },
   "outputs": [
    {
     "name": "stdout",
     "output_type": "stream",
     "text": [
      "Model: \"sequential_2\"\n",
      "_________________________________________________________________\n",
      " Layer (type)                Output Shape              Param #   \n",
      "=================================================================\n",
      " conv2d_9 (Conv2D)           (None, 224, 224, 64)      4864      \n",
      "                                                                 \n",
      " max_pooling2d_7 (MaxPooling  (None, 74, 74, 64)       0         \n",
      " 2D)                                                             \n",
      "                                                                 \n",
      " dropout_9 (Dropout)         (None, 74, 74, 64)        0         \n",
      "                                                                 \n",
      " conv2d_10 (Conv2D)          (None, 72, 72, 32)        18464     \n",
      "                                                                 \n",
      " max_pooling2d_8 (MaxPooling  (None, 36, 36, 32)       0         \n",
      " 2D)                                                             \n",
      "                                                                 \n",
      " conv2d_11 (Conv2D)          (None, 34, 34, 16)        4624      \n",
      "                                                                 \n",
      " max_pooling2d_9 (MaxPooling  (None, 17, 17, 16)       0         \n",
      " 2D)                                                             \n",
      "                                                                 \n",
      " dropout_10 (Dropout)        (None, 17, 17, 16)        0         \n",
      "                                                                 \n",
      " conv2d_12 (Conv2D)          (None, 16, 16, 8)         520       \n",
      "                                                                 \n",
      " flatten_2 (Flatten)         (None, 2048)              0         \n",
      "                                                                 \n",
      " dense_6 (Dense)             (None, 20)                40980     \n",
      "                                                                 \n",
      " dropout_11 (Dropout)        (None, 20)                0         \n",
      "                                                                 \n",
      " dense_7 (Dense)             (None, 10)                210       \n",
      "                                                                 \n",
      " dense_8 (Dense)             (None, 3)                 33        \n",
      "                                                                 \n",
      "=================================================================\n",
      "Total params: 69,695\n",
      "Trainable params: 69,695\n",
      "Non-trainable params: 0\n",
      "_________________________________________________________________\n"
     ]
    }
   ],
   "source": [
    "model_7 = Sequential()\n",
    "\n",
    "model_7.add(layers.Conv2D(64, kernel_size=(5,5), input_shape=(224, 224, 3), activation='relu', padding='same'))\n",
    "model_7.add(layers.MaxPool2D(pool_size=(3,3)))\n",
    "model_7.add(layers.Dropout(0.3))\n",
    "model_7.add(layers.Conv2D(32, kernel_size=(3,3), activation='relu'))\n",
    "model_7.add(layers.MaxPool2D(pool_size=(2,2)))\n",
    "model_7.add(layers.Conv2D(16, kernel_size=(3,3), activation='relu'))\n",
    "model_7.add(layers.MaxPool2D(pool_size=(2,2)))\n",
    "model_7.add(layers.Dropout(0.3))\n",
    "model_7.add(layers.Conv2D(8, kernel_size=(2,2), activation='relu'))\n",
    "\n",
    "model_7.add(layers.Flatten())\n",
    "model_7.add(layers.Dense(20, activation='relu'))\n",
    "model_7.add(layers.Dropout(0.3))\n",
    "model_7.add(layers.Dense(10, activation='relu'))\n",
    "model_7.add(layers.Dense(3, activation='softmax'))\n",
    "\n",
    "model_7.summary()"
   ]
  },
  {
   "cell_type": "code",
   "execution_count": 9,
   "id": "bf7a323a",
   "metadata": {
    "hidden": true
   },
   "outputs": [],
   "source": [
    "model_7.compile(loss='categorical_crossentropy',\n",
    "               optimizer='adam',\n",
    "               metrics=[recall, 'accuracy'])"
   ]
  },
  {
   "cell_type": "code",
   "execution_count": 10,
   "id": "39b9baa7",
   "metadata": {
    "hidden": true
   },
   "outputs": [
    {
     "name": "stdout",
     "output_type": "stream",
     "text": [
      "Epoch 1/30\n",
      "75/75 [==============================] - 40s 528ms/step - loss: 0.7978 - recall: 0.5062 - accuracy: 0.5842 - val_loss: 0.7893 - val_recall: 0.5420 - val_accuracy: 0.5733\n",
      "Epoch 2/30\n",
      "75/75 [==============================] - 39s 521ms/step - loss: 0.4327 - recall: 0.7679 - accuracy: 0.7962 - val_loss: 0.8764 - val_recall: 0.6287 - val_accuracy: 0.6300\n",
      "Epoch 3/30\n",
      "75/75 [==============================] - 53s 710ms/step - loss: 0.2885 - recall: 0.8600 - accuracy: 0.8750 - val_loss: 1.2470 - val_recall: 0.5487 - val_accuracy: 0.5740\n",
      "Epoch 4/30\n",
      "75/75 [==============================] - 49s 651ms/step - loss: 0.1818 - recall: 0.9221 - accuracy: 0.9342 - val_loss: 1.4913 - val_recall: 0.6073 - val_accuracy: 0.6273\n",
      "Epoch 5/30\n",
      "75/75 [==============================] - 45s 602ms/step - loss: 0.1397 - recall: 0.9458 - accuracy: 0.9525 - val_loss: 1.5909 - val_recall: 0.5713 - val_accuracy: 0.5947\n",
      "Epoch 6/30\n",
      "75/75 [==============================] - 43s 575ms/step - loss: 0.1272 - recall: 0.9483 - accuracy: 0.9538 - val_loss: 2.0588 - val_recall: 0.6407 - val_accuracy: 0.6440\n",
      "Epoch 7/30\n",
      "75/75 [==============================] - 44s 584ms/step - loss: 0.0944 - recall: 0.9592 - accuracy: 0.9675 - val_loss: 2.4403 - val_recall: 0.5433 - val_accuracy: 0.5640\n",
      "Epoch 8/30\n",
      "75/75 [==============================] - 44s 583ms/step - loss: 0.1001 - recall: 0.9613 - accuracy: 0.9712 - val_loss: 2.3600 - val_recall: 0.6167 - val_accuracy: 0.6313\n",
      "Epoch 9/30\n",
      "75/75 [==============================] - 44s 585ms/step - loss: 0.0787 - recall: 0.9650 - accuracy: 0.9708 - val_loss: 2.4617 - val_recall: 0.6227 - val_accuracy: 0.6387\n",
      "Epoch 10/30\n",
      "75/75 [==============================] - 44s 585ms/step - loss: 0.0818 - recall: 0.9608 - accuracy: 0.9696 - val_loss: 2.3744 - val_recall: 0.5933 - val_accuracy: 0.6073\n",
      "Epoch 11/30\n",
      "75/75 [==============================] - 43s 577ms/step - loss: 0.0744 - recall: 0.9633 - accuracy: 0.9733 - val_loss: 2.6142 - val_recall: 0.6573 - val_accuracy: 0.6613\n"
     ]
    },
    {
     "data": {
      "text/plain": [
       "<keras.callbacks.History at 0x7f8619fcb0a0>"
      ]
     },
     "execution_count": 10,
     "metadata": {},
     "output_type": "execute_result"
    }
   ],
   "source": [
    "model_7.fit(train_dataset, \n",
    "            epochs=30,\n",
    "           callbacks=[es_10],\n",
    "           validation_data=val_dataset)"
   ]
  },
  {
   "cell_type": "markdown",
   "id": "a8362721",
   "metadata": {
    "heading_collapsed": true
   },
   "source": [
    "### Model 8 :\n",
    "- val_recall: 0.6600 \n",
    "- val_accuracy: 0.6607"
   ]
  },
  {
   "cell_type": "code",
   "execution_count": 12,
   "id": "971ce664",
   "metadata": {
    "hidden": true
   },
   "outputs": [
    {
     "name": "stdout",
     "output_type": "stream",
     "text": [
      "Model: \"sequential_4\"\n",
      "_________________________________________________________________\n",
      " Layer (type)                Output Shape              Param #   \n",
      "=================================================================\n",
      " conv2d_16 (Conv2D)          (None, 224, 224, 64)      1792      \n",
      "                                                                 \n",
      " max_pooling2d_13 (MaxPoolin  (None, 74, 74, 64)       0         \n",
      " g2D)                                                            \n",
      "                                                                 \n",
      " dropout_15 (Dropout)        (None, 74, 74, 64)        0         \n",
      "                                                                 \n",
      " conv2d_17 (Conv2D)          (None, 72, 72, 32)        18464     \n",
      "                                                                 \n",
      " max_pooling2d_14 (MaxPoolin  (None, 36, 36, 32)       0         \n",
      " g2D)                                                            \n",
      "                                                                 \n",
      " dropout_16 (Dropout)        (None, 36, 36, 32)        0         \n",
      "                                                                 \n",
      " conv2d_18 (Conv2D)          (None, 34, 34, 16)        4624      \n",
      "                                                                 \n",
      " max_pooling2d_15 (MaxPoolin  (None, 17, 17, 16)       0         \n",
      " g2D)                                                            \n",
      "                                                                 \n",
      " flatten_4 (Flatten)         (None, 4624)              0         \n",
      "                                                                 \n",
      " dense_12 (Dense)            (None, 20)                92500     \n",
      "                                                                 \n",
      " dropout_17 (Dropout)        (None, 20)                0         \n",
      "                                                                 \n",
      " dense_13 (Dense)            (None, 5)                 105       \n",
      "                                                                 \n",
      " dense_14 (Dense)            (None, 3)                 18        \n",
      "                                                                 \n",
      "=================================================================\n",
      "Total params: 117,503\n",
      "Trainable params: 117,503\n",
      "Non-trainable params: 0\n",
      "_________________________________________________________________\n"
     ]
    }
   ],
   "source": [
    "model_8 = Sequential()\n",
    "\n",
    "model_8.add(layers.Conv2D(64, kernel_size=(3,3), input_shape=(224, 224, 3), activation='relu', padding='same'))\n",
    "model_8.add(layers.MaxPool2D(pool_size=(3,3)))\n",
    "model_8.add(layers.Dropout(0.3))\n",
    "model_8.add(layers.Conv2D(32, kernel_size=(3,3), activation='relu'))\n",
    "model_8.add(layers.MaxPool2D(pool_size=(2,2)))\n",
    "model_8.add(layers.Dropout(0.3))\n",
    "model_8.add(layers.Conv2D(16, kernel_size=(3,3), activation='relu'))\n",
    "model_8.add(layers.MaxPool2D(pool_size=(2,2)))\n",
    "\n",
    "model_8.add(layers.Flatten())\n",
    "model_8.add(layers.Dense(20, activation='relu'))\n",
    "model_8.add(layers.Dropout(0.3))\n",
    "model_8.add(layers.Dense(5, activation='relu'))\n",
    "model_8.add(layers.Dense(3, activation='softmax'))\n",
    "\n",
    "model_8.summary()"
   ]
  },
  {
   "cell_type": "code",
   "execution_count": 13,
   "id": "089334dc",
   "metadata": {
    "hidden": true
   },
   "outputs": [],
   "source": [
    "model_8.compile(loss='categorical_crossentropy',\n",
    "               optimizer='rmsprop',\n",
    "               metrics=[recall, 'accuracy'])"
   ]
  },
  {
   "cell_type": "code",
   "execution_count": 14,
   "id": "628a4abf",
   "metadata": {
    "hidden": true
   },
   "outputs": [
    {
     "name": "stdout",
     "output_type": "stream",
     "text": [
      "Epoch 1/30\n",
      "75/75 [==============================] - 36s 472ms/step - loss: 0.8213 - recall: 0.4890 - accuracy: 0.6117 - val_loss: 0.7518 - val_recall: 0.4673 - val_accuracy: 0.6467\n",
      "Epoch 2/30\n",
      "75/75 [==============================] - 36s 481ms/step - loss: 0.5130 - recall: 0.6421 - accuracy: 0.7967 - val_loss: 0.9012 - val_recall: 0.4180 - val_accuracy: 0.5707\n",
      "Epoch 3/30\n",
      "75/75 [==============================] - 37s 499ms/step - loss: 0.3383 - recall: 0.7788 - accuracy: 0.8675 - val_loss: 1.4259 - val_recall: 0.5633 - val_accuracy: 0.6147\n",
      "Epoch 4/30\n",
      "75/75 [==============================] - 38s 513ms/step - loss: 0.2200 - recall: 0.8467 - accuracy: 0.9246 - val_loss: 2.0935 - val_recall: 0.6567 - val_accuracy: 0.6587\n",
      "Epoch 5/30\n",
      "75/75 [==============================] - 37s 499ms/step - loss: 0.1539 - recall: 0.8675 - accuracy: 0.9504 - val_loss: 2.0565 - val_recall: 0.5600 - val_accuracy: 0.5840\n",
      "Epoch 6/30\n",
      "75/75 [==============================] - 38s 506ms/step - loss: 0.1590 - recall: 0.8658 - accuracy: 0.9446 - val_loss: 2.3970 - val_recall: 0.6580 - val_accuracy: 0.6600\n",
      "Epoch 7/30\n",
      "75/75 [==============================] - 42s 566ms/step - loss: 0.1416 - recall: 0.9504 - accuracy: 0.9521 - val_loss: 2.8797 - val_recall: 0.6560 - val_accuracy: 0.6560\n",
      "Epoch 8/30\n",
      "75/75 [==============================] - 42s 553ms/step - loss: 0.1414 - recall: 0.9463 - accuracy: 0.9479 - val_loss: 2.4024 - val_recall: 0.6580 - val_accuracy: 0.6640\n",
      "Epoch 9/30\n",
      "75/75 [==============================] - 41s 545ms/step - loss: 0.1253 - recall: 0.9554 - accuracy: 0.9558 - val_loss: 4.0497 - val_recall: 0.6593 - val_accuracy: 0.6600\n",
      "Epoch 10/30\n",
      "75/75 [==============================] - 40s 535ms/step - loss: 0.1407 - recall: 0.9554 - accuracy: 0.9558 - val_loss: 3.2972 - val_recall: 0.6600 - val_accuracy: 0.6607\n",
      "Epoch 11/30\n",
      "75/75 [==============================] - 39s 521ms/step - loss: 0.1218 - recall: 0.9579 - accuracy: 0.9583 - val_loss: 3.6313 - val_recall: 0.6593 - val_accuracy: 0.6600\n"
     ]
    },
    {
     "data": {
      "text/plain": [
       "<keras.callbacks.History at 0x7f8603fa0be0>"
      ]
     },
     "execution_count": 14,
     "metadata": {},
     "output_type": "execute_result"
    }
   ],
   "source": [
    "model_8.fit(train_dataset, \n",
    "            epochs=30,\n",
    "           callbacks=[es_10],\n",
    "           validation_data=val_dataset)"
   ]
  },
  {
   "cell_type": "markdown",
   "id": "d884e32c",
   "metadata": {
    "heading_collapsed": true
   },
   "source": [
    "### Model 9 :\n",
    "- val_recall: 0.6627 \n",
    "- val_accuracy: 0.6627\n"
   ]
  },
  {
   "cell_type": "code",
   "execution_count": 33,
   "id": "274e54f4",
   "metadata": {
    "hidden": true
   },
   "outputs": [
    {
     "name": "stdout",
     "output_type": "stream",
     "text": [
      "Model: \"sequential_9\"\n",
      "_________________________________________________________________\n",
      " Layer (type)                Output Shape              Param #   \n",
      "=================================================================\n",
      " conv2d_31 (Conv2D)          (None, 224, 224, 64)      1792      \n",
      "                                                                 \n",
      " max_pooling2d_28 (MaxPoolin  (None, 74, 74, 64)       0         \n",
      " g2D)                                                            \n",
      "                                                                 \n",
      " dropout_26 (Dropout)        (None, 74, 74, 64)        0         \n",
      "                                                                 \n",
      " conv2d_32 (Conv2D)          (None, 74, 74, 32)        8224      \n",
      "                                                                 \n",
      " max_pooling2d_29 (MaxPoolin  (None, 37, 37, 32)       0         \n",
      " g2D)                                                            \n",
      "                                                                 \n",
      " conv2d_33 (Conv2D)          (None, 37, 37, 16)        2064      \n",
      "                                                                 \n",
      " max_pooling2d_30 (MaxPoolin  (None, 18, 18, 16)       0         \n",
      " g2D)                                                            \n",
      "                                                                 \n",
      " flatten_9 (Flatten)         (None, 5184)              0         \n",
      "                                                                 \n",
      " dense_27 (Dense)            (None, 15)                77775     \n",
      "                                                                 \n",
      " dropout_27 (Dropout)        (None, 15)                0         \n",
      "                                                                 \n",
      " dense_28 (Dense)            (None, 5)                 80        \n",
      "                                                                 \n",
      " dense_29 (Dense)            (None, 3)                 18        \n",
      "                                                                 \n",
      "=================================================================\n",
      "Total params: 89,953\n",
      "Trainable params: 89,953\n",
      "Non-trainable params: 0\n",
      "_________________________________________________________________\n"
     ]
    }
   ],
   "source": [
    "model_9 = Sequential()\n",
    "\n",
    "model_9.add(layers.Conv2D(64, kernel_size=(3,3), input_shape=(224, 224, 3), activation='relu', padding='same'))\n",
    "model_9.add(layers.MaxPool2D(pool_size=(3,3)))\n",
    "model_9.add(layers.Dropout(0.3))\n",
    "model_9.add(layers.Conv2D(32, kernel_size=(2,2), activation='relu', padding='same'))\n",
    "model_9.add(layers.MaxPool2D(pool_size=(2,2)))\n",
    "model_9.add(layers.Conv2D(16, kernel_size=(2,2), activation='relu', padding='same'))\n",
    "model_9.add(layers.MaxPool2D(pool_size=(2,2)))\n",
    "\n",
    "model_9.add(layers.Flatten())\n",
    "model_9.add(layers.Dense(15, activation='relu'))\n",
    "model_9.add(layers.Dropout(0.3))\n",
    "model_9.add(layers.Dense(5, activation='relu'))\n",
    "model_9.add(layers.Dense(3, activation='softmax'))\n",
    "\n",
    "model_9.summary()"
   ]
  },
  {
   "cell_type": "code",
   "execution_count": 34,
   "id": "a01b6cbe",
   "metadata": {
    "hidden": true
   },
   "outputs": [],
   "source": [
    "model_9.compile(loss='categorical_crossentropy',\n",
    "               optimizer='adam',\n",
    "               metrics=[recall, 'accuracy'])"
   ]
  },
  {
   "cell_type": "code",
   "execution_count": 35,
   "id": "9f511779",
   "metadata": {
    "hidden": true
   },
   "outputs": [
    {
     "name": "stdout",
     "output_type": "stream",
     "text": [
      "Epoch 1/25\n",
      "75/75 [==============================] - 33s 433ms/step - loss: 0.8729 - recall_4: 0.4331 - accuracy: 0.5817 - val_loss: 1.3177 - val_recall_4: 0.3360 - val_accuracy: 0.4113\n",
      "Epoch 2/25\n",
      "75/75 [==============================] - 34s 450ms/step - loss: 0.3853 - recall_4: 0.7946 - accuracy: 0.8479 - val_loss: 1.6226 - val_recall_4: 0.6593 - val_accuracy: 0.6600\n",
      "Epoch 3/25\n",
      "75/75 [==============================] - 34s 457ms/step - loss: 0.1983 - recall_4: 0.8813 - accuracy: 0.9129 - val_loss: 2.0759 - val_recall_4: 0.6267 - val_accuracy: 0.6280\n",
      "Epoch 4/25\n",
      "75/75 [==============================] - 36s 479ms/step - loss: 0.1371 - recall_4: 0.9329 - accuracy: 0.9575 - val_loss: 1.9294 - val_recall_4: 0.6587 - val_accuracy: 0.6593\n",
      "Epoch 5/25\n",
      "75/75 [==============================] - 36s 478ms/step - loss: 0.1223 - recall_4: 0.9229 - accuracy: 0.9525 - val_loss: 2.0882 - val_recall_4: 0.6593 - val_accuracy: 0.6593\n",
      "Epoch 6/25\n",
      "75/75 [==============================] - 36s 473ms/step - loss: 0.1025 - recall_4: 0.9325 - accuracy: 0.9604 - val_loss: 3.6659 - val_recall_4: 0.6620 - val_accuracy: 0.6620\n",
      "Epoch 7/25\n",
      "75/75 [==============================] - 36s 474ms/step - loss: 0.0906 - recall_4: 0.9438 - accuracy: 0.9646 - val_loss: 2.9579 - val_recall_4: 0.6347 - val_accuracy: 0.6347\n",
      "Epoch 8/25\n",
      "75/75 [==============================] - 35s 471ms/step - loss: 0.0734 - recall_4: 0.9454 - accuracy: 0.9750 - val_loss: 3.0902 - val_recall_4: 0.6627 - val_accuracy: 0.6627\n",
      "Epoch 9/25\n",
      "75/75 [==============================] - 36s 478ms/step - loss: 0.0871 - recall_4: 0.9379 - accuracy: 0.9679 - val_loss: 2.4402 - val_recall_4: 0.6633 - val_accuracy: 0.6640\n",
      "Epoch 10/25\n",
      "75/75 [==============================] - 35s 461ms/step - loss: 0.0889 - recall_4: 0.9329 - accuracy: 0.9638 - val_loss: 3.1340 - val_recall_4: 0.6620 - val_accuracy: 0.6627\n",
      "Epoch 11/25\n",
      "75/75 [==============================] - 37s 487ms/step - loss: 0.0770 - recall_4: 0.9408 - accuracy: 0.9742 - val_loss: 4.7964 - val_recall_4: 0.5707 - val_accuracy: 0.5707\n"
     ]
    },
    {
     "data": {
      "text/plain": [
       "<keras.callbacks.History at 0x7f86582a1540>"
      ]
     },
     "execution_count": 35,
     "metadata": {},
     "output_type": "execute_result"
    }
   ],
   "source": [
    "model_9.fit(train_dataset, \n",
    "            epochs=25,\n",
    "           callbacks=[es_10],\n",
    "           validation_data=val_dataset)"
   ]
  },
  {
   "cell_type": "markdown",
   "id": "fc76fd35",
   "metadata": {
    "heading_collapsed": true
   },
   "source": [
    "### Model 10 :\n",
    "- val_recall: 0.7093 \n",
    "- val_accuracy: 0.7093"
   ]
  },
  {
   "cell_type": "code",
   "execution_count": 36,
   "id": "2ef549d4",
   "metadata": {
    "hidden": true
   },
   "outputs": [
    {
     "name": "stdout",
     "output_type": "stream",
     "text": [
      "Model: \"sequential_10\"\n",
      "_________________________________________________________________\n",
      " Layer (type)                Output Shape              Param #   \n",
      "=================================================================\n",
      " conv2d_34 (Conv2D)          (None, 222, 222, 32)      896       \n",
      "                                                                 \n",
      " max_pooling2d_31 (MaxPoolin  (None, 111, 111, 32)     0         \n",
      " g2D)                                                            \n",
      "                                                                 \n",
      " conv2d_35 (Conv2D)          (None, 109, 109, 64)      18496     \n",
      "                                                                 \n",
      " max_pooling2d_32 (MaxPoolin  (None, 54, 54, 64)       0         \n",
      " g2D)                                                            \n",
      "                                                                 \n",
      " conv2d_36 (Conv2D)          (None, 52, 52, 128)       73856     \n",
      "                                                                 \n",
      " max_pooling2d_33 (MaxPoolin  (None, 26, 26, 128)      0         \n",
      " g2D)                                                            \n",
      "                                                                 \n",
      " conv2d_37 (Conv2D)          (None, 24, 24, 256)       295168    \n",
      "                                                                 \n",
      " max_pooling2d_34 (MaxPoolin  (None, 12, 12, 256)      0         \n",
      " g2D)                                                            \n",
      "                                                                 \n",
      " dropout_28 (Dropout)        (None, 12, 12, 256)       0         \n",
      "                                                                 \n",
      " flatten_10 (Flatten)        (None, 36864)             0         \n",
      "                                                                 \n",
      " dense_30 (Dense)            (None, 128)               4718720   \n",
      "                                                                 \n",
      " dropout_29 (Dropout)        (None, 128)               0         \n",
      "                                                                 \n",
      " dense_31 (Dense)            (None, 256)               33024     \n",
      "                                                                 \n",
      " dropout_30 (Dropout)        (None, 256)               0         \n",
      "                                                                 \n",
      " dense_32 (Dense)            (None, 3)                 771       \n",
      "                                                                 \n",
      "=================================================================\n",
      "Total params: 5,140,931\n",
      "Trainable params: 5,140,931\n",
      "Non-trainable params: 0\n",
      "_________________________________________________________________\n"
     ]
    }
   ],
   "source": [
    "model_10 = Sequential()\n",
    "\n",
    "model_10.add(layers.Conv2D(32, kernel_size=(3,3), input_shape=(224, 224, 3), activation='relu'))\n",
    "model_10.add(layers.MaxPool2D(pool_size=(2,2)))\n",
    "model_10.add(layers.Conv2D(64, kernel_size=(3,3), activation='relu'))\n",
    "model_10.add(layers.MaxPool2D(pool_size=(2,2)))\n",
    "model_10.add(layers.Conv2D(128, kernel_size=(3,3), activation='relu'))\n",
    "model_10.add(layers.MaxPool2D(pool_size=(2,2)))\n",
    "model_10.add(layers.Conv2D(256, kernel_size=(3,3), activation='relu'))\n",
    "model_10.add(layers.MaxPool2D(pool_size=(2,2)))\n",
    "model_10.add(layers.Dropout(0.5))\n",
    "\n",
    "model_10.add(layers.Flatten())\n",
    "model_10.add(layers.Dense(128, activation='relu'))\n",
    "model_10.add(layers.Dropout(0.1))\n",
    "model_10.add(layers.Dense(256, activation='relu'))\n",
    "model_10.add(layers.Dropout(0.25))\n",
    "model_10.add(layers.Dense(3, activation='softmax'))\n",
    "\n",
    "model_10.summary()"
   ]
  },
  {
   "cell_type": "code",
   "execution_count": 37,
   "id": "cc874b0a",
   "metadata": {
    "hidden": true
   },
   "outputs": [],
   "source": [
    "model_10.compile(loss='categorical_crossentropy',\n",
    "               optimizer=adam_opt,\n",
    "               metrics=[recall, 'accuracy'])"
   ]
  },
  {
   "cell_type": "code",
   "execution_count": 38,
   "id": "00625839",
   "metadata": {
    "hidden": true
   },
   "outputs": [
    {
     "name": "stdout",
     "output_type": "stream",
     "text": [
      "Epoch 1/25\n",
      "75/75 [==============================] - 54s 715ms/step - loss: 0.6170 - recall_4: 0.5703 - accuracy: 0.7212 - val_loss: 0.6414 - val_recall_4: 0.7093 - val_accuracy: 0.7093\n",
      "Epoch 2/25\n",
      "75/75 [==============================] - 55s 730ms/step - loss: 0.2440 - recall_4: 0.8996 - accuracy: 0.9025 - val_loss: 0.5987 - val_recall_4: 0.6873 - val_accuracy: 0.7067\n",
      "Epoch 3/25\n",
      "75/75 [==============================] - 56s 745ms/step - loss: 0.1380 - recall_4: 0.9433 - accuracy: 0.9446 - val_loss: 0.7026 - val_recall_4: 0.6860 - val_accuracy: 0.6973\n",
      "Epoch 4/25\n",
      "75/75 [==============================] - 58s 772ms/step - loss: 0.0605 - recall_4: 0.9804 - accuracy: 0.9804 - val_loss: 1.6265 - val_recall_4: 0.6700 - val_accuracy: 0.6707\n",
      "Epoch 5/25\n",
      "75/75 [==============================] - 59s 789ms/step - loss: 0.0322 - recall_4: 0.9900 - accuracy: 0.9900 - val_loss: 2.2880 - val_recall_4: 0.6653 - val_accuracy: 0.6667\n",
      "Epoch 6/25\n",
      "75/75 [==============================] - 67s 897ms/step - loss: 0.0229 - recall_4: 0.9929 - accuracy: 0.9929 - val_loss: 2.6337 - val_recall_4: 0.6687 - val_accuracy: 0.6687\n",
      "Epoch 7/25\n",
      "75/75 [==============================] - 64s 855ms/step - loss: 0.0220 - recall_4: 0.9933 - accuracy: 0.9937 - val_loss: 3.9932 - val_recall_4: 0.6633 - val_accuracy: 0.6633\n",
      "Epoch 8/25\n",
      "75/75 [==============================] - 61s 812ms/step - loss: 0.0135 - recall_4: 0.9967 - accuracy: 0.9967 - val_loss: 3.5533 - val_recall_4: 0.6647 - val_accuracy: 0.6647\n",
      "Epoch 9/25\n",
      "75/75 [==============================] - 61s 819ms/step - loss: 0.0158 - recall_4: 0.9946 - accuracy: 0.9946 - val_loss: 3.3632 - val_recall_4: 0.6640 - val_accuracy: 0.6640\n",
      "Epoch 10/25\n",
      "75/75 [==============================] - 60s 799ms/step - loss: 0.0135 - recall_4: 0.9958 - accuracy: 0.9958 - val_loss: 3.3475 - val_recall_4: 0.6627 - val_accuracy: 0.6627\n",
      "Epoch 11/25\n",
      "75/75 [==============================] - 64s 857ms/step - loss: 0.0079 - recall_4: 0.9979 - accuracy: 0.9979 - val_loss: 3.5770 - val_recall_4: 0.6660 - val_accuracy: 0.6660\n",
      "Epoch 12/25\n",
      "75/75 [==============================] - 63s 845ms/step - loss: 0.0092 - recall_4: 0.9971 - accuracy: 0.9971 - val_loss: 3.7429 - val_recall_4: 0.6647 - val_accuracy: 0.6647\n"
     ]
    },
    {
     "data": {
      "text/plain": [
       "<keras.callbacks.History at 0x7f8489f36ad0>"
      ]
     },
     "execution_count": 38,
     "metadata": {},
     "output_type": "execute_result"
    }
   ],
   "source": [
    "model_10.fit(train_dataset, \n",
    "            epochs=25,\n",
    "           callbacks=[es_10],\n",
    "           validation_data=val_dataset)"
   ]
  },
  {
   "cell_type": "markdown",
   "id": "b0889b68",
   "metadata": {
    "heading_collapsed": true
   },
   "source": [
    "### Model 11 :\n",
    "- val_recall_4: 0.6647 \n",
    "- val_accuracy: 0.6647\n"
   ]
  },
  {
   "cell_type": "code",
   "execution_count": 40,
   "id": "ef6c6f5d",
   "metadata": {
    "hidden": true
   },
   "outputs": [
    {
     "name": "stdout",
     "output_type": "stream",
     "text": [
      "Model: \"sequential_12\"\n",
      "_________________________________________________________________\n",
      " Layer (type)                Output Shape              Param #   \n",
      "=================================================================\n",
      " conv2d_41 (Conv2D)          (None, 222, 222, 64)      1792      \n",
      "                                                                 \n",
      " max_pooling2d_38 (MaxPoolin  (None, 111, 111, 64)     0         \n",
      " g2D)                                                            \n",
      "                                                                 \n",
      " conv2d_42 (Conv2D)          (None, 109, 109, 64)      36928     \n",
      "                                                                 \n",
      " max_pooling2d_39 (MaxPoolin  (None, 54, 54, 64)       0         \n",
      " g2D)                                                            \n",
      "                                                                 \n",
      " conv2d_43 (Conv2D)          (None, 52, 52, 32)        18464     \n",
      "                                                                 \n",
      " max_pooling2d_40 (MaxPoolin  (None, 26, 26, 32)       0         \n",
      " g2D)                                                            \n",
      "                                                                 \n",
      " dropout_33 (Dropout)        (None, 26, 26, 32)        0         \n",
      "                                                                 \n",
      " flatten_12 (Flatten)        (None, 21632)             0         \n",
      "                                                                 \n",
      " dense_36 (Dense)            (None, 64)                1384512   \n",
      "                                                                 \n",
      " dropout_34 (Dropout)        (None, 64)                0         \n",
      "                                                                 \n",
      " dense_37 (Dense)            (None, 32)                2080      \n",
      "                                                                 \n",
      " dense_38 (Dense)            (None, 3)                 99        \n",
      "                                                                 \n",
      "=================================================================\n",
      "Total params: 1,443,875\n",
      "Trainable params: 1,443,875\n",
      "Non-trainable params: 0\n",
      "_________________________________________________________________\n"
     ]
    }
   ],
   "source": [
    "model_11 = Sequential()\n",
    "\n",
    "model_11.add(layers.Conv2D(64, kernel_size=(3,3), input_shape=(224, 224, 3), activation='relu'))\n",
    "model_11.add(layers.MaxPool2D(pool_size=(2,2)))\n",
    "model_11.add(layers.Conv2D(64, kernel_size=(3,3), activation='relu'))\n",
    "model_11.add(layers.MaxPool2D(pool_size=(2,2)))\n",
    "model_11.add(layers.Conv2D(32, kernel_size=(3,3), activation='relu'))\n",
    "model_11.add(layers.MaxPool2D(pool_size=(2,2)))\n",
    "model_11.add(layers.Dropout(0.5))\n",
    "\n",
    "model_11.add(layers.Flatten())\n",
    "model_11.add(layers.Dense(64, activation='relu'))\n",
    "model_11.add(layers.Dropout(0.5))\n",
    "model_11.add(layers.Dense(32, activation='relu'))\n",
    "model_11.add(layers.Dense(3, activation='softmax'))\n",
    "\n",
    "model_11.summary()"
   ]
  },
  {
   "cell_type": "code",
   "execution_count": 42,
   "id": "f0be84fb",
   "metadata": {
    "hidden": true
   },
   "outputs": [],
   "source": [
    "model_11.compile(loss='categorical_crossentropy',\n",
    "               optimizer='adam',\n",
    "               metrics=[recall, 'accuracy'])"
   ]
  },
  {
   "cell_type": "code",
   "execution_count": 43,
   "id": "93a8daeb",
   "metadata": {
    "hidden": true
   },
   "outputs": [
    {
     "name": "stdout",
     "output_type": "stream",
     "text": [
      "Epoch 1/25\n",
      "75/75 [==============================] - 57s 748ms/step - loss: 0.4175 - recall_4: 0.7082 - accuracy: 0.7987 - val_loss: 2.3139 - val_recall_4: 0.6387 - val_accuracy: 0.6387\n",
      "Epoch 2/25\n",
      "75/75 [==============================] - 57s 759ms/step - loss: 0.0967 - recall_4: 0.9696 - accuracy: 0.9712 - val_loss: 5.1703 - val_recall_4: 0.6500 - val_accuracy: 0.6500\n",
      "Epoch 3/25\n",
      "75/75 [==============================] - 58s 766ms/step - loss: 0.0738 - recall_4: 0.9762 - accuracy: 0.9775 - val_loss: 2.8654 - val_recall_4: 0.6507 - val_accuracy: 0.6513\n",
      "Epoch 4/25\n",
      "75/75 [==============================] - 60s 797ms/step - loss: 0.0333 - recall_4: 0.9892 - accuracy: 0.9917 - val_loss: 3.0127 - val_recall_4: 0.6627 - val_accuracy: 0.6627\n",
      "Epoch 5/25\n",
      "75/75 [==============================] - 61s 810ms/step - loss: 0.0326 - recall_4: 0.9867 - accuracy: 0.9883 - val_loss: 3.4320 - val_recall_4: 0.6600 - val_accuracy: 0.6600\n",
      "Epoch 6/25\n",
      "75/75 [==============================] - 117s 2s/step - loss: 0.0268 - recall_4: 0.9900 - accuracy: 0.9912 - val_loss: 4.4965 - val_recall_4: 0.6647 - val_accuracy: 0.6647\n"
     ]
    },
    {
     "data": {
      "text/plain": [
       "<keras.callbacks.History at 0x7f848b122e90>"
      ]
     },
     "execution_count": 43,
     "metadata": {},
     "output_type": "execute_result"
    }
   ],
   "source": [
    "model_11.fit(train_dataset, \n",
    "            epochs=25,\n",
    "           callbacks=[es],\n",
    "           validation_data=val_dataset)"
   ]
  },
  {
   "cell_type": "code",
   "execution_count": null,
   "id": "e823cf27",
   "metadata": {
    "hidden": true
   },
   "outputs": [],
   "source": []
  }
 ],
 "metadata": {
  "kernelspec": {
   "display_name": "Python 3 (ipykernel)",
   "language": "python",
   "name": "python3"
  },
  "language_info": {
   "codemirror_mode": {
    "name": "ipython",
    "version": 3
   },
   "file_extension": ".py",
   "mimetype": "text/x-python",
   "name": "python",
   "nbconvert_exporter": "python",
   "pygments_lexer": "ipython3",
   "version": "3.10.6"
  },
  "toc": {
   "base_numbering": 1,
   "nav_menu": {},
   "number_sections": true,
   "sideBar": true,
   "skip_h1_title": false,
   "title_cell": "Table of Contents",
   "title_sidebar": "Contents",
   "toc_cell": false,
   "toc_position": {},
   "toc_section_display": true,
   "toc_window_display": false
  },
  "varInspector": {
   "cols": {
    "lenName": 16,
    "lenType": 16,
    "lenVar": 40
   },
   "kernels_config": {
    "python": {
     "delete_cmd_postfix": "",
     "delete_cmd_prefix": "del ",
     "library": "var_list.py",
     "varRefreshCmd": "print(var_dic_list())"
    },
    "r": {
     "delete_cmd_postfix": ") ",
     "delete_cmd_prefix": "rm(",
     "library": "var_list.r",
     "varRefreshCmd": "cat(var_dic_list()) "
    }
   },
   "types_to_exclude": [
    "module",
    "function",
    "builtin_function_or_method",
    "instance",
    "_Feature"
   ],
   "window_display": false
  }
 },
 "nbformat": 4,
 "nbformat_minor": 5
}
