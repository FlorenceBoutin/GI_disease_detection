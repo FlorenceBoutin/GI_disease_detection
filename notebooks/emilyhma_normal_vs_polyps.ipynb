{
 "cells": [
  {
   "cell_type": "markdown",
   "id": "c97e0856",
   "metadata": {},
   "source": [
    "# Loading and Cleaning"
   ]
  },
  {
   "cell_type": "code",
   "execution_count": 1,
   "id": "3b4c034e",
   "metadata": {},
   "outputs": [
    {
     "name": "stderr",
     "output_type": "stream",
     "text": [
      "2023-03-14 09:24:26.628298: I tensorflow/core/platform/cpu_feature_guard.cc:193] This TensorFlow binary is optimized with oneAPI Deep Neural Network Library (oneDNN) to use the following CPU instructions in performance-critical operations:  AVX2 FMA\n",
      "To enable them in other operations, rebuild TensorFlow with the appropriate compiler flags.\n",
      "2023-03-14 09:24:27.421598: W tensorflow/compiler/xla/stream_executor/platform/default/dso_loader.cc:64] Could not load dynamic library 'libcudart.so.11.0'; dlerror: libcudart.so.11.0: cannot open shared object file: No such file or directory\n",
      "2023-03-14 09:24:27.421644: I tensorflow/compiler/xla/stream_executor/cuda/cudart_stub.cc:29] Ignore above cudart dlerror if you do not have a GPU set up on your machine.\n",
      "2023-03-14 09:24:30.915707: W tensorflow/compiler/xla/stream_executor/platform/default/dso_loader.cc:64] Could not load dynamic library 'libnvinfer.so.7'; dlerror: libnvinfer.so.7: cannot open shared object file: No such file or directory\n",
      "2023-03-14 09:24:30.916027: W tensorflow/compiler/xla/stream_executor/platform/default/dso_loader.cc:64] Could not load dynamic library 'libnvinfer_plugin.so.7'; dlerror: libnvinfer_plugin.so.7: cannot open shared object file: No such file or directory\n",
      "2023-03-14 09:24:30.916037: W tensorflow/compiler/tf2tensorrt/utils/py_utils.cc:38] TF-TRT Warning: Cannot dlopen some TensorRT libraries. If you would like to use Nvidia GPU with TensorRT, please make sure the missing libraries mentioned above are installed properly.\n"
     ]
    }
   ],
   "source": [
    "from tensorflow.keras.preprocessing.image import ImageDataGenerator\n",
    "from tensorflow.data import Dataset\n",
    "import os\n",
    "import cv2\n",
    "from imblearn.over_sampling import SMOTE\n",
    "from google.cloud import storage\n",
    "from google.oauth2 import service_account\n",
    "import numpy as np"
   ]
  },
  {
   "cell_type": "markdown",
   "id": "eac5a8bb",
   "metadata": {},
   "source": [
    "## Constants"
   ]
  },
  {
   "cell_type": "code",
   "execution_count": 2,
   "id": "1bc4fde5",
   "metadata": {},
   "outputs": [],
   "source": [
    "SOURCE = \"local\"\n",
    "BATCH_SIZE = 32\n",
    "RAW_DATA_PATH = \"/home/emilyma/code/FlorenceBoutin/GI_disease_detection/raw_data/normal_vs_polyps\"\n",
    "\n",
    "GCLOUD_PROJECT_ID = \"gi-disease-detection\"\n",
    "GCP_REGION = \"europe-west4\"\n",
    "\n",
    "BUCKET_NAME = \"gi-disease-raw-data\"\n",
    "GOOGLE_APPLICATION_CREDENTIALS = \"/home/emilyma/code/emilyhma/gcp/gi-disease-detection-fa509a6759e5.json\"\n",
    "\n",
    "IMAGE_RESCALE_RATIO = 1. / 255\n",
    "IMAGE_TARGET_WIDTH = 224\n",
    "IMAGE_TARGET_HEIGHT = 224"
   ]
  },
  {
   "cell_type": "markdown",
   "id": "59550f12",
   "metadata": {},
   "source": [
    "## Functions"
   ]
  },
  {
   "cell_type": "code",
   "execution_count": 3,
   "id": "02a85c63",
   "metadata": {},
   "outputs": [],
   "source": [
    "def load_images(path, class_mode = \"categorical\"):\n",
    "    \"\"\"\n",
    "    Enter a path to load images from.\n",
    "    class_mode should be \"categorical\" if we are calling this function on data with existing categories.\n",
    "    class_mode should be None if we are calling this function on new data.\n",
    "    \"\"\"\n",
    "    datagen = ImageDataGenerator(rescale = float(IMAGE_RESCALE_RATIO))\n",
    "    images = datagen.flow_from_directory(path,\n",
    "                                         target_size = (int(IMAGE_TARGET_WIDTH), int(IMAGE_TARGET_HEIGHT)),\n",
    "                                         color_mode = \"rgb\",\n",
    "                                         batch_size = int(BATCH_SIZE),\n",
    "                                         class_mode = class_mode)\n",
    "\n",
    "    return images"
   ]
  },
  {
   "cell_type": "code",
   "execution_count": 4,
   "id": "71ede336",
   "metadata": {},
   "outputs": [],
   "source": [
    "def load_images_sample(path, class_mode = \"categorical\"):\n",
    "    \"\"\"\n",
    "    Enter a path to load images from.\n",
    "    class_mode should be \"categorical\" if we are calling this function on data with existing categories.\n",
    "    class_mode should be None if we are calling this function on new data.\n",
    "    \"\"\"\n",
    "    datagen = ImageDataGenerator(rescale = float(IMAGE_RESCALE_RATIO))\n",
    "    images = datagen.flow_from_directory(path,\n",
    "                                         target_size = (int(IMAGE_TARGET_WIDTH), int(IMAGE_TARGET_HEIGHT)),\n",
    "                                         color_mode = \"rgb\",\n",
    "                                         batch_size = 40,\n",
    "                                         class_mode = class_mode)\n",
    "\n",
    "    return images"
   ]
  },
  {
   "cell_type": "code",
   "execution_count": 5,
   "id": "083ee422",
   "metadata": {},
   "outputs": [],
   "source": [
    "def convert_DI_to_numpy(dataset):\n",
    "    \"\"\"\n",
    "    Converts DirectoryIterator dataset to numpy.array.\n",
    "    Returns X and y values for each dataset.\n",
    "    \"\"\"\n",
    "    dataset.reset()\n",
    "    X = np.concatenate([dataset.next()[0] for i in range(dataset.__len__())])\n",
    "    y = np.concatenate([dataset.next()[1] for i in range(dataset.__len__())])\n",
    "\n",
    "    return X, y"
   ]
  },
  {
   "cell_type": "code",
   "execution_count": 6,
   "id": "b1255676",
   "metadata": {},
   "outputs": [],
   "source": [
    "def train_val_test_generator(source = SOURCE, class_mode = \"categorical\", number_of_classes = 2):\n",
    "    \"\"\"\n",
    "    If run on existing data, generates the train, validation, and test datasets,\n",
    "    and the corresponding X and y for train, validation, and test. Set class_mode to \"categorical\".\n",
    "\n",
    "    If run on new data, generates the numpy array for the uploaded image. Set class_mode to None.\n",
    "\n",
    "    If number_of_classes = 2, apply SMOTE to avoid imbalanced classes (normal vs UC + polyps).\n",
    "\n",
    "    If number_of_classes = 3, do not apply SMOTE since classes are already balanced (normal vs UC vs polyps).\n",
    "    \"\"\"\n",
    "    if source == \"local\":\n",
    "        train_directory = os.path.join(RAW_DATA_PATH, \"train\")\n",
    "        val_directory = os.path.join(RAW_DATA_PATH, \"val\")\n",
    "        test_directory = os.path.join(RAW_DATA_PATH, \"test\")\n",
    "\n",
    "    #this doesn't work right now\n",
    "    if source == \"cloud\":\n",
    "        credentials = service_account.Credentials.from_service_account_file(GOOGLE_APPLICATION_CREDENTIALS)\n",
    "        client = storage.Client(project = GCLOUD_PROJECT_ID, credentials = credentials)\n",
    "        bucket = client.get_bucket(BUCKET_NAME)\n",
    "\n",
    "        train_directory = f\"gs://{BUCKET_NAME}/train\"\n",
    "        val_directory = f\"gs://{BUCKET_NAME}/val\"\n",
    "        test_directory = f\"gs://{BUCKET_NAME}/test\"\n",
    "\n",
    "    if class_mode == \"categorical\":\n",
    "        X_train, y_train = convert_DI_to_numpy(load_images(train_directory, class_mode = class_mode))\n",
    "        X_val, y_val = convert_DI_to_numpy(load_images(val_directory, class_mode = class_mode))\n",
    "        X_test, y_test = convert_DI_to_numpy(load_images(test_directory, class_mode = class_mode))\n",
    "\n",
    "        #if imbalanced datasets\n",
    "#         if number_of_classes == 2:\n",
    "#             oversample = SMOTE()\n",
    "#             X_train, y_train = oversample.fit_resample(X_train, y_train)\n",
    "#             X_val, y_val = oversample.fit_resample(X_val, y_val)\n",
    "#             X_test, y_test = oversample.fit_resample(X_test, y_test)\n",
    "\n",
    "        return X_train, y_train, X_val, y_val, X_test, y_test\n",
    "\n",
    "    #need to figure out how to submit the image\n",
    "    #update \"new_image_directory\" accordingly\n",
    "    if class_mode == None:\n",
    "        numpy_image = convert_numpy_to_TFDataset(load_images(\"new_image_directory\", class_mode = class_mode))\n",
    "\n",
    "        return numpy_image"
   ]
  },
  {
   "cell_type": "code",
   "execution_count": 7,
   "id": "65dd004b",
   "metadata": {},
   "outputs": [],
   "source": [
    "def preprocess_images(X: np.array):\n",
    "    \"\"\"\n",
    "    Clean the images in X_train, X_val, and X_test.\n",
    "    \"\"\"\n",
    "    def clean_image(image: np.array):\n",
    "        \"\"\"\n",
    "        Input an image to add a rectangle to cover the green or black box on the resized and normalized image (-1 box).\n",
    "        \"\"\"\n",
    "        # Identified ROI for specific corner box in resized and normalized image\n",
    "        y1 = 148\n",
    "        y2 = 224\n",
    "        x1 = 0\n",
    "        x2 = 77\n",
    "\n",
    "        image_clean = cv2.rectangle(image, (x1, y1), (x2, y2), (-1, -1, -1), -1)\n",
    "\n",
    "        return image_clean\n",
    "\n",
    "    cleaned_X = []\n",
    "\n",
    "    for i in range(X.shape[0]):\n",
    "        temp = (clean_image(X[i, :, :, :]))\n",
    "        cleaned_X.append(cv2.resize(temp, (100, 100)))\n",
    "\n",
    "    return cleaned_X"
   ]
  },
  {
   "cell_type": "code",
   "execution_count": 8,
   "id": "6a786f25",
   "metadata": {},
   "outputs": [],
   "source": [
    "def convert_numpy_to_TFDataset(X, y):\n",
    "    \"\"\"\n",
    "    Converts numpy.array back to TF format but this time a TF dataset.\n",
    "    \"\"\"\n",
    "    dataset = Dataset.from_tensor_slices((X, y)).batch(int(BATCH_SIZE))\n",
    "\n",
    "    return dataset"
   ]
  },
  {
   "cell_type": "code",
   "execution_count": 9,
   "id": "36d1e9a8",
   "metadata": {},
   "outputs": [],
   "source": [
    "def pipeline(class_mode = \"categorical\"):\n",
    "    \"\"\"\n",
    "    A pipeline of the entire cleaning process.\n",
    "    If existing data, class_mode = \"categorical\".\n",
    "    If new data, class_mode = None.\n",
    "    \"\"\"\n",
    "    X_train, y_train, X_val, y_val, X_test, y_test = train_val_test_generator(class_mode = class_mode, number_of_classes = 2)\n",
    "\n",
    "    preprocessed_train = preprocess_images(X_train)\n",
    "    preprocessed_val = preprocess_images(X_val)\n",
    "    preprocessed_test = preprocess_images(X_test)\n",
    "\n",
    "    train_dataset = convert_numpy_to_TFDataset(preprocessed_train, y_train)\n",
    "    val_dataset = convert_numpy_to_TFDataset(preprocessed_val, y_val)\n",
    "    test_dataset = convert_numpy_to_TFDataset(preprocessed_test, y_test)\n",
    "\n",
    "    return train_dataset, val_dataset, test_dataset"
   ]
  },
  {
   "cell_type": "markdown",
   "id": "7a9a86d2",
   "metadata": {},
   "source": [
    "## Loading `train_dataset`, `val_dataset`, and `test_dataset`"
   ]
  },
  {
   "cell_type": "code",
   "execution_count": 10,
   "id": "18bfd5ad",
   "metadata": {
    "scrolled": true
   },
   "outputs": [
    {
     "name": "stdout",
     "output_type": "stream",
     "text": [
      "Found 1600 images belonging to 2 classes.\n",
      "Found 1000 images belonging to 2 classes.\n",
      "Found 400 images belonging to 2 classes.\n"
     ]
    },
    {
     "name": "stderr",
     "output_type": "stream",
     "text": [
      "2023-03-14 09:25:18.272190: W tensorflow/compiler/xla/stream_executor/platform/default/dso_loader.cc:64] Could not load dynamic library 'libcuda.so.1'; dlerror: libcuda.so.1: cannot open shared object file: No such file or directory; LD_LIBRARY_PATH: /home/emilyma/.pyenv/versions/3.10.6/envs/GI_disease_detection/lib/python3.10/site-packages/cv2/../../lib64:\n",
      "2023-03-14 09:25:18.283949: W tensorflow/compiler/xla/stream_executor/cuda/cuda_driver.cc:265] failed call to cuInit: UNKNOWN ERROR (303)\n",
      "2023-03-14 09:25:18.289854: I tensorflow/compiler/xla/stream_executor/cuda/cuda_diagnostics.cc:156] kernel driver does not appear to be running on this host (DESKTOP-FEC965N): /proc/driver/nvidia/version does not exist\n",
      "2023-03-14 09:25:18.382691: I tensorflow/core/platform/cpu_feature_guard.cc:193] This TensorFlow binary is optimized with oneAPI Deep Neural Network Library (oneDNN) to use the following CPU instructions in performance-critical operations:  AVX2 FMA\n",
      "To enable them in other operations, rebuild TensorFlow with the appropriate compiler flags.\n",
      "2023-03-14 09:25:18.504078: W tensorflow/tsl/framework/cpu_allocator_impl.cc:82] Allocation of 192000000 exceeds 10% of free system memory.\n",
      "2023-03-14 09:25:35.966945: W tensorflow/tsl/framework/cpu_allocator_impl.cc:82] Allocation of 120000000 exceeds 10% of free system memory.\n",
      "2023-03-14 09:25:50.055423: W tensorflow/tsl/framework/cpu_allocator_impl.cc:82] Allocation of 48000000 exceeds 10% of free system memory.\n"
     ]
    }
   ],
   "source": [
    "train_dataset, val_dataset, test_dataset = pipeline(class_mode = \"categorical\")"
   ]
  },
  {
   "cell_type": "code",
   "execution_count": 11,
   "id": "bf909011",
   "metadata": {},
   "outputs": [
    {
     "data": {
      "text/plain": [
       "<BatchDataset element_spec=(TensorSpec(shape=(None, 100, 100, 3), dtype=tf.float32, name=None), TensorSpec(shape=(None, 2), dtype=tf.float32, name=None))>"
      ]
     },
     "execution_count": 11,
     "metadata": {},
     "output_type": "execute_result"
    }
   ],
   "source": [
    "train_dataset"
   ]
  },
  {
   "cell_type": "code",
   "execution_count": 12,
   "id": "982295b3",
   "metadata": {},
   "outputs": [
    {
     "data": {
      "text/plain": [
       "<BatchDataset element_spec=(TensorSpec(shape=(None, 100, 100, 3), dtype=tf.float32, name=None), TensorSpec(shape=(None, 2), dtype=tf.float32, name=None))>"
      ]
     },
     "execution_count": 12,
     "metadata": {},
     "output_type": "execute_result"
    }
   ],
   "source": [
    "val_dataset"
   ]
  },
  {
   "cell_type": "code",
   "execution_count": 13,
   "id": "8f46cbfc",
   "metadata": {},
   "outputs": [
    {
     "data": {
      "text/plain": [
       "<BatchDataset element_spec=(TensorSpec(shape=(None, 100, 100, 3), dtype=tf.float32, name=None), TensorSpec(shape=(None, 2), dtype=tf.float32, name=None))>"
      ]
     },
     "execution_count": 13,
     "metadata": {},
     "output_type": "execute_result"
    }
   ],
   "source": [
    "test_dataset"
   ]
  },
  {
   "cell_type": "markdown",
   "id": "fc9b08e3",
   "metadata": {},
   "source": [
    "# Basic CNN Model"
   ]
  },
  {
   "cell_type": "code",
   "execution_count": 14,
   "id": "090148e0",
   "metadata": {},
   "outputs": [],
   "source": [
    "from tensorflow.keras import models\n",
    "from tensorflow.keras import Sequential, layers\n",
    "from tensorflow.keras import optimizers\n",
    "from tensorflow.keras.callbacks import EarlyStopping\n",
    "from tensorflow.keras import metrics"
   ]
  },
  {
   "cell_type": "code",
   "execution_count": 15,
   "id": "4adc590b",
   "metadata": {},
   "outputs": [],
   "source": [
    "es = EarlyStopping(restore_best_weights = True)"
   ]
  },
  {
   "cell_type": "code",
   "execution_count": null,
   "id": "1f5daf82",
   "metadata": {},
   "outputs": [],
   "source": [
    "model = Sequential()\n",
    "\n",
    "model.add(layers.Masking(mask_value = -1, input_shape = (100, 100, 3)))\n",
    "\n",
    "model.add(layers.Conv2D(128, kernel_size = (3, 3), activation = \"relu\"))\n",
    "model.add(layers.Conv2D(128, kernel_size = (3, 3), activation = \"relu\"))\n",
    "model.add(layers.MaxPool2D(pool_size = (3, 3)))\n",
    "\n",
    "model.add(layers.Conv2D(64, kernel_size = (2, 2), activation = \"relu\"))\n",
    "model.add(layers.Conv2D(64, kernel_size = (2, 2), activation = \"relu\"))\n",
    "model.add(layers.MaxPool2D(pool_size = (2, 2)))\n",
    "\n",
    "model.add(layers.Conv2D(32, kernel_size = (2, 2), activation = \"relu\"))\n",
    "model.add(layers.Conv2D(32, kernel_size = (2, 2), activation = \"relu\"))\n",
    "model.add(layers.MaxPool2D(pool_size = (2, 2)))\n",
    "\n",
    "# model.add(layers.Conv2D(16, kernel_size = (2, 2), activation = \"relu\"))\n",
    "# model.add(layers.Conv2D(16, kernel_size = (2, 2), activation = \"relu\"))\n",
    "# model.add(layers.MaxPool2D(pool_size = (2, 2)))\n",
    "model.add(layers.Dropout(rate = 0.2))\n",
    "\n",
    "model.add(layers.Flatten())\n",
    "\n",
    "# model.add(layers.Dense(500, activation = \"relu\"))\n",
    "# model.add(layers.Dense(250, activation = \"relu\"))\n",
    "# model.add(layers.Dense(125, activation = \"relu\"))\n",
    "model.add(layers.Dense(1000, activation = \"relu\"))\n",
    "model.add(layers.Dense(500, activation = \"relu\"))\n",
    "model.add(layers.Dense(2, activation = \"softmax\"))"
   ]
  },
  {
   "cell_type": "code",
   "execution_count": null,
   "id": "2c0a5521",
   "metadata": {},
   "outputs": [],
   "source": [
    "model.summary()"
   ]
  },
  {
   "cell_type": "code",
   "execution_count": null,
   "id": "25e5573c",
   "metadata": {},
   "outputs": [],
   "source": [
    "model.compile(loss = \"binary_crossentropy\", optimizer = \"adam\", metrics = [\"accuracy\", metrics.Recall()])"
   ]
  },
  {
   "cell_type": "code",
   "execution_count": null,
   "id": "4082bf08",
   "metadata": {},
   "outputs": [],
   "source": [
    "model.fit(train_dataset_sample, validation_data = val_dataset_sample, epochs = 10, callbacks = [es])"
   ]
  },
  {
   "cell_type": "code",
   "execution_count": null,
   "id": "a08d8423",
   "metadata": {},
   "outputs": [],
   "source": [
    "model.evaluate(test_dataset_sample)"
   ]
  },
  {
   "cell_type": "markdown",
   "id": "97a0e84c",
   "metadata": {},
   "source": [
    "## CNN Confusion Matrix"
   ]
  },
  {
   "cell_type": "code",
   "execution_count": 16,
   "id": "61baadc4",
   "metadata": {},
   "outputs": [],
   "source": [
    "from sklearn.metrics import confusion_matrix\n",
    "import matplotlib.pyplot as plt\n",
    "import pandas as pd\n",
    "import seaborn as sns"
   ]
  },
  {
   "cell_type": "markdown",
   "id": "cb4ebb53",
   "metadata": {},
   "source": [
    "### Predicted Values"
   ]
  },
  {
   "cell_type": "code",
   "execution_count": null,
   "id": "20a068d1",
   "metadata": {},
   "outputs": [],
   "source": [
    "predictions = model.predict(test_dataset_sample)\n",
    "predictions[:10]"
   ]
  },
  {
   "cell_type": "code",
   "execution_count": null,
   "id": "0af7f7e4",
   "metadata": {},
   "outputs": [],
   "source": [
    "predictions = pd.DataFrame(predictions)"
   ]
  },
  {
   "cell_type": "code",
   "execution_count": null,
   "id": "94d1e512",
   "metadata": {},
   "outputs": [],
   "source": [
    "y_pred = np.array(predictions.idxmax(1))\n",
    "y_pred[:10]"
   ]
  },
  {
   "cell_type": "markdown",
   "id": "3ed140d6",
   "metadata": {},
   "source": [
    "### Actual Values"
   ]
  },
  {
   "cell_type": "code",
   "execution_count": null,
   "id": "8e276995",
   "metadata": {},
   "outputs": [],
   "source": [
    "y_true = np.concatenate([y for x, y in test_dataset_sample], axis = 0)\n",
    "y_true[:10]"
   ]
  },
  {
   "cell_type": "code",
   "execution_count": null,
   "id": "b5fb2aa2",
   "metadata": {},
   "outputs": [],
   "source": [
    "y_true = pd.DataFrame(y_true)"
   ]
  },
  {
   "cell_type": "code",
   "execution_count": null,
   "id": "8036dfec",
   "metadata": {},
   "outputs": [],
   "source": [
    "y_true = np.array(y_true.idxmax(1))\n",
    "y_true[:10]"
   ]
  },
  {
   "cell_type": "markdown",
   "id": "6e919b14",
   "metadata": {},
   "source": [
    "### CM"
   ]
  },
  {
   "cell_type": "code",
   "execution_count": null,
   "id": "6e8c409b",
   "metadata": {},
   "outputs": [],
   "source": [
    "cm = confusion_matrix(y_true, y_pred, normalize = \"true\")\n",
    "classes = [\"normal\", \"polyps\"]"
   ]
  },
  {
   "cell_type": "code",
   "execution_count": null,
   "id": "3779ca72",
   "metadata": {},
   "outputs": [],
   "source": [
    "df_cm = pd.DataFrame(cm, index = classes, columns = classes)\n",
    "plt.figure(figsize = (6, 4))\n",
    "cm_plot = sns.heatmap(df_cm, annot = True);"
   ]
  },
  {
   "cell_type": "markdown",
   "id": "7d3ecd65",
   "metadata": {},
   "source": [
    "### Save CM"
   ]
  },
  {
   "cell_type": "code",
   "execution_count": null,
   "id": "27e71057",
   "metadata": {},
   "outputs": [],
   "source": [
    "cm_plot.figure.savefig(\"cm_normal_vs_polyps_baseline.png\")"
   ]
  },
  {
   "cell_type": "markdown",
   "id": "25b4d6d5",
   "metadata": {},
   "source": [
    "# VGG16 Model"
   ]
  },
  {
   "cell_type": "code",
   "execution_count": null,
   "id": "0d5327ff",
   "metadata": {},
   "outputs": [],
   "source": [
    "from tensorflow.keras.applications import VGG16"
   ]
  },
  {
   "cell_type": "code",
   "execution_count": null,
   "id": "043e18b5",
   "metadata": {},
   "outputs": [],
   "source": [
    "base_vgg_model = VGG16(weights = None, include_top = False, input_shape = (100, 100, 3))\n",
    "# base_vgg_model.trainable = False"
   ]
  },
  {
   "cell_type": "code",
   "execution_count": null,
   "id": "e98dae5a",
   "metadata": {
    "scrolled": false
   },
   "outputs": [],
   "source": [
    "base_vgg_model.summary()"
   ]
  },
  {
   "cell_type": "code",
   "execution_count": null,
   "id": "94d707b8",
   "metadata": {},
   "outputs": [],
   "source": [
    "masking_layer = layers.Masking(mask_value = -1)\n",
    "dropout_layer = layers.Dropout(rate = 0.2)\n",
    "flatten_layer = layers.Flatten()\n",
    "\n",
    "dense_layer_1 = layers.Dense(64, activation = \"relu\")\n",
    "dense_layer_2 = layers.Dense(32, activation = \"relu\")\n",
    "dense_layer_3 = layers.Dense(16, activation = \"relu\")\n",
    "prediction_layer = layers.Dense(2, activation = \"softmax\")\n",
    "\n",
    "\n",
    "vgg_model = Sequential([base_vgg_model,\n",
    "                        masking_layer, flatten_layer,\n",
    "                        dense_layer_1, dense_layer_2,\n",
    "                        prediction_layer])\n",
    "\n",
    "vgg_model.compile(loss = \"binary_crossentropy\", optimizer = \"adam\", metrics = [\"accuracy\", metrics.Recall()])"
   ]
  },
  {
   "cell_type": "code",
   "execution_count": null,
   "id": "7f25427e",
   "metadata": {
    "scrolled": false
   },
   "outputs": [],
   "source": [
    "vgg_model.fit(train_dataset_sample, validation_data = val_dataset_sample, epochs = 10)"
   ]
  },
  {
   "cell_type": "code",
   "execution_count": null,
   "id": "1b516880",
   "metadata": {
    "scrolled": true
   },
   "outputs": [],
   "source": [
    "vgg_model.evaluate(test_dataset_sample)"
   ]
  },
  {
   "cell_type": "markdown",
   "id": "54d2f69c",
   "metadata": {},
   "source": [
    "## VGG16 Confusion Matrix"
   ]
  },
  {
   "cell_type": "markdown",
   "id": "34a86c0b",
   "metadata": {},
   "source": [
    "### Predicted Values"
   ]
  },
  {
   "cell_type": "code",
   "execution_count": null,
   "id": "e40778fb",
   "metadata": {},
   "outputs": [],
   "source": [
    "predictions = vgg_model.predict(test_dataset_sample)\n",
    "predictions[:10]"
   ]
  },
  {
   "cell_type": "code",
   "execution_count": null,
   "id": "bb7c00a7",
   "metadata": {},
   "outputs": [],
   "source": [
    "predictions = pd.DataFrame(predictions)"
   ]
  },
  {
   "cell_type": "code",
   "execution_count": null,
   "id": "a151fac8",
   "metadata": {},
   "outputs": [],
   "source": [
    "y_pred = np.array(predictions.idxmax(1))\n",
    "y_pred[:10]"
   ]
  },
  {
   "cell_type": "markdown",
   "id": "5e496c4c",
   "metadata": {},
   "source": [
    "### Actual Values"
   ]
  },
  {
   "cell_type": "code",
   "execution_count": null,
   "id": "e6a903d6",
   "metadata": {},
   "outputs": [],
   "source": [
    "y_true = np.concatenate([y for x, y in test_dataset_sample], axis = 0)\n",
    "y_true[:10]"
   ]
  },
  {
   "cell_type": "code",
   "execution_count": null,
   "id": "ba7ffd06",
   "metadata": {},
   "outputs": [],
   "source": [
    "y_true = pd.DataFrame(y_true)"
   ]
  },
  {
   "cell_type": "code",
   "execution_count": null,
   "id": "1b81a0b7",
   "metadata": {},
   "outputs": [],
   "source": [
    "y_true = np.array(y_true.idxmax(1))\n",
    "y_true[:10]"
   ]
  },
  {
   "cell_type": "markdown",
   "id": "dab8fded",
   "metadata": {},
   "source": [
    "### CM"
   ]
  },
  {
   "cell_type": "code",
   "execution_count": null,
   "id": "fe7cd58c",
   "metadata": {},
   "outputs": [],
   "source": [
    "cm = confusion_matrix(y_true, y_pred, normalize = \"true\")\n",
    "classes = [\"normal\", \"polyps\"]"
   ]
  },
  {
   "cell_type": "code",
   "execution_count": null,
   "id": "02968d31",
   "metadata": {},
   "outputs": [],
   "source": [
    "df_cm = pd.DataFrame(cm, index = classes, columns = classes)\n",
    "plt.figure(figsize = (6, 4))\n",
    "cm_plot = sns.heatmap(df_cm, annot = True);"
   ]
  },
  {
   "cell_type": "markdown",
   "id": "37c0e904",
   "metadata": {},
   "source": [
    "### Save CM"
   ]
  },
  {
   "cell_type": "code",
   "execution_count": null,
   "id": "3ca2a180",
   "metadata": {},
   "outputs": [],
   "source": [
    "cm_plot.figure.savefig(\"cm_normal_vs_polyps_vgg16.png\")"
   ]
  },
  {
   "cell_type": "markdown",
   "id": "331a97a1",
   "metadata": {},
   "source": [
    "# EfficientNetB2 Model"
   ]
  },
  {
   "cell_type": "code",
   "execution_count": 23,
   "id": "d8cc7392",
   "metadata": {},
   "outputs": [],
   "source": [
    "from tensorflow.keras.applications import EfficientNetB2"
   ]
  },
  {
   "cell_type": "code",
   "execution_count": 24,
   "id": "5ff0a027",
   "metadata": {},
   "outputs": [],
   "source": [
    "base_enb2_model = EfficientNetB2(weights = None, include_top = False, input_shape = (100, 100, 3))"
   ]
  },
  {
   "cell_type": "code",
   "execution_count": 25,
   "id": "fec1d4f8",
   "metadata": {},
   "outputs": [
    {
     "name": "stdout",
     "output_type": "stream",
     "text": [
      "Model: \"efficientnetb2\"\n",
      "__________________________________________________________________________________________________\n",
      " Layer (type)                   Output Shape         Param #     Connected to                     \n",
      "==================================================================================================\n",
      " input_1 (InputLayer)           [(None, 100, 100, 3  0           []                               \n",
      "                                )]                                                                \n",
      "                                                                                                  \n",
      " rescaling (Rescaling)          (None, 100, 100, 3)  0           ['input_1[0][0]']                \n",
      "                                                                                                  \n",
      " normalization (Normalization)  (None, 100, 100, 3)  7           ['rescaling[0][0]']              \n",
      "                                                                                                  \n",
      " stem_conv_pad (ZeroPadding2D)  (None, 101, 101, 3)  0           ['normalization[0][0]']          \n",
      "                                                                                                  \n",
      " stem_conv (Conv2D)             (None, 50, 50, 32)   864         ['stem_conv_pad[0][0]']          \n",
      "                                                                                                  \n",
      " stem_bn (BatchNormalization)   (None, 50, 50, 32)   128         ['stem_conv[0][0]']              \n",
      "                                                                                                  \n",
      " stem_activation (Activation)   (None, 50, 50, 32)   0           ['stem_bn[0][0]']                \n",
      "                                                                                                  \n",
      " block1a_dwconv (DepthwiseConv2  (None, 50, 50, 32)  288         ['stem_activation[0][0]']        \n",
      " D)                                                                                               \n",
      "                                                                                                  \n",
      " block1a_bn (BatchNormalization  (None, 50, 50, 32)  128         ['block1a_dwconv[0][0]']         \n",
      " )                                                                                                \n",
      "                                                                                                  \n",
      " block1a_activation (Activation  (None, 50, 50, 32)  0           ['block1a_bn[0][0]']             \n",
      " )                                                                                                \n",
      "                                                                                                  \n",
      " block1a_se_squeeze (GlobalAver  (None, 32)          0           ['block1a_activation[0][0]']     \n",
      " agePooling2D)                                                                                    \n",
      "                                                                                                  \n",
      " block1a_se_reshape (Reshape)   (None, 1, 1, 32)     0           ['block1a_se_squeeze[0][0]']     \n",
      "                                                                                                  \n",
      " block1a_se_reduce (Conv2D)     (None, 1, 1, 8)      264         ['block1a_se_reshape[0][0]']     \n",
      "                                                                                                  \n",
      " block1a_se_expand (Conv2D)     (None, 1, 1, 32)     288         ['block1a_se_reduce[0][0]']      \n",
      "                                                                                                  \n",
      " block1a_se_excite (Multiply)   (None, 50, 50, 32)   0           ['block1a_activation[0][0]',     \n",
      "                                                                  'block1a_se_expand[0][0]']      \n",
      "                                                                                                  \n",
      " block1a_project_conv (Conv2D)  (None, 50, 50, 16)   512         ['block1a_se_excite[0][0]']      \n",
      "                                                                                                  \n",
      " block1a_project_bn (BatchNorma  (None, 50, 50, 16)  64          ['block1a_project_conv[0][0]']   \n",
      " lization)                                                                                        \n",
      "                                                                                                  \n",
      " block1b_dwconv (DepthwiseConv2  (None, 50, 50, 16)  144         ['block1a_project_bn[0][0]']     \n",
      " D)                                                                                               \n",
      "                                                                                                  \n",
      " block1b_bn (BatchNormalization  (None, 50, 50, 16)  64          ['block1b_dwconv[0][0]']         \n",
      " )                                                                                                \n",
      "                                                                                                  \n",
      " block1b_activation (Activation  (None, 50, 50, 16)  0           ['block1b_bn[0][0]']             \n",
      " )                                                                                                \n",
      "                                                                                                  \n",
      " block1b_se_squeeze (GlobalAver  (None, 16)          0           ['block1b_activation[0][0]']     \n",
      " agePooling2D)                                                                                    \n",
      "                                                                                                  \n",
      " block1b_se_reshape (Reshape)   (None, 1, 1, 16)     0           ['block1b_se_squeeze[0][0]']     \n",
      "                                                                                                  \n",
      " block1b_se_reduce (Conv2D)     (None, 1, 1, 4)      68          ['block1b_se_reshape[0][0]']     \n",
      "                                                                                                  \n",
      " block1b_se_expand (Conv2D)     (None, 1, 1, 16)     80          ['block1b_se_reduce[0][0]']      \n",
      "                                                                                                  \n",
      " block1b_se_excite (Multiply)   (None, 50, 50, 16)   0           ['block1b_activation[0][0]',     \n",
      "                                                                  'block1b_se_expand[0][0]']      \n",
      "                                                                                                  \n",
      " block1b_project_conv (Conv2D)  (None, 50, 50, 16)   256         ['block1b_se_excite[0][0]']      \n",
      "                                                                                                  \n",
      " block1b_project_bn (BatchNorma  (None, 50, 50, 16)  64          ['block1b_project_conv[0][0]']   \n",
      " lization)                                                                                        \n",
      "                                                                                                  \n",
      " block1b_drop (Dropout)         (None, 50, 50, 16)   0           ['block1b_project_bn[0][0]']     \n",
      "                                                                                                  \n",
      " block1b_add (Add)              (None, 50, 50, 16)   0           ['block1b_drop[0][0]',           \n",
      "                                                                  'block1a_project_bn[0][0]']     \n",
      "                                                                                                  \n",
      " block2a_expand_conv (Conv2D)   (None, 50, 50, 96)   1536        ['block1b_add[0][0]']            \n",
      "                                                                                                  \n",
      " block2a_expand_bn (BatchNormal  (None, 50, 50, 96)  384         ['block2a_expand_conv[0][0]']    \n",
      " ization)                                                                                         \n",
      "                                                                                                  \n",
      " block2a_expand_activation (Act  (None, 50, 50, 96)  0           ['block2a_expand_bn[0][0]']      \n",
      " ivation)                                                                                         \n",
      "                                                                                                  \n"
     ]
    },
    {
     "name": "stdout",
     "output_type": "stream",
     "text": [
      " block2a_dwconv_pad (ZeroPaddin  (None, 51, 51, 96)  0           ['block2a_expand_activation[0][0]\n",
      " g2D)                                                            ']                               \n",
      "                                                                                                  \n",
      " block2a_dwconv (DepthwiseConv2  (None, 25, 25, 96)  864         ['block2a_dwconv_pad[0][0]']     \n",
      " D)                                                                                               \n",
      "                                                                                                  \n",
      " block2a_bn (BatchNormalization  (None, 25, 25, 96)  384         ['block2a_dwconv[0][0]']         \n",
      " )                                                                                                \n",
      "                                                                                                  \n",
      " block2a_activation (Activation  (None, 25, 25, 96)  0           ['block2a_bn[0][0]']             \n",
      " )                                                                                                \n",
      "                                                                                                  \n",
      " block2a_se_squeeze (GlobalAver  (None, 96)          0           ['block2a_activation[0][0]']     \n",
      " agePooling2D)                                                                                    \n",
      "                                                                                                  \n",
      " block2a_se_reshape (Reshape)   (None, 1, 1, 96)     0           ['block2a_se_squeeze[0][0]']     \n",
      "                                                                                                  \n",
      " block2a_se_reduce (Conv2D)     (None, 1, 1, 4)      388         ['block2a_se_reshape[0][0]']     \n",
      "                                                                                                  \n",
      " block2a_se_expand (Conv2D)     (None, 1, 1, 96)     480         ['block2a_se_reduce[0][0]']      \n",
      "                                                                                                  \n",
      " block2a_se_excite (Multiply)   (None, 25, 25, 96)   0           ['block2a_activation[0][0]',     \n",
      "                                                                  'block2a_se_expand[0][0]']      \n",
      "                                                                                                  \n",
      " block2a_project_conv (Conv2D)  (None, 25, 25, 24)   2304        ['block2a_se_excite[0][0]']      \n",
      "                                                                                                  \n",
      " block2a_project_bn (BatchNorma  (None, 25, 25, 24)  96          ['block2a_project_conv[0][0]']   \n",
      " lization)                                                                                        \n",
      "                                                                                                  \n",
      " block2b_expand_conv (Conv2D)   (None, 25, 25, 144)  3456        ['block2a_project_bn[0][0]']     \n",
      "                                                                                                  \n",
      " block2b_expand_bn (BatchNormal  (None, 25, 25, 144)  576        ['block2b_expand_conv[0][0]']    \n",
      " ization)                                                                                         \n",
      "                                                                                                  \n",
      " block2b_expand_activation (Act  (None, 25, 25, 144)  0          ['block2b_expand_bn[0][0]']      \n",
      " ivation)                                                                                         \n",
      "                                                                                                  \n",
      " block2b_dwconv (DepthwiseConv2  (None, 25, 25, 144)  1296       ['block2b_expand_activation[0][0]\n",
      " D)                                                              ']                               \n",
      "                                                                                                  \n",
      " block2b_bn (BatchNormalization  (None, 25, 25, 144)  576        ['block2b_dwconv[0][0]']         \n",
      " )                                                                                                \n",
      "                                                                                                  \n",
      " block2b_activation (Activation  (None, 25, 25, 144)  0          ['block2b_bn[0][0]']             \n",
      " )                                                                                                \n",
      "                                                                                                  \n",
      " block2b_se_squeeze (GlobalAver  (None, 144)         0           ['block2b_activation[0][0]']     \n",
      " agePooling2D)                                                                                    \n",
      "                                                                                                  \n",
      " block2b_se_reshape (Reshape)   (None, 1, 1, 144)    0           ['block2b_se_squeeze[0][0]']     \n",
      "                                                                                                  \n",
      " block2b_se_reduce (Conv2D)     (None, 1, 1, 6)      870         ['block2b_se_reshape[0][0]']     \n",
      "                                                                                                  \n",
      " block2b_se_expand (Conv2D)     (None, 1, 1, 144)    1008        ['block2b_se_reduce[0][0]']      \n",
      "                                                                                                  \n",
      " block2b_se_excite (Multiply)   (None, 25, 25, 144)  0           ['block2b_activation[0][0]',     \n",
      "                                                                  'block2b_se_expand[0][0]']      \n",
      "                                                                                                  \n",
      " block2b_project_conv (Conv2D)  (None, 25, 25, 24)   3456        ['block2b_se_excite[0][0]']      \n",
      "                                                                                                  \n",
      " block2b_project_bn (BatchNorma  (None, 25, 25, 24)  96          ['block2b_project_conv[0][0]']   \n",
      " lization)                                                                                        \n",
      "                                                                                                  \n",
      " block2b_drop (Dropout)         (None, 25, 25, 24)   0           ['block2b_project_bn[0][0]']     \n",
      "                                                                                                  \n",
      " block2b_add (Add)              (None, 25, 25, 24)   0           ['block2b_drop[0][0]',           \n",
      "                                                                  'block2a_project_bn[0][0]']     \n",
      "                                                                                                  \n",
      " block2c_expand_conv (Conv2D)   (None, 25, 25, 144)  3456        ['block2b_add[0][0]']            \n",
      "                                                                                                  \n",
      " block2c_expand_bn (BatchNormal  (None, 25, 25, 144)  576        ['block2c_expand_conv[0][0]']    \n",
      " ization)                                                                                         \n",
      "                                                                                                  \n",
      " block2c_expand_activation (Act  (None, 25, 25, 144)  0          ['block2c_expand_bn[0][0]']      \n",
      " ivation)                                                                                         \n",
      "                                                                                                  \n",
      " block2c_dwconv (DepthwiseConv2  (None, 25, 25, 144)  1296       ['block2c_expand_activation[0][0]\n",
      " D)                                                              ']                               \n",
      "                                                                                                  \n",
      " block2c_bn (BatchNormalization  (None, 25, 25, 144)  576        ['block2c_dwconv[0][0]']         \n",
      " )                                                                                                \n",
      "                                                                                                  \n",
      " block2c_activation (Activation  (None, 25, 25, 144)  0          ['block2c_bn[0][0]']             \n"
     ]
    },
    {
     "name": "stdout",
     "output_type": "stream",
     "text": [
      " )                                                                                                \n",
      "                                                                                                  \n",
      " block2c_se_squeeze (GlobalAver  (None, 144)         0           ['block2c_activation[0][0]']     \n",
      " agePooling2D)                                                                                    \n",
      "                                                                                                  \n",
      " block2c_se_reshape (Reshape)   (None, 1, 1, 144)    0           ['block2c_se_squeeze[0][0]']     \n",
      "                                                                                                  \n",
      " block2c_se_reduce (Conv2D)     (None, 1, 1, 6)      870         ['block2c_se_reshape[0][0]']     \n",
      "                                                                                                  \n",
      " block2c_se_expand (Conv2D)     (None, 1, 1, 144)    1008        ['block2c_se_reduce[0][0]']      \n",
      "                                                                                                  \n",
      " block2c_se_excite (Multiply)   (None, 25, 25, 144)  0           ['block2c_activation[0][0]',     \n",
      "                                                                  'block2c_se_expand[0][0]']      \n",
      "                                                                                                  \n",
      " block2c_project_conv (Conv2D)  (None, 25, 25, 24)   3456        ['block2c_se_excite[0][0]']      \n",
      "                                                                                                  \n",
      " block2c_project_bn (BatchNorma  (None, 25, 25, 24)  96          ['block2c_project_conv[0][0]']   \n",
      " lization)                                                                                        \n",
      "                                                                                                  \n",
      " block2c_drop (Dropout)         (None, 25, 25, 24)   0           ['block2c_project_bn[0][0]']     \n",
      "                                                                                                  \n",
      " block2c_add (Add)              (None, 25, 25, 24)   0           ['block2c_drop[0][0]',           \n",
      "                                                                  'block2b_add[0][0]']            \n",
      "                                                                                                  \n",
      " block3a_expand_conv (Conv2D)   (None, 25, 25, 144)  3456        ['block2c_add[0][0]']            \n",
      "                                                                                                  \n",
      " block3a_expand_bn (BatchNormal  (None, 25, 25, 144)  576        ['block3a_expand_conv[0][0]']    \n",
      " ization)                                                                                         \n",
      "                                                                                                  \n",
      " block3a_expand_activation (Act  (None, 25, 25, 144)  0          ['block3a_expand_bn[0][0]']      \n",
      " ivation)                                                                                         \n",
      "                                                                                                  \n",
      " block3a_dwconv_pad (ZeroPaddin  (None, 29, 29, 144)  0          ['block3a_expand_activation[0][0]\n",
      " g2D)                                                            ']                               \n",
      "                                                                                                  \n",
      " block3a_dwconv (DepthwiseConv2  (None, 13, 13, 144)  3600       ['block3a_dwconv_pad[0][0]']     \n",
      " D)                                                                                               \n",
      "                                                                                                  \n",
      " block3a_bn (BatchNormalization  (None, 13, 13, 144)  576        ['block3a_dwconv[0][0]']         \n",
      " )                                                                                                \n",
      "                                                                                                  \n",
      " block3a_activation (Activation  (None, 13, 13, 144)  0          ['block3a_bn[0][0]']             \n",
      " )                                                                                                \n",
      "                                                                                                  \n",
      " block3a_se_squeeze (GlobalAver  (None, 144)         0           ['block3a_activation[0][0]']     \n",
      " agePooling2D)                                                                                    \n",
      "                                                                                                  \n",
      " block3a_se_reshape (Reshape)   (None, 1, 1, 144)    0           ['block3a_se_squeeze[0][0]']     \n",
      "                                                                                                  \n",
      " block3a_se_reduce (Conv2D)     (None, 1, 1, 6)      870         ['block3a_se_reshape[0][0]']     \n",
      "                                                                                                  \n",
      " block3a_se_expand (Conv2D)     (None, 1, 1, 144)    1008        ['block3a_se_reduce[0][0]']      \n",
      "                                                                                                  \n",
      " block3a_se_excite (Multiply)   (None, 13, 13, 144)  0           ['block3a_activation[0][0]',     \n",
      "                                                                  'block3a_se_expand[0][0]']      \n",
      "                                                                                                  \n",
      " block3a_project_conv (Conv2D)  (None, 13, 13, 48)   6912        ['block3a_se_excite[0][0]']      \n",
      "                                                                                                  \n",
      " block3a_project_bn (BatchNorma  (None, 13, 13, 48)  192         ['block3a_project_conv[0][0]']   \n",
      " lization)                                                                                        \n",
      "                                                                                                  \n",
      " block3b_expand_conv (Conv2D)   (None, 13, 13, 288)  13824       ['block3a_project_bn[0][0]']     \n",
      "                                                                                                  \n",
      " block3b_expand_bn (BatchNormal  (None, 13, 13, 288)  1152       ['block3b_expand_conv[0][0]']    \n",
      " ization)                                                                                         \n",
      "                                                                                                  \n",
      " block3b_expand_activation (Act  (None, 13, 13, 288)  0          ['block3b_expand_bn[0][0]']      \n",
      " ivation)                                                                                         \n",
      "                                                                                                  \n",
      " block3b_dwconv (DepthwiseConv2  (None, 13, 13, 288)  7200       ['block3b_expand_activation[0][0]\n",
      " D)                                                              ']                               \n",
      "                                                                                                  \n",
      " block3b_bn (BatchNormalization  (None, 13, 13, 288)  1152       ['block3b_dwconv[0][0]']         \n",
      " )                                                                                                \n",
      "                                                                                                  \n",
      " block3b_activation (Activation  (None, 13, 13, 288)  0          ['block3b_bn[0][0]']             \n",
      " )                                                                                                \n",
      "                                                                                                  \n",
      " block3b_se_squeeze (GlobalAver  (None, 288)         0           ['block3b_activation[0][0]']     \n",
      " agePooling2D)                                                                                    \n",
      "                                                                                                  \n",
      " block3b_se_reshape (Reshape)   (None, 1, 1, 288)    0           ['block3b_se_squeeze[0][0]']     \n",
      "                                                                                                  \n"
     ]
    },
    {
     "name": "stdout",
     "output_type": "stream",
     "text": [
      " block3b_se_reduce (Conv2D)     (None, 1, 1, 12)     3468        ['block3b_se_reshape[0][0]']     \n",
      "                                                                                                  \n",
      " block3b_se_expand (Conv2D)     (None, 1, 1, 288)    3744        ['block3b_se_reduce[0][0]']      \n",
      "                                                                                                  \n",
      " block3b_se_excite (Multiply)   (None, 13, 13, 288)  0           ['block3b_activation[0][0]',     \n",
      "                                                                  'block3b_se_expand[0][0]']      \n",
      "                                                                                                  \n",
      " block3b_project_conv (Conv2D)  (None, 13, 13, 48)   13824       ['block3b_se_excite[0][0]']      \n",
      "                                                                                                  \n",
      " block3b_project_bn (BatchNorma  (None, 13, 13, 48)  192         ['block3b_project_conv[0][0]']   \n",
      " lization)                                                                                        \n",
      "                                                                                                  \n",
      " block3b_drop (Dropout)         (None, 13, 13, 48)   0           ['block3b_project_bn[0][0]']     \n",
      "                                                                                                  \n",
      " block3b_add (Add)              (None, 13, 13, 48)   0           ['block3b_drop[0][0]',           \n",
      "                                                                  'block3a_project_bn[0][0]']     \n",
      "                                                                                                  \n",
      " block3c_expand_conv (Conv2D)   (None, 13, 13, 288)  13824       ['block3b_add[0][0]']            \n",
      "                                                                                                  \n",
      " block3c_expand_bn (BatchNormal  (None, 13, 13, 288)  1152       ['block3c_expand_conv[0][0]']    \n",
      " ization)                                                                                         \n",
      "                                                                                                  \n",
      " block3c_expand_activation (Act  (None, 13, 13, 288)  0          ['block3c_expand_bn[0][0]']      \n",
      " ivation)                                                                                         \n",
      "                                                                                                  \n",
      " block3c_dwconv (DepthwiseConv2  (None, 13, 13, 288)  7200       ['block3c_expand_activation[0][0]\n",
      " D)                                                              ']                               \n",
      "                                                                                                  \n",
      " block3c_bn (BatchNormalization  (None, 13, 13, 288)  1152       ['block3c_dwconv[0][0]']         \n",
      " )                                                                                                \n",
      "                                                                                                  \n",
      " block3c_activation (Activation  (None, 13, 13, 288)  0          ['block3c_bn[0][0]']             \n",
      " )                                                                                                \n",
      "                                                                                                  \n",
      " block3c_se_squeeze (GlobalAver  (None, 288)         0           ['block3c_activation[0][0]']     \n",
      " agePooling2D)                                                                                    \n",
      "                                                                                                  \n",
      " block3c_se_reshape (Reshape)   (None, 1, 1, 288)    0           ['block3c_se_squeeze[0][0]']     \n",
      "                                                                                                  \n",
      " block3c_se_reduce (Conv2D)     (None, 1, 1, 12)     3468        ['block3c_se_reshape[0][0]']     \n",
      "                                                                                                  \n",
      " block3c_se_expand (Conv2D)     (None, 1, 1, 288)    3744        ['block3c_se_reduce[0][0]']      \n",
      "                                                                                                  \n",
      " block3c_se_excite (Multiply)   (None, 13, 13, 288)  0           ['block3c_activation[0][0]',     \n",
      "                                                                  'block3c_se_expand[0][0]']      \n",
      "                                                                                                  \n",
      " block3c_project_conv (Conv2D)  (None, 13, 13, 48)   13824       ['block3c_se_excite[0][0]']      \n",
      "                                                                                                  \n",
      " block3c_project_bn (BatchNorma  (None, 13, 13, 48)  192         ['block3c_project_conv[0][0]']   \n",
      " lization)                                                                                        \n",
      "                                                                                                  \n",
      " block3c_drop (Dropout)         (None, 13, 13, 48)   0           ['block3c_project_bn[0][0]']     \n",
      "                                                                                                  \n",
      " block3c_add (Add)              (None, 13, 13, 48)   0           ['block3c_drop[0][0]',           \n",
      "                                                                  'block3b_add[0][0]']            \n",
      "                                                                                                  \n",
      " block4a_expand_conv (Conv2D)   (None, 13, 13, 288)  13824       ['block3c_add[0][0]']            \n",
      "                                                                                                  \n",
      " block4a_expand_bn (BatchNormal  (None, 13, 13, 288)  1152       ['block4a_expand_conv[0][0]']    \n",
      " ization)                                                                                         \n",
      "                                                                                                  \n",
      " block4a_expand_activation (Act  (None, 13, 13, 288)  0          ['block4a_expand_bn[0][0]']      \n",
      " ivation)                                                                                         \n",
      "                                                                                                  \n",
      " block4a_dwconv_pad (ZeroPaddin  (None, 15, 15, 288)  0          ['block4a_expand_activation[0][0]\n",
      " g2D)                                                            ']                               \n",
      "                                                                                                  \n",
      " block4a_dwconv (DepthwiseConv2  (None, 7, 7, 288)   2592        ['block4a_dwconv_pad[0][0]']     \n",
      " D)                                                                                               \n",
      "                                                                                                  \n",
      " block4a_bn (BatchNormalization  (None, 7, 7, 288)   1152        ['block4a_dwconv[0][0]']         \n",
      " )                                                                                                \n",
      "                                                                                                  \n",
      " block4a_activation (Activation  (None, 7, 7, 288)   0           ['block4a_bn[0][0]']             \n",
      " )                                                                                                \n",
      "                                                                                                  \n",
      " block4a_se_squeeze (GlobalAver  (None, 288)         0           ['block4a_activation[0][0]']     \n",
      " agePooling2D)                                                                                    \n",
      "                                                                                                  \n",
      " block4a_se_reshape (Reshape)   (None, 1, 1, 288)    0           ['block4a_se_squeeze[0][0]']     \n",
      "                                                                                                  \n",
      " block4a_se_reduce (Conv2D)     (None, 1, 1, 12)     3468        ['block4a_se_reshape[0][0]']     \n",
      "                                                                                                  \n"
     ]
    },
    {
     "name": "stdout",
     "output_type": "stream",
     "text": [
      " block4a_se_expand (Conv2D)     (None, 1, 1, 288)    3744        ['block4a_se_reduce[0][0]']      \n",
      "                                                                                                  \n",
      " block4a_se_excite (Multiply)   (None, 7, 7, 288)    0           ['block4a_activation[0][0]',     \n",
      "                                                                  'block4a_se_expand[0][0]']      \n",
      "                                                                                                  \n",
      " block4a_project_conv (Conv2D)  (None, 7, 7, 88)     25344       ['block4a_se_excite[0][0]']      \n",
      "                                                                                                  \n",
      " block4a_project_bn (BatchNorma  (None, 7, 7, 88)    352         ['block4a_project_conv[0][0]']   \n",
      " lization)                                                                                        \n",
      "                                                                                                  \n",
      " block4b_expand_conv (Conv2D)   (None, 7, 7, 528)    46464       ['block4a_project_bn[0][0]']     \n",
      "                                                                                                  \n",
      " block4b_expand_bn (BatchNormal  (None, 7, 7, 528)   2112        ['block4b_expand_conv[0][0]']    \n",
      " ization)                                                                                         \n",
      "                                                                                                  \n",
      " block4b_expand_activation (Act  (None, 7, 7, 528)   0           ['block4b_expand_bn[0][0]']      \n",
      " ivation)                                                                                         \n",
      "                                                                                                  \n",
      " block4b_dwconv (DepthwiseConv2  (None, 7, 7, 528)   4752        ['block4b_expand_activation[0][0]\n",
      " D)                                                              ']                               \n",
      "                                                                                                  \n",
      " block4b_bn (BatchNormalization  (None, 7, 7, 528)   2112        ['block4b_dwconv[0][0]']         \n",
      " )                                                                                                \n",
      "                                                                                                  \n",
      " block4b_activation (Activation  (None, 7, 7, 528)   0           ['block4b_bn[0][0]']             \n",
      " )                                                                                                \n",
      "                                                                                                  \n",
      " block4b_se_squeeze (GlobalAver  (None, 528)         0           ['block4b_activation[0][0]']     \n",
      " agePooling2D)                                                                                    \n",
      "                                                                                                  \n",
      " block4b_se_reshape (Reshape)   (None, 1, 1, 528)    0           ['block4b_se_squeeze[0][0]']     \n",
      "                                                                                                  \n",
      " block4b_se_reduce (Conv2D)     (None, 1, 1, 22)     11638       ['block4b_se_reshape[0][0]']     \n",
      "                                                                                                  \n",
      " block4b_se_expand (Conv2D)     (None, 1, 1, 528)    12144       ['block4b_se_reduce[0][0]']      \n",
      "                                                                                                  \n",
      " block4b_se_excite (Multiply)   (None, 7, 7, 528)    0           ['block4b_activation[0][0]',     \n",
      "                                                                  'block4b_se_expand[0][0]']      \n",
      "                                                                                                  \n",
      " block4b_project_conv (Conv2D)  (None, 7, 7, 88)     46464       ['block4b_se_excite[0][0]']      \n",
      "                                                                                                  \n",
      " block4b_project_bn (BatchNorma  (None, 7, 7, 88)    352         ['block4b_project_conv[0][0]']   \n",
      " lization)                                                                                        \n",
      "                                                                                                  \n",
      " block4b_drop (Dropout)         (None, 7, 7, 88)     0           ['block4b_project_bn[0][0]']     \n",
      "                                                                                                  \n",
      " block4b_add (Add)              (None, 7, 7, 88)     0           ['block4b_drop[0][0]',           \n",
      "                                                                  'block4a_project_bn[0][0]']     \n",
      "                                                                                                  \n",
      " block4c_expand_conv (Conv2D)   (None, 7, 7, 528)    46464       ['block4b_add[0][0]']            \n",
      "                                                                                                  \n",
      " block4c_expand_bn (BatchNormal  (None, 7, 7, 528)   2112        ['block4c_expand_conv[0][0]']    \n",
      " ization)                                                                                         \n",
      "                                                                                                  \n",
      " block4c_expand_activation (Act  (None, 7, 7, 528)   0           ['block4c_expand_bn[0][0]']      \n",
      " ivation)                                                                                         \n",
      "                                                                                                  \n",
      " block4c_dwconv (DepthwiseConv2  (None, 7, 7, 528)   4752        ['block4c_expand_activation[0][0]\n",
      " D)                                                              ']                               \n",
      "                                                                                                  \n",
      " block4c_bn (BatchNormalization  (None, 7, 7, 528)   2112        ['block4c_dwconv[0][0]']         \n",
      " )                                                                                                \n",
      "                                                                                                  \n",
      " block4c_activation (Activation  (None, 7, 7, 528)   0           ['block4c_bn[0][0]']             \n",
      " )                                                                                                \n",
      "                                                                                                  \n",
      " block4c_se_squeeze (GlobalAver  (None, 528)         0           ['block4c_activation[0][0]']     \n",
      " agePooling2D)                                                                                    \n",
      "                                                                                                  \n",
      " block4c_se_reshape (Reshape)   (None, 1, 1, 528)    0           ['block4c_se_squeeze[0][0]']     \n",
      "                                                                                                  \n",
      " block4c_se_reduce (Conv2D)     (None, 1, 1, 22)     11638       ['block4c_se_reshape[0][0]']     \n",
      "                                                                                                  \n",
      " block4c_se_expand (Conv2D)     (None, 1, 1, 528)    12144       ['block4c_se_reduce[0][0]']      \n",
      "                                                                                                  \n",
      " block4c_se_excite (Multiply)   (None, 7, 7, 528)    0           ['block4c_activation[0][0]',     \n",
      "                                                                  'block4c_se_expand[0][0]']      \n",
      "                                                                                                  \n",
      " block4c_project_conv (Conv2D)  (None, 7, 7, 88)     46464       ['block4c_se_excite[0][0]']      \n",
      "                                                                                                  \n",
      " block4c_project_bn (BatchNorma  (None, 7, 7, 88)    352         ['block4c_project_conv[0][0]']   \n",
      " lization)                                                                                        \n",
      "                                                                                                  \n"
     ]
    },
    {
     "name": "stdout",
     "output_type": "stream",
     "text": [
      " block4c_drop (Dropout)         (None, 7, 7, 88)     0           ['block4c_project_bn[0][0]']     \n",
      "                                                                                                  \n",
      " block4c_add (Add)              (None, 7, 7, 88)     0           ['block4c_drop[0][0]',           \n",
      "                                                                  'block4b_add[0][0]']            \n",
      "                                                                                                  \n",
      " block4d_expand_conv (Conv2D)   (None, 7, 7, 528)    46464       ['block4c_add[0][0]']            \n",
      "                                                                                                  \n",
      " block4d_expand_bn (BatchNormal  (None, 7, 7, 528)   2112        ['block4d_expand_conv[0][0]']    \n",
      " ization)                                                                                         \n",
      "                                                                                                  \n",
      " block4d_expand_activation (Act  (None, 7, 7, 528)   0           ['block4d_expand_bn[0][0]']      \n",
      " ivation)                                                                                         \n",
      "                                                                                                  \n",
      " block4d_dwconv (DepthwiseConv2  (None, 7, 7, 528)   4752        ['block4d_expand_activation[0][0]\n",
      " D)                                                              ']                               \n",
      "                                                                                                  \n",
      " block4d_bn (BatchNormalization  (None, 7, 7, 528)   2112        ['block4d_dwconv[0][0]']         \n",
      " )                                                                                                \n",
      "                                                                                                  \n",
      " block4d_activation (Activation  (None, 7, 7, 528)   0           ['block4d_bn[0][0]']             \n",
      " )                                                                                                \n",
      "                                                                                                  \n",
      " block4d_se_squeeze (GlobalAver  (None, 528)         0           ['block4d_activation[0][0]']     \n",
      " agePooling2D)                                                                                    \n",
      "                                                                                                  \n",
      " block4d_se_reshape (Reshape)   (None, 1, 1, 528)    0           ['block4d_se_squeeze[0][0]']     \n",
      "                                                                                                  \n",
      " block4d_se_reduce (Conv2D)     (None, 1, 1, 22)     11638       ['block4d_se_reshape[0][0]']     \n",
      "                                                                                                  \n",
      " block4d_se_expand (Conv2D)     (None, 1, 1, 528)    12144       ['block4d_se_reduce[0][0]']      \n",
      "                                                                                                  \n",
      " block4d_se_excite (Multiply)   (None, 7, 7, 528)    0           ['block4d_activation[0][0]',     \n",
      "                                                                  'block4d_se_expand[0][0]']      \n",
      "                                                                                                  \n",
      " block4d_project_conv (Conv2D)  (None, 7, 7, 88)     46464       ['block4d_se_excite[0][0]']      \n",
      "                                                                                                  \n",
      " block4d_project_bn (BatchNorma  (None, 7, 7, 88)    352         ['block4d_project_conv[0][0]']   \n",
      " lization)                                                                                        \n",
      "                                                                                                  \n",
      " block4d_drop (Dropout)         (None, 7, 7, 88)     0           ['block4d_project_bn[0][0]']     \n",
      "                                                                                                  \n",
      " block4d_add (Add)              (None, 7, 7, 88)     0           ['block4d_drop[0][0]',           \n",
      "                                                                  'block4c_add[0][0]']            \n",
      "                                                                                                  \n",
      " block5a_expand_conv (Conv2D)   (None, 7, 7, 528)    46464       ['block4d_add[0][0]']            \n",
      "                                                                                                  \n",
      " block5a_expand_bn (BatchNormal  (None, 7, 7, 528)   2112        ['block5a_expand_conv[0][0]']    \n",
      " ization)                                                                                         \n",
      "                                                                                                  \n",
      " block5a_expand_activation (Act  (None, 7, 7, 528)   0           ['block5a_expand_bn[0][0]']      \n",
      " ivation)                                                                                         \n",
      "                                                                                                  \n",
      " block5a_dwconv (DepthwiseConv2  (None, 7, 7, 528)   13200       ['block5a_expand_activation[0][0]\n",
      " D)                                                              ']                               \n",
      "                                                                                                  \n",
      " block5a_bn (BatchNormalization  (None, 7, 7, 528)   2112        ['block5a_dwconv[0][0]']         \n",
      " )                                                                                                \n",
      "                                                                                                  \n",
      " block5a_activation (Activation  (None, 7, 7, 528)   0           ['block5a_bn[0][0]']             \n",
      " )                                                                                                \n",
      "                                                                                                  \n",
      " block5a_se_squeeze (GlobalAver  (None, 528)         0           ['block5a_activation[0][0]']     \n",
      " agePooling2D)                                                                                    \n",
      "                                                                                                  \n",
      " block5a_se_reshape (Reshape)   (None, 1, 1, 528)    0           ['block5a_se_squeeze[0][0]']     \n",
      "                                                                                                  \n",
      " block5a_se_reduce (Conv2D)     (None, 1, 1, 22)     11638       ['block5a_se_reshape[0][0]']     \n",
      "                                                                                                  \n",
      " block5a_se_expand (Conv2D)     (None, 1, 1, 528)    12144       ['block5a_se_reduce[0][0]']      \n",
      "                                                                                                  \n",
      " block5a_se_excite (Multiply)   (None, 7, 7, 528)    0           ['block5a_activation[0][0]',     \n",
      "                                                                  'block5a_se_expand[0][0]']      \n",
      "                                                                                                  \n",
      " block5a_project_conv (Conv2D)  (None, 7, 7, 120)    63360       ['block5a_se_excite[0][0]']      \n",
      "                                                                                                  \n",
      " block5a_project_bn (BatchNorma  (None, 7, 7, 120)   480         ['block5a_project_conv[0][0]']   \n",
      " lization)                                                                                        \n",
      "                                                                                                  \n",
      " block5b_expand_conv (Conv2D)   (None, 7, 7, 720)    86400       ['block5a_project_bn[0][0]']     \n",
      "                                                                                                  \n",
      " block5b_expand_bn (BatchNormal  (None, 7, 7, 720)   2880        ['block5b_expand_conv[0][0]']    \n",
      " ization)                                                                                         \n",
      "                                                                                                  \n"
     ]
    },
    {
     "name": "stdout",
     "output_type": "stream",
     "text": [
      " block5b_expand_activation (Act  (None, 7, 7, 720)   0           ['block5b_expand_bn[0][0]']      \n",
      " ivation)                                                                                         \n",
      "                                                                                                  \n",
      " block5b_dwconv (DepthwiseConv2  (None, 7, 7, 720)   18000       ['block5b_expand_activation[0][0]\n",
      " D)                                                              ']                               \n",
      "                                                                                                  \n",
      " block5b_bn (BatchNormalization  (None, 7, 7, 720)   2880        ['block5b_dwconv[0][0]']         \n",
      " )                                                                                                \n",
      "                                                                                                  \n",
      " block5b_activation (Activation  (None, 7, 7, 720)   0           ['block5b_bn[0][0]']             \n",
      " )                                                                                                \n",
      "                                                                                                  \n",
      " block5b_se_squeeze (GlobalAver  (None, 720)         0           ['block5b_activation[0][0]']     \n",
      " agePooling2D)                                                                                    \n",
      "                                                                                                  \n",
      " block5b_se_reshape (Reshape)   (None, 1, 1, 720)    0           ['block5b_se_squeeze[0][0]']     \n",
      "                                                                                                  \n",
      " block5b_se_reduce (Conv2D)     (None, 1, 1, 30)     21630       ['block5b_se_reshape[0][0]']     \n",
      "                                                                                                  \n",
      " block5b_se_expand (Conv2D)     (None, 1, 1, 720)    22320       ['block5b_se_reduce[0][0]']      \n",
      "                                                                                                  \n",
      " block5b_se_excite (Multiply)   (None, 7, 7, 720)    0           ['block5b_activation[0][0]',     \n",
      "                                                                  'block5b_se_expand[0][0]']      \n",
      "                                                                                                  \n",
      " block5b_project_conv (Conv2D)  (None, 7, 7, 120)    86400       ['block5b_se_excite[0][0]']      \n",
      "                                                                                                  \n",
      " block5b_project_bn (BatchNorma  (None, 7, 7, 120)   480         ['block5b_project_conv[0][0]']   \n",
      " lization)                                                                                        \n",
      "                                                                                                  \n",
      " block5b_drop (Dropout)         (None, 7, 7, 120)    0           ['block5b_project_bn[0][0]']     \n",
      "                                                                                                  \n",
      " block5b_add (Add)              (None, 7, 7, 120)    0           ['block5b_drop[0][0]',           \n",
      "                                                                  'block5a_project_bn[0][0]']     \n",
      "                                                                                                  \n",
      " block5c_expand_conv (Conv2D)   (None, 7, 7, 720)    86400       ['block5b_add[0][0]']            \n",
      "                                                                                                  \n",
      " block5c_expand_bn (BatchNormal  (None, 7, 7, 720)   2880        ['block5c_expand_conv[0][0]']    \n",
      " ization)                                                                                         \n",
      "                                                                                                  \n",
      " block5c_expand_activation (Act  (None, 7, 7, 720)   0           ['block5c_expand_bn[0][0]']      \n",
      " ivation)                                                                                         \n",
      "                                                                                                  \n",
      " block5c_dwconv (DepthwiseConv2  (None, 7, 7, 720)   18000       ['block5c_expand_activation[0][0]\n",
      " D)                                                              ']                               \n",
      "                                                                                                  \n",
      " block5c_bn (BatchNormalization  (None, 7, 7, 720)   2880        ['block5c_dwconv[0][0]']         \n",
      " )                                                                                                \n",
      "                                                                                                  \n",
      " block5c_activation (Activation  (None, 7, 7, 720)   0           ['block5c_bn[0][0]']             \n",
      " )                                                                                                \n",
      "                                                                                                  \n",
      " block5c_se_squeeze (GlobalAver  (None, 720)         0           ['block5c_activation[0][0]']     \n",
      " agePooling2D)                                                                                    \n",
      "                                                                                                  \n",
      " block5c_se_reshape (Reshape)   (None, 1, 1, 720)    0           ['block5c_se_squeeze[0][0]']     \n",
      "                                                                                                  \n",
      " block5c_se_reduce (Conv2D)     (None, 1, 1, 30)     21630       ['block5c_se_reshape[0][0]']     \n",
      "                                                                                                  \n",
      " block5c_se_expand (Conv2D)     (None, 1, 1, 720)    22320       ['block5c_se_reduce[0][0]']      \n",
      "                                                                                                  \n",
      " block5c_se_excite (Multiply)   (None, 7, 7, 720)    0           ['block5c_activation[0][0]',     \n",
      "                                                                  'block5c_se_expand[0][0]']      \n",
      "                                                                                                  \n",
      " block5c_project_conv (Conv2D)  (None, 7, 7, 120)    86400       ['block5c_se_excite[0][0]']      \n",
      "                                                                                                  \n",
      " block5c_project_bn (BatchNorma  (None, 7, 7, 120)   480         ['block5c_project_conv[0][0]']   \n",
      " lization)                                                                                        \n",
      "                                                                                                  \n",
      " block5c_drop (Dropout)         (None, 7, 7, 120)    0           ['block5c_project_bn[0][0]']     \n",
      "                                                                                                  \n",
      " block5c_add (Add)              (None, 7, 7, 120)    0           ['block5c_drop[0][0]',           \n",
      "                                                                  'block5b_add[0][0]']            \n",
      "                                                                                                  \n",
      " block5d_expand_conv (Conv2D)   (None, 7, 7, 720)    86400       ['block5c_add[0][0]']            \n",
      "                                                                                                  \n",
      " block5d_expand_bn (BatchNormal  (None, 7, 7, 720)   2880        ['block5d_expand_conv[0][0]']    \n",
      " ization)                                                                                         \n",
      "                                                                                                  \n",
      " block5d_expand_activation (Act  (None, 7, 7, 720)   0           ['block5d_expand_bn[0][0]']      \n",
      " ivation)                                                                                         \n",
      "                                                                                                  \n",
      " block5d_dwconv (DepthwiseConv2  (None, 7, 7, 720)   18000       ['block5d_expand_activation[0][0]\n",
      " D)                                                              ']                               \n"
     ]
    },
    {
     "name": "stdout",
     "output_type": "stream",
     "text": [
      "                                                                                                  \n",
      " block5d_bn (BatchNormalization  (None, 7, 7, 720)   2880        ['block5d_dwconv[0][0]']         \n",
      " )                                                                                                \n",
      "                                                                                                  \n",
      " block5d_activation (Activation  (None, 7, 7, 720)   0           ['block5d_bn[0][0]']             \n",
      " )                                                                                                \n",
      "                                                                                                  \n",
      " block5d_se_squeeze (GlobalAver  (None, 720)         0           ['block5d_activation[0][0]']     \n",
      " agePooling2D)                                                                                    \n",
      "                                                                                                  \n",
      " block5d_se_reshape (Reshape)   (None, 1, 1, 720)    0           ['block5d_se_squeeze[0][0]']     \n",
      "                                                                                                  \n",
      " block5d_se_reduce (Conv2D)     (None, 1, 1, 30)     21630       ['block5d_se_reshape[0][0]']     \n",
      "                                                                                                  \n",
      " block5d_se_expand (Conv2D)     (None, 1, 1, 720)    22320       ['block5d_se_reduce[0][0]']      \n",
      "                                                                                                  \n",
      " block5d_se_excite (Multiply)   (None, 7, 7, 720)    0           ['block5d_activation[0][0]',     \n",
      "                                                                  'block5d_se_expand[0][0]']      \n",
      "                                                                                                  \n",
      " block5d_project_conv (Conv2D)  (None, 7, 7, 120)    86400       ['block5d_se_excite[0][0]']      \n",
      "                                                                                                  \n",
      " block5d_project_bn (BatchNorma  (None, 7, 7, 120)   480         ['block5d_project_conv[0][0]']   \n",
      " lization)                                                                                        \n",
      "                                                                                                  \n",
      " block5d_drop (Dropout)         (None, 7, 7, 120)    0           ['block5d_project_bn[0][0]']     \n",
      "                                                                                                  \n",
      " block5d_add (Add)              (None, 7, 7, 120)    0           ['block5d_drop[0][0]',           \n",
      "                                                                  'block5c_add[0][0]']            \n",
      "                                                                                                  \n",
      " block6a_expand_conv (Conv2D)   (None, 7, 7, 720)    86400       ['block5d_add[0][0]']            \n",
      "                                                                                                  \n",
      " block6a_expand_bn (BatchNormal  (None, 7, 7, 720)   2880        ['block6a_expand_conv[0][0]']    \n",
      " ization)                                                                                         \n",
      "                                                                                                  \n",
      " block6a_expand_activation (Act  (None, 7, 7, 720)   0           ['block6a_expand_bn[0][0]']      \n",
      " ivation)                                                                                         \n",
      "                                                                                                  \n",
      " block6a_dwconv_pad (ZeroPaddin  (None, 11, 11, 720)  0          ['block6a_expand_activation[0][0]\n",
      " g2D)                                                            ']                               \n",
      "                                                                                                  \n",
      " block6a_dwconv (DepthwiseConv2  (None, 4, 4, 720)   18000       ['block6a_dwconv_pad[0][0]']     \n",
      " D)                                                                                               \n",
      "                                                                                                  \n",
      " block6a_bn (BatchNormalization  (None, 4, 4, 720)   2880        ['block6a_dwconv[0][0]']         \n",
      " )                                                                                                \n",
      "                                                                                                  \n",
      " block6a_activation (Activation  (None, 4, 4, 720)   0           ['block6a_bn[0][0]']             \n",
      " )                                                                                                \n",
      "                                                                                                  \n",
      " block6a_se_squeeze (GlobalAver  (None, 720)         0           ['block6a_activation[0][0]']     \n",
      " agePooling2D)                                                                                    \n",
      "                                                                                                  \n",
      " block6a_se_reshape (Reshape)   (None, 1, 1, 720)    0           ['block6a_se_squeeze[0][0]']     \n",
      "                                                                                                  \n",
      " block6a_se_reduce (Conv2D)     (None, 1, 1, 30)     21630       ['block6a_se_reshape[0][0]']     \n",
      "                                                                                                  \n",
      " block6a_se_expand (Conv2D)     (None, 1, 1, 720)    22320       ['block6a_se_reduce[0][0]']      \n",
      "                                                                                                  \n",
      " block6a_se_excite (Multiply)   (None, 4, 4, 720)    0           ['block6a_activation[0][0]',     \n",
      "                                                                  'block6a_se_expand[0][0]']      \n",
      "                                                                                                  \n",
      " block6a_project_conv (Conv2D)  (None, 4, 4, 208)    149760      ['block6a_se_excite[0][0]']      \n",
      "                                                                                                  \n",
      " block6a_project_bn (BatchNorma  (None, 4, 4, 208)   832         ['block6a_project_conv[0][0]']   \n",
      " lization)                                                                                        \n",
      "                                                                                                  \n",
      " block6b_expand_conv (Conv2D)   (None, 4, 4, 1248)   259584      ['block6a_project_bn[0][0]']     \n",
      "                                                                                                  \n",
      " block6b_expand_bn (BatchNormal  (None, 4, 4, 1248)  4992        ['block6b_expand_conv[0][0]']    \n",
      " ization)                                                                                         \n",
      "                                                                                                  \n",
      " block6b_expand_activation (Act  (None, 4, 4, 1248)  0           ['block6b_expand_bn[0][0]']      \n",
      " ivation)                                                                                         \n",
      "                                                                                                  \n",
      " block6b_dwconv (DepthwiseConv2  (None, 4, 4, 1248)  31200       ['block6b_expand_activation[0][0]\n",
      " D)                                                              ']                               \n",
      "                                                                                                  \n",
      " block6b_bn (BatchNormalization  (None, 4, 4, 1248)  4992        ['block6b_dwconv[0][0]']         \n",
      " )                                                                                                \n",
      "                                                                                                  \n",
      " block6b_activation (Activation  (None, 4, 4, 1248)  0           ['block6b_bn[0][0]']             \n",
      " )                                                                                                \n",
      "                                                                                                  \n"
     ]
    },
    {
     "name": "stdout",
     "output_type": "stream",
     "text": [
      " block6b_se_squeeze (GlobalAver  (None, 1248)        0           ['block6b_activation[0][0]']     \n",
      " agePooling2D)                                                                                    \n",
      "                                                                                                  \n",
      " block6b_se_reshape (Reshape)   (None, 1, 1, 1248)   0           ['block6b_se_squeeze[0][0]']     \n",
      "                                                                                                  \n",
      " block6b_se_reduce (Conv2D)     (None, 1, 1, 52)     64948       ['block6b_se_reshape[0][0]']     \n",
      "                                                                                                  \n",
      " block6b_se_expand (Conv2D)     (None, 1, 1, 1248)   66144       ['block6b_se_reduce[0][0]']      \n",
      "                                                                                                  \n",
      " block6b_se_excite (Multiply)   (None, 4, 4, 1248)   0           ['block6b_activation[0][0]',     \n",
      "                                                                  'block6b_se_expand[0][0]']      \n",
      "                                                                                                  \n",
      " block6b_project_conv (Conv2D)  (None, 4, 4, 208)    259584      ['block6b_se_excite[0][0]']      \n",
      "                                                                                                  \n",
      " block6b_project_bn (BatchNorma  (None, 4, 4, 208)   832         ['block6b_project_conv[0][0]']   \n",
      " lization)                                                                                        \n",
      "                                                                                                  \n",
      " block6b_drop (Dropout)         (None, 4, 4, 208)    0           ['block6b_project_bn[0][0]']     \n",
      "                                                                                                  \n",
      " block6b_add (Add)              (None, 4, 4, 208)    0           ['block6b_drop[0][0]',           \n",
      "                                                                  'block6a_project_bn[0][0]']     \n",
      "                                                                                                  \n",
      " block6c_expand_conv (Conv2D)   (None, 4, 4, 1248)   259584      ['block6b_add[0][0]']            \n",
      "                                                                                                  \n",
      " block6c_expand_bn (BatchNormal  (None, 4, 4, 1248)  4992        ['block6c_expand_conv[0][0]']    \n",
      " ization)                                                                                         \n",
      "                                                                                                  \n",
      " block6c_expand_activation (Act  (None, 4, 4, 1248)  0           ['block6c_expand_bn[0][0]']      \n",
      " ivation)                                                                                         \n",
      "                                                                                                  \n",
      " block6c_dwconv (DepthwiseConv2  (None, 4, 4, 1248)  31200       ['block6c_expand_activation[0][0]\n",
      " D)                                                              ']                               \n",
      "                                                                                                  \n",
      " block6c_bn (BatchNormalization  (None, 4, 4, 1248)  4992        ['block6c_dwconv[0][0]']         \n",
      " )                                                                                                \n",
      "                                                                                                  \n",
      " block6c_activation (Activation  (None, 4, 4, 1248)  0           ['block6c_bn[0][0]']             \n",
      " )                                                                                                \n",
      "                                                                                                  \n",
      " block6c_se_squeeze (GlobalAver  (None, 1248)        0           ['block6c_activation[0][0]']     \n",
      " agePooling2D)                                                                                    \n",
      "                                                                                                  \n",
      " block6c_se_reshape (Reshape)   (None, 1, 1, 1248)   0           ['block6c_se_squeeze[0][0]']     \n",
      "                                                                                                  \n",
      " block6c_se_reduce (Conv2D)     (None, 1, 1, 52)     64948       ['block6c_se_reshape[0][0]']     \n",
      "                                                                                                  \n",
      " block6c_se_expand (Conv2D)     (None, 1, 1, 1248)   66144       ['block6c_se_reduce[0][0]']      \n",
      "                                                                                                  \n",
      " block6c_se_excite (Multiply)   (None, 4, 4, 1248)   0           ['block6c_activation[0][0]',     \n",
      "                                                                  'block6c_se_expand[0][0]']      \n",
      "                                                                                                  \n",
      " block6c_project_conv (Conv2D)  (None, 4, 4, 208)    259584      ['block6c_se_excite[0][0]']      \n",
      "                                                                                                  \n",
      " block6c_project_bn (BatchNorma  (None, 4, 4, 208)   832         ['block6c_project_conv[0][0]']   \n",
      " lization)                                                                                        \n",
      "                                                                                                  \n",
      " block6c_drop (Dropout)         (None, 4, 4, 208)    0           ['block6c_project_bn[0][0]']     \n",
      "                                                                                                  \n",
      " block6c_add (Add)              (None, 4, 4, 208)    0           ['block6c_drop[0][0]',           \n",
      "                                                                  'block6b_add[0][0]']            \n",
      "                                                                                                  \n",
      " block6d_expand_conv (Conv2D)   (None, 4, 4, 1248)   259584      ['block6c_add[0][0]']            \n",
      "                                                                                                  \n",
      " block6d_expand_bn (BatchNormal  (None, 4, 4, 1248)  4992        ['block6d_expand_conv[0][0]']    \n",
      " ization)                                                                                         \n",
      "                                                                                                  \n",
      " block6d_expand_activation (Act  (None, 4, 4, 1248)  0           ['block6d_expand_bn[0][0]']      \n",
      " ivation)                                                                                         \n",
      "                                                                                                  \n",
      " block6d_dwconv (DepthwiseConv2  (None, 4, 4, 1248)  31200       ['block6d_expand_activation[0][0]\n",
      " D)                                                              ']                               \n",
      "                                                                                                  \n",
      " block6d_bn (BatchNormalization  (None, 4, 4, 1248)  4992        ['block6d_dwconv[0][0]']         \n",
      " )                                                                                                \n",
      "                                                                                                  \n",
      " block6d_activation (Activation  (None, 4, 4, 1248)  0           ['block6d_bn[0][0]']             \n",
      " )                                                                                                \n",
      "                                                                                                  \n",
      " block6d_se_squeeze (GlobalAver  (None, 1248)        0           ['block6d_activation[0][0]']     \n",
      " agePooling2D)                                                                                    \n",
      "                                                                                                  \n",
      " block6d_se_reshape (Reshape)   (None, 1, 1, 1248)   0           ['block6d_se_squeeze[0][0]']     \n",
      "                                                                                                  \n"
     ]
    },
    {
     "name": "stdout",
     "output_type": "stream",
     "text": [
      " block6d_se_reduce (Conv2D)     (None, 1, 1, 52)     64948       ['block6d_se_reshape[0][0]']     \n",
      "                                                                                                  \n",
      " block6d_se_expand (Conv2D)     (None, 1, 1, 1248)   66144       ['block6d_se_reduce[0][0]']      \n",
      "                                                                                                  \n",
      " block6d_se_excite (Multiply)   (None, 4, 4, 1248)   0           ['block6d_activation[0][0]',     \n",
      "                                                                  'block6d_se_expand[0][0]']      \n",
      "                                                                                                  \n",
      " block6d_project_conv (Conv2D)  (None, 4, 4, 208)    259584      ['block6d_se_excite[0][0]']      \n",
      "                                                                                                  \n",
      " block6d_project_bn (BatchNorma  (None, 4, 4, 208)   832         ['block6d_project_conv[0][0]']   \n",
      " lization)                                                                                        \n",
      "                                                                                                  \n",
      " block6d_drop (Dropout)         (None, 4, 4, 208)    0           ['block6d_project_bn[0][0]']     \n",
      "                                                                                                  \n",
      " block6d_add (Add)              (None, 4, 4, 208)    0           ['block6d_drop[0][0]',           \n",
      "                                                                  'block6c_add[0][0]']            \n",
      "                                                                                                  \n",
      " block6e_expand_conv (Conv2D)   (None, 4, 4, 1248)   259584      ['block6d_add[0][0]']            \n",
      "                                                                                                  \n",
      " block6e_expand_bn (BatchNormal  (None, 4, 4, 1248)  4992        ['block6e_expand_conv[0][0]']    \n",
      " ization)                                                                                         \n",
      "                                                                                                  \n",
      " block6e_expand_activation (Act  (None, 4, 4, 1248)  0           ['block6e_expand_bn[0][0]']      \n",
      " ivation)                                                                                         \n",
      "                                                                                                  \n",
      " block6e_dwconv (DepthwiseConv2  (None, 4, 4, 1248)  31200       ['block6e_expand_activation[0][0]\n",
      " D)                                                              ']                               \n",
      "                                                                                                  \n",
      " block6e_bn (BatchNormalization  (None, 4, 4, 1248)  4992        ['block6e_dwconv[0][0]']         \n",
      " )                                                                                                \n",
      "                                                                                                  \n",
      " block6e_activation (Activation  (None, 4, 4, 1248)  0           ['block6e_bn[0][0]']             \n",
      " )                                                                                                \n",
      "                                                                                                  \n",
      " block6e_se_squeeze (GlobalAver  (None, 1248)        0           ['block6e_activation[0][0]']     \n",
      " agePooling2D)                                                                                    \n",
      "                                                                                                  \n",
      " block6e_se_reshape (Reshape)   (None, 1, 1, 1248)   0           ['block6e_se_squeeze[0][0]']     \n",
      "                                                                                                  \n",
      " block6e_se_reduce (Conv2D)     (None, 1, 1, 52)     64948       ['block6e_se_reshape[0][0]']     \n",
      "                                                                                                  \n",
      " block6e_se_expand (Conv2D)     (None, 1, 1, 1248)   66144       ['block6e_se_reduce[0][0]']      \n",
      "                                                                                                  \n",
      " block6e_se_excite (Multiply)   (None, 4, 4, 1248)   0           ['block6e_activation[0][0]',     \n",
      "                                                                  'block6e_se_expand[0][0]']      \n",
      "                                                                                                  \n",
      " block6e_project_conv (Conv2D)  (None, 4, 4, 208)    259584      ['block6e_se_excite[0][0]']      \n",
      "                                                                                                  \n",
      " block6e_project_bn (BatchNorma  (None, 4, 4, 208)   832         ['block6e_project_conv[0][0]']   \n",
      " lization)                                                                                        \n",
      "                                                                                                  \n",
      " block6e_drop (Dropout)         (None, 4, 4, 208)    0           ['block6e_project_bn[0][0]']     \n",
      "                                                                                                  \n",
      " block6e_add (Add)              (None, 4, 4, 208)    0           ['block6e_drop[0][0]',           \n",
      "                                                                  'block6d_add[0][0]']            \n",
      "                                                                                                  \n",
      " block7a_expand_conv (Conv2D)   (None, 4, 4, 1248)   259584      ['block6e_add[0][0]']            \n",
      "                                                                                                  \n",
      " block7a_expand_bn (BatchNormal  (None, 4, 4, 1248)  4992        ['block7a_expand_conv[0][0]']    \n",
      " ization)                                                                                         \n",
      "                                                                                                  \n",
      " block7a_expand_activation (Act  (None, 4, 4, 1248)  0           ['block7a_expand_bn[0][0]']      \n",
      " ivation)                                                                                         \n",
      "                                                                                                  \n",
      " block7a_dwconv (DepthwiseConv2  (None, 4, 4, 1248)  11232       ['block7a_expand_activation[0][0]\n",
      " D)                                                              ']                               \n",
      "                                                                                                  \n",
      " block7a_bn (BatchNormalization  (None, 4, 4, 1248)  4992        ['block7a_dwconv[0][0]']         \n",
      " )                                                                                                \n",
      "                                                                                                  \n",
      " block7a_activation (Activation  (None, 4, 4, 1248)  0           ['block7a_bn[0][0]']             \n",
      " )                                                                                                \n",
      "                                                                                                  \n",
      " block7a_se_squeeze (GlobalAver  (None, 1248)        0           ['block7a_activation[0][0]']     \n",
      " agePooling2D)                                                                                    \n",
      "                                                                                                  \n",
      " block7a_se_reshape (Reshape)   (None, 1, 1, 1248)   0           ['block7a_se_squeeze[0][0]']     \n",
      "                                                                                                  \n",
      " block7a_se_reduce (Conv2D)     (None, 1, 1, 52)     64948       ['block7a_se_reshape[0][0]']     \n",
      "                                                                                                  \n",
      " block7a_se_expand (Conv2D)     (None, 1, 1, 1248)   66144       ['block7a_se_reduce[0][0]']      \n",
      "                                                                                                  \n",
      " block7a_se_excite (Multiply)   (None, 4, 4, 1248)   0           ['block7a_activation[0][0]',     \n"
     ]
    },
    {
     "name": "stdout",
     "output_type": "stream",
     "text": [
      "                                                                  'block7a_se_expand[0][0]']      \n",
      "                                                                                                  \n",
      " block7a_project_conv (Conv2D)  (None, 4, 4, 352)    439296      ['block7a_se_excite[0][0]']      \n",
      "                                                                                                  \n",
      " block7a_project_bn (BatchNorma  (None, 4, 4, 352)   1408        ['block7a_project_conv[0][0]']   \n",
      " lization)                                                                                        \n",
      "                                                                                                  \n",
      " block7b_expand_conv (Conv2D)   (None, 4, 4, 2112)   743424      ['block7a_project_bn[0][0]']     \n",
      "                                                                                                  \n",
      " block7b_expand_bn (BatchNormal  (None, 4, 4, 2112)  8448        ['block7b_expand_conv[0][0]']    \n",
      " ization)                                                                                         \n",
      "                                                                                                  \n",
      " block7b_expand_activation (Act  (None, 4, 4, 2112)  0           ['block7b_expand_bn[0][0]']      \n",
      " ivation)                                                                                         \n",
      "                                                                                                  \n",
      " block7b_dwconv (DepthwiseConv2  (None, 4, 4, 2112)  19008       ['block7b_expand_activation[0][0]\n",
      " D)                                                              ']                               \n",
      "                                                                                                  \n",
      " block7b_bn (BatchNormalization  (None, 4, 4, 2112)  8448        ['block7b_dwconv[0][0]']         \n",
      " )                                                                                                \n",
      "                                                                                                  \n",
      " block7b_activation (Activation  (None, 4, 4, 2112)  0           ['block7b_bn[0][0]']             \n",
      " )                                                                                                \n",
      "                                                                                                  \n",
      " block7b_se_squeeze (GlobalAver  (None, 2112)        0           ['block7b_activation[0][0]']     \n",
      " agePooling2D)                                                                                    \n",
      "                                                                                                  \n",
      " block7b_se_reshape (Reshape)   (None, 1, 1, 2112)   0           ['block7b_se_squeeze[0][0]']     \n",
      "                                                                                                  \n",
      " block7b_se_reduce (Conv2D)     (None, 1, 1, 88)     185944      ['block7b_se_reshape[0][0]']     \n",
      "                                                                                                  \n",
      " block7b_se_expand (Conv2D)     (None, 1, 1, 2112)   187968      ['block7b_se_reduce[0][0]']      \n",
      "                                                                                                  \n",
      " block7b_se_excite (Multiply)   (None, 4, 4, 2112)   0           ['block7b_activation[0][0]',     \n",
      "                                                                  'block7b_se_expand[0][0]']      \n",
      "                                                                                                  \n",
      " block7b_project_conv (Conv2D)  (None, 4, 4, 352)    743424      ['block7b_se_excite[0][0]']      \n",
      "                                                                                                  \n",
      " block7b_project_bn (BatchNorma  (None, 4, 4, 352)   1408        ['block7b_project_conv[0][0]']   \n",
      " lization)                                                                                        \n",
      "                                                                                                  \n",
      " block7b_drop (Dropout)         (None, 4, 4, 352)    0           ['block7b_project_bn[0][0]']     \n",
      "                                                                                                  \n",
      " block7b_add (Add)              (None, 4, 4, 352)    0           ['block7b_drop[0][0]',           \n",
      "                                                                  'block7a_project_bn[0][0]']     \n",
      "                                                                                                  \n",
      " top_conv (Conv2D)              (None, 4, 4, 1408)   495616      ['block7b_add[0][0]']            \n",
      "                                                                                                  \n",
      " top_bn (BatchNormalization)    (None, 4, 4, 1408)   5632        ['top_conv[0][0]']               \n",
      "                                                                                                  \n",
      " top_activation (Activation)    (None, 4, 4, 1408)   0           ['top_bn[0][0]']                 \n",
      "                                                                                                  \n",
      "==================================================================================================\n",
      "Total params: 7,768,569\n",
      "Trainable params: 7,700,994\n",
      "Non-trainable params: 67,575\n",
      "__________________________________________________________________________________________________\n"
     ]
    }
   ],
   "source": [
    "base_enb2_model.summary()"
   ]
  },
  {
   "cell_type": "code",
   "execution_count": 27,
   "id": "a8ab5017",
   "metadata": {},
   "outputs": [],
   "source": [
    "enb2_model = Sequential()\n",
    "enb2_model.add(layers.Masking(mask_value = -1, input_shape = (100, 100, 3)))\n",
    "enb2_model.add(base_enb2_model)\n",
    "               \n",
    "enb2_model.add(layers.Flatten())\n",
    "               \n",
    "enb2_model.add(layers.Dense(128, activation = \"relu\"))\n",
    "enb2_model.add(layers.Dense(2, activation = \"softmax\"))\n",
    "\n",
    "enb2_model.compile(loss = \"binary_crossentropy\", optimizer = \"adam\", metrics = [\"accuracy\", metrics.Recall()])"
   ]
  },
  {
   "cell_type": "code",
   "execution_count": 28,
   "id": "d7cc4f9f",
   "metadata": {
    "scrolled": false
   },
   "outputs": [
    {
     "name": "stdout",
     "output_type": "stream",
     "text": [
      "Epoch 1/10\n",
      "2/2 [==============================] - 45s 3s/step - loss: 0.8127 - accuracy: 0.4500 - recall: 0.4500 - val_loss: 0.6934 - val_accuracy: 0.5000 - val_recall: 0.5000\n",
      "Epoch 2/10\n",
      "2/2 [==============================] - 5s 1s/step - loss: 1.5899 - accuracy: 0.5500 - recall: 0.5500 - val_loss: 0.6932 - val_accuracy: 0.5000 - val_recall: 0.5000\n",
      "Epoch 3/10\n",
      "2/2 [==============================] - 4s 1s/step - loss: 1.6961 - accuracy: 0.6000 - recall: 0.6000 - val_loss: 0.6936 - val_accuracy: 0.5000 - val_recall: 0.5000\n",
      "Epoch 4/10\n",
      "2/2 [==============================] - 4s 1s/step - loss: 0.5370 - accuracy: 0.8500 - recall: 0.8500 - val_loss: 0.6932 - val_accuracy: 0.5000 - val_recall: 0.5000\n",
      "Epoch 5/10\n",
      "2/2 [==============================] - 3s 1s/step - loss: 0.5445 - accuracy: 0.8000 - recall: 0.8000 - val_loss: 0.6935 - val_accuracy: 0.5000 - val_recall: 0.5000\n",
      "Epoch 6/10\n",
      "2/2 [==============================] - 7s 903ms/step - loss: 0.7090 - accuracy: 0.8250 - recall: 0.8250 - val_loss: 0.6939 - val_accuracy: 0.5000 - val_recall: 0.5000\n",
      "Epoch 7/10\n",
      "2/2 [==============================] - 3s 1s/step - loss: 0.3641 - accuracy: 0.8500 - recall: 0.8500 - val_loss: 0.6937 - val_accuracy: 0.5000 - val_recall: 0.5000\n",
      "Epoch 8/10\n",
      "2/2 [==============================] - 4s 1s/step - loss: 0.3567 - accuracy: 0.8500 - recall: 0.8500 - val_loss: 0.6934 - val_accuracy: 0.5000 - val_recall: 0.5000\n",
      "Epoch 9/10\n",
      "2/2 [==============================] - 3s 1s/step - loss: 0.2714 - accuracy: 0.8750 - recall: 0.8750 - val_loss: 0.6957 - val_accuracy: 0.5000 - val_recall: 0.5000\n",
      "Epoch 10/10\n",
      "2/2 [==============================] - 3s 1s/step - loss: 0.3891 - accuracy: 0.8750 - recall: 0.8750 - val_loss: 0.6946 - val_accuracy: 0.5000 - val_recall: 0.5000\n"
     ]
    },
    {
     "data": {
      "text/plain": [
       "<keras.callbacks.History at 0x7fdbec374cd0>"
      ]
     },
     "execution_count": 28,
     "metadata": {},
     "output_type": "execute_result"
    }
   ],
   "source": [
    "enb2_model.fit(train_dataset_sample, validation_data = val_dataset_sample, epochs = 10)"
   ]
  },
  {
   "cell_type": "code",
   "execution_count": 30,
   "id": "96b7e712",
   "metadata": {
    "scrolled": true
   },
   "outputs": [
    {
     "name": "stdout",
     "output_type": "stream",
     "text": [
      "1/1 [==============================] - 0s 384ms/step - loss: 0.6946 - accuracy: 0.5000 - recall: 0.5000\n"
     ]
    },
    {
     "data": {
      "text/plain": [
       "[0.6946178674697876, 0.5, 0.5]"
      ]
     },
     "execution_count": 30,
     "metadata": {},
     "output_type": "execute_result"
    }
   ],
   "source": [
    "enb2_model.evaluate(test_dataset_sample)"
   ]
  },
  {
   "cell_type": "markdown",
   "id": "d69607d2",
   "metadata": {},
   "source": [
    "## EfficientNetB2 Confusion Matrix"
   ]
  },
  {
   "cell_type": "markdown",
   "id": "405fc4fb",
   "metadata": {},
   "source": [
    "### Predicted Values"
   ]
  },
  {
   "cell_type": "code",
   "execution_count": 31,
   "id": "561c95b6",
   "metadata": {},
   "outputs": [
    {
     "name": "stdout",
     "output_type": "stream",
     "text": [
      "1/1 [==============================] - 12s 12s/step\n"
     ]
    },
    {
     "data": {
      "text/plain": [
       "array([[0.4656803 , 0.5343196 ],\n",
       "       [0.4656803 , 0.5343196 ],\n",
       "       [0.46568036, 0.5343196 ],\n",
       "       [0.46568036, 0.5343195 ],\n",
       "       [0.46568027, 0.53431964],\n",
       "       [0.46568024, 0.5343198 ],\n",
       "       [0.46568033, 0.5343196 ],\n",
       "       [0.4656805 , 0.5343194 ],\n",
       "       [0.4656803 , 0.53431976],\n",
       "       [0.46568036, 0.5343195 ]], dtype=float32)"
      ]
     },
     "execution_count": 31,
     "metadata": {},
     "output_type": "execute_result"
    }
   ],
   "source": [
    "predictions = enb2_model.predict(test_dataset_sample)\n",
    "predictions[:10]"
   ]
  },
  {
   "cell_type": "code",
   "execution_count": 32,
   "id": "37ddad06",
   "metadata": {},
   "outputs": [],
   "source": [
    "predictions = pd.DataFrame(predictions)"
   ]
  },
  {
   "cell_type": "code",
   "execution_count": 33,
   "id": "453c2f1b",
   "metadata": {},
   "outputs": [
    {
     "data": {
      "text/plain": [
       "array([1, 1, 1, 1, 1, 1, 1, 1, 1, 1])"
      ]
     },
     "execution_count": 33,
     "metadata": {},
     "output_type": "execute_result"
    }
   ],
   "source": [
    "y_pred = np.array(predictions.idxmax(1))\n",
    "y_pred[:10]"
   ]
  },
  {
   "cell_type": "markdown",
   "id": "e72f76e9",
   "metadata": {},
   "source": [
    "### Actual Values"
   ]
  },
  {
   "cell_type": "code",
   "execution_count": 34,
   "id": "d71534f3",
   "metadata": {},
   "outputs": [
    {
     "data": {
      "text/plain": [
       "array([[0., 1.],\n",
       "       [0., 1.],\n",
       "       [0., 1.],\n",
       "       [1., 0.],\n",
       "       [0., 1.],\n",
       "       [1., 0.],\n",
       "       [1., 0.],\n",
       "       [0., 1.],\n",
       "       [0., 1.],\n",
       "       [0., 1.]], dtype=float32)"
      ]
     },
     "execution_count": 34,
     "metadata": {},
     "output_type": "execute_result"
    }
   ],
   "source": [
    "y_true = np.concatenate([y for x, y in test_dataset_sample], axis = 0)\n",
    "y_true[:10]"
   ]
  },
  {
   "cell_type": "code",
   "execution_count": 35,
   "id": "3d615dc4",
   "metadata": {},
   "outputs": [],
   "source": [
    "y_true = pd.DataFrame(y_true)"
   ]
  },
  {
   "cell_type": "code",
   "execution_count": 36,
   "id": "e3d1a862",
   "metadata": {},
   "outputs": [
    {
     "data": {
      "text/plain": [
       "array([1, 1, 1, 0, 1, 0, 0, 1, 1, 1])"
      ]
     },
     "execution_count": 36,
     "metadata": {},
     "output_type": "execute_result"
    }
   ],
   "source": [
    "y_true = np.array(y_true.idxmax(1))\n",
    "y_true[:10]"
   ]
  },
  {
   "cell_type": "markdown",
   "id": "8241338a",
   "metadata": {},
   "source": [
    "### CM"
   ]
  },
  {
   "cell_type": "code",
   "execution_count": 37,
   "id": "75ca2b11",
   "metadata": {},
   "outputs": [],
   "source": [
    "cm = confusion_matrix(y_true, y_pred, normalize = \"true\")\n",
    "classes = [\"normal\", \"polyps\"]"
   ]
  },
  {
   "cell_type": "code",
   "execution_count": 38,
   "id": "27a0d2ab",
   "metadata": {},
   "outputs": [
    {
     "data": {
      "image/png": "[encoded data removed]",
      "text/plain": [
       "<Figure size 600x400 with 2 Axes>"
      ]
     },
     "metadata": {},
     "output_type": "display_data"
    }
   ],
   "source": [
    "df_cm = pd.DataFrame(cm, index = classes, columns = classes)\n",
    "plt.figure(figsize = (6, 4))\n",
    "cm_plot = sns.heatmap(df_cm, annot = True);"
   ]
  },
  {
   "cell_type": "markdown",
   "id": "34e02569",
   "metadata": {},
   "source": [
    "### Save CM"
   ]
  },
  {
   "cell_type": "code",
   "execution_count": null,
   "id": "70fcee44",
   "metadata": {},
   "outputs": [],
   "source": [
    "cm_plot.figure.savefig(\"cm_normal_vs_polyps_vgg16.png\")"
   ]
  }
 ],
 "metadata": {
  "kernelspec": {
   "display_name": "Python 3 (ipykernel)",
   "language": "python",
   "name": "python3"
  },
  "language_info": {
   "codemirror_mode": {
    "name": "ipython",
    "version": 3
   },
   "file_extension": ".py",
   "mimetype": "text/x-python",
   "name": "python",
   "nbconvert_exporter": "python",
   "pygments_lexer": "ipython3",
   "version": "3.10.6"
  },
  "toc": {
   "base_numbering": 1,
   "nav_menu": {},
   "number_sections": true,
   "sideBar": true,
   "skip_h1_title": false,
   "title_cell": "Table of Contents",
   "title_sidebar": "Contents",
   "toc_cell": false,
   "toc_position": {},
   "toc_section_display": true,
   "toc_window_display": false
  },
  "varInspector": {
   "cols": {
    "lenName": 16,
    "lenType": 16,
    "lenVar": 40
   },
   "kernels_config": {
    "python": {
     "delete_cmd_postfix": "",
     "delete_cmd_prefix": "del ",
     "library": "var_list.py",
     "varRefreshCmd": "print(var_dic_list())"
    },
    "r": {
     "delete_cmd_postfix": ") ",
     "delete_cmd_prefix": "rm(",
     "library": "var_list.r",
     "varRefreshCmd": "cat(var_dic_list()) "
    }
   },
   "types_to_exclude": [
    "module",
    "function",
    "builtin_function_or_method",
    "instance",
    "_Feature"
   ],
   "window_display": false
  }
 },
 "nbformat": 4,
 "nbformat_minor": 5
}
