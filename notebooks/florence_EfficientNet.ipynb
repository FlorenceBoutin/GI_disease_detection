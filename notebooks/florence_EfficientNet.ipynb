{
  "cells": [
    {
      "cell_type": "markdown",
      "metadata": {
        "id": "view-in-github",
        "colab_type": "text"
      },
      "source": [
        "<a href=\"https://colab.research.google.com/github/FlorenceBoutin/GI_disease_detection/blob/master/notebooks/florence_EfficientNet.ipynb\" target=\"_parent\"><img src=\"https://colab.research.google.com/assets/colab-badge.svg\" alt=\"Open In Colab\"/></a>"
      ]
    },
    {
      "cell_type": "markdown",
      "source": [
        "# 1  Build CNN model from EfficientNet architecture"
      ],
      "metadata": {
        "id": "1EPCKeoOrHvv"
      },
      "id": "1EPCKeoOrHvv"
    },
    {
      "cell_type": "markdown",
      "source": [
        "## Imports"
      ],
      "metadata": {
        "id": "m813RnwmrQnK"
      },
      "id": "m813RnwmrQnK"
    },
    {
      "cell_type": "code",
      "source": [
        "# Imports\n",
        "\n",
        "import numpy as np\n",
        "import pandas as pd\n",
        "import matplotlib.pyplot as plt\n",
        "import seaborn as sns\n",
        "from sklearn.metrics import confusion_matrix\n",
        "from tensorflow import keras\n",
        "\n",
        "from keras import optimizers, regularizers, models, Sequential, layers, Model\n",
        "from keras.preprocessing.image import ImageDataGenerator\n",
        "from keras.callbacks import EarlyStopping\n",
        "from keras.applications.efficientnet import *\n",
        "\n",
        "from google.colab import drive"
      ],
      "metadata": {
        "id": "zoTN-jdJrO3q"
      },
      "id": "zoTN-jdJrO3q",
      "execution_count": 1,
      "outputs": []
    },
    {
      "cell_type": "markdown",
      "source": [
        "## Import data"
      ],
      "metadata": {
        "id": "19534qvpsgtr"
      },
      "id": "19534qvpsgtr"
    },
    {
      "cell_type": "code",
      "source": [
        "drive.mount('/content/gdrive/')"
      ],
      "metadata": {
        "colab": {
          "base_uri": "https://localhost:8080/"
        },
        "id": "8-XVzVmFscEf",
        "outputId": "882f4aef-ae2f-47e6-9c3e-bb3357e790b7"
      },
      "id": "8-XVzVmFscEf",
      "execution_count": 2,
      "outputs": [
        {
          "output_type": "stream",
          "name": "stdout",
          "text": [
            "Drive already mounted at /content/gdrive/; to attempt to forcibly remount, call drive.mount(\"/content/gdrive/\", force_remount=True).\n"
          ]
        }
      ]
    },
    {
      "cell_type": "code",
      "execution_count": 3,
      "id": "32d6af02",
      "metadata": {
        "id": "32d6af02"
      },
      "outputs": [],
      "source": [
        "drive_path = '/content/gdrive/My Drive/Colab Notebooks/GI_disease_detection/raw_data/'"
      ]
    },
    {
      "cell_type": "code",
      "source": [
        "train_folder = drive_path + 'train'\n",
        "val_folder = drive_path + 'val'\n",
        "test_folder = drive_path + 'test'\n",
        "\n",
        "datagen = ImageDataGenerator(rescale = 1. / 255)\n",
        "train_dataset = datagen.flow_from_directory(train_folder,\n",
        "                                         target_size = (224, 224),\n",
        "                                         color_mode = \"rgb\",\n",
        "                                         batch_size = 32,\n",
        "                                         class_mode = \"categorical\")\n",
        "\n",
        "val_dataset = datagen.flow_from_directory(val_folder,\n",
        "                                         target_size = (224, 224),\n",
        "                                         color_mode = \"rgb\",\n",
        "                                         batch_size = 32,\n",
        "                                         class_mode = \"categorical\")\n",
        "\n",
        "test_dataset = datagen.flow_from_directory(test_folder,\n",
        "                                         target_size = (224, 224),\n",
        "                                         color_mode = \"rgb\",\n",
        "                                         batch_size = 32,\n",
        "                                         class_mode = \"categorical\", \n",
        "                                         shuffle=False)"
      ],
      "metadata": {
        "colab": {
          "base_uri": "https://localhost:8080/"
        },
        "id": "ShwJmiPbssiX",
        "outputId": "c139cbda-2644-4c0f-ffb9-16211b32ec06"
      },
      "id": "ShwJmiPbssiX",
      "execution_count": 4,
      "outputs": [
        {
          "output_type": "stream",
          "name": "stdout",
          "text": [
            "Found 2406 images belonging to 3 classes.\n",
            "Found 1500 images belonging to 3 classes.\n",
            "Found 600 images belonging to 3 classes.\n"
          ]
        }
      ]
    },
    {
      "cell_type": "markdown",
      "source": [
        "## Create model"
      ],
      "metadata": {
        "id": "TBD0euVbsy4A"
      },
      "id": "TBD0euVbsy4A"
    },
    {
      "cell_type": "code",
      "source": [
        "recall = keras.metrics.Recall()\n",
        "es = EarlyStopping(patience=10, restore_best_weights=True)\n",
        "es_recall = EarlyStopping(patience=5, restore_best_weights=True, monitor='val_recall', mode='max')\n",
        "adam_opt = optimizers.Adam(learning_rate=0.0001)\n",
        "adam_opt_1 = optimizers.Adam(learning_rate=0.01)\n",
        "adam_opt_2 = optimizers.Adam(learning_rate=0.005)\n",
        "adam_opt_3 = optimizers.Adam(learning_rate=1)"
      ],
      "metadata": {
        "id": "z5wHA6CaswsB"
      },
      "id": "z5wHA6CaswsB",
      "execution_count": 5,
      "outputs": []
    },
    {
      "cell_type": "markdown",
      "source": [
        "### Efficient Net"
      ],
      "metadata": {
        "id": "jAdwhO16tJZb"
      },
      "id": "jAdwhO16tJZb"
    },
    {
      "cell_type": "code",
      "source": [
        "base_model = EfficientNetB0(include_top=False, weights=None, input_shape=(224,224,3), pooling='max')\n",
        "base_model.trainable = True\n",
        "\n",
        "x = base_model.output\n",
        "x = layers.BatchNormalization(axis=-1, momentum=0.99, epsilon=0.001 )(x)\n",
        "x = layers.Dense(256, kernel_regularizer = regularizers.l2(l = 0.016),activity_regularizer=regularizers.l1(0.006),\n",
        "                bias_regularizer=regularizers.l1(0.006), activation='relu')(x)\n",
        "x = layers.Dropout(rate=0.3)(x)\n",
        "x = layers.Dense(128, kernel_regularizer = regularizers.l2(l = 0.016),activity_regularizer=regularizers.l1(0.006),\n",
        "                bias_regularizer=regularizers.l1(0.006) ,activation='relu')(x)\n",
        "x = layers.Dropout(rate=0.45)(x)        \n",
        "output = layers.Dense(3, activation='softmax')(x)\n",
        "\n",
        "model=Model(inputs=base_model.input, outputs=output)"
      ],
      "metadata": {
        "id": "sphFbD8Qs77O"
      },
      "id": "sphFbD8Qs77O",
      "execution_count": 6,
      "outputs": []
    },
    {
      "cell_type": "code",
      "source": [
        "model.compile(loss='categorical_crossentropy',\n",
        "               optimizer=adam_opt_1,\n",
        "               metrics=[recall, 'accuracy'])"
      ],
      "metadata": {
        "id": "uoxDI-6qvkeX"
      },
      "id": "uoxDI-6qvkeX",
      "execution_count": 7,
      "outputs": []
    },
    {
      "cell_type": "code",
      "source": [
        "model.fit(train_dataset,\n",
        "                epochs=50,\n",
        "                callbacks=[es_recall],\n",
        "                validation_data=val_dataset)"
      ],
      "metadata": {
        "colab": {
          "base_uri": "https://localhost:8080/"
        },
        "id": "Hdegw6dxwdMn",
        "outputId": "2ba707f6-0184-4806-cca2-2033e0ba26b7"
      },
      "id": "Hdegw6dxwdMn",
      "execution_count": 8,
      "outputs": [
        {
          "output_type": "stream",
          "name": "stdout",
          "text": [
            "Epoch 1/50\n",
            "76/76 [==============================] - 888s 12s/step - loss: 7.2321 - recall: 0.0844 - accuracy: 0.3649 - val_loss: 2.0293 - val_recall: 0.0000e+00 - val_accuracy: 0.3333\n",
            "Epoch 2/50\n",
            "76/76 [==============================] - 866s 11s/step - loss: 1.6775 - recall: 0.2369 - accuracy: 0.5129 - val_loss: 1.8209 - val_recall: 0.0000e+00 - val_accuracy: 0.3333\n",
            "Epoch 3/50\n",
            "76/76 [==============================] - 854s 11s/step - loss: 1.2772 - recall: 0.4971 - accuracy: 0.6646 - val_loss: 1.4942 - val_recall: 0.0000e+00 - val_accuracy: 0.3333\n",
            "Epoch 4/50\n",
            "76/76 [==============================] - 855s 11s/step - loss: 1.1808 - recall: 0.5752 - accuracy: 0.6775 - val_loss: 1.6080 - val_recall: 0.0000e+00 - val_accuracy: 0.3333\n",
            "Epoch 5/50\n",
            "76/76 [==============================] - 856s 11s/step - loss: 1.1249 - recall: 0.5511 - accuracy: 0.6733 - val_loss: 1.9486 - val_recall: 0.3333 - val_accuracy: 0.3333\n",
            "Epoch 6/50\n",
            "76/76 [==============================] - 852s 11s/step - loss: 1.1352 - recall: 0.5008 - accuracy: 0.6525 - val_loss: 2.3062 - val_recall: 0.0000e+00 - val_accuracy: 0.3327\n",
            "Epoch 7/50\n",
            "76/76 [==============================] - 849s 11s/step - loss: 1.2391 - recall: 0.5071 - accuracy: 0.6471 - val_loss: 2.0429 - val_recall: 0.3333 - val_accuracy: 0.3333\n",
            "Epoch 8/50\n",
            "76/76 [==============================] - 848s 11s/step - loss: 1.0832 - recall: 0.5540 - accuracy: 0.6534 - val_loss: 1.7359 - val_recall: 0.0000e+00 - val_accuracy: 0.3213\n",
            "Epoch 9/50\n",
            "76/76 [==============================] - 816s 11s/step - loss: 0.8098 - recall: 0.4643 - accuracy: 0.6492 - val_loss: 0.7776 - val_recall: 0.3293 - val_accuracy: 0.6327\n",
            "Epoch 10/50\n",
            "76/76 [==============================] - 848s 11s/step - loss: 0.6935 - recall: 0.4634 - accuracy: 0.6638 - val_loss: 2.0056 - val_recall: 0.3367 - val_accuracy: 0.5893\n",
            "Epoch 11/50\n",
            "76/76 [==============================] - 850s 11s/step - loss: 0.8261 - recall: 0.5100 - accuracy: 0.6534 - val_loss: 1.9256 - val_recall: 0.3313 - val_accuracy: 0.3873\n",
            "Epoch 12/50\n",
            "76/76 [==============================] - 840s 11s/step - loss: 0.7412 - recall: 0.4090 - accuracy: 0.6463 - val_loss: 0.9328 - val_recall: 0.3327 - val_accuracy: 0.6340\n",
            "Epoch 13/50\n",
            "76/76 [==============================] - 848s 11s/step - loss: 0.7924 - recall: 0.4227 - accuracy: 0.6367 - val_loss: 1.9059 - val_recall: 0.2753 - val_accuracy: 0.3467\n",
            "Epoch 14/50\n",
            "76/76 [==============================] - 848s 11s/step - loss: 0.7789 - recall: 0.4555 - accuracy: 0.6646 - val_loss: 0.6966 - val_recall: 0.3280 - val_accuracy: 0.6553\n",
            "Epoch 15/50\n",
            "76/76 [==============================] - 853s 11s/step - loss: 0.6179 - recall: 0.5441 - accuracy: 0.6791 - val_loss: 0.6992 - val_recall: 0.6367 - val_accuracy: 0.6367\n",
            "Epoch 16/50\n",
            "76/76 [==============================] - 863s 11s/step - loss: 0.6548 - recall: 0.6230 - accuracy: 0.7120 - val_loss: 1.3441 - val_recall: 0.6620 - val_accuracy: 0.6620\n",
            "Epoch 17/50\n",
            "76/76 [==============================] - 831s 11s/step - loss: 0.6302 - recall: 0.6126 - accuracy: 0.6766 - val_loss: 0.8056 - val_recall: 0.3287 - val_accuracy: 0.6620\n",
            "Epoch 18/50\n",
            "76/76 [==============================] - 827s 11s/step - loss: 0.5923 - recall: 0.5341 - accuracy: 0.6700 - val_loss: 0.7541 - val_recall: 0.6620 - val_accuracy: 0.6620\n",
            "Epoch 19/50\n",
            "76/76 [==============================] - 861s 11s/step - loss: 0.5829 - recall: 0.4530 - accuracy: 0.6496 - val_loss: 0.8483 - val_recall: 0.3287 - val_accuracy: 0.6240\n",
            "Epoch 20/50\n",
            "76/76 [==============================] - 872s 12s/step - loss: 0.5845 - recall: 0.4788 - accuracy: 0.6692 - val_loss: 0.6849 - val_recall: 0.6620 - val_accuracy: 0.6620\n",
            "Epoch 21/50\n",
            "76/76 [==============================] - 862s 11s/step - loss: 0.5792 - recall: 0.5166 - accuracy: 0.6534 - val_loss: 0.8343 - val_recall: 0.6240 - val_accuracy: 0.6240\n"
          ]
        },
        {
          "output_type": "execute_result",
          "data": {
            "text/plain": [
              "<keras.callbacks.History at 0x7fa9d81f1100>"
            ]
          },
          "metadata": {},
          "execution_count": 8
        }
      ]
    },
    {
      "cell_type": "code",
      "source": [],
      "metadata": {
        "id": "Px2ytTsWwk9S"
      },
      "id": "Px2ytTsWwk9S",
      "execution_count": null,
      "outputs": []
    }
  ],
  "metadata": {
    "kernelspec": {
      "display_name": "Python 3 (ipykernel)",
      "language": "python",
      "name": "python3"
    },
    "language_info": {
      "codemirror_mode": {
        "name": "ipython",
        "version": 3
      },
      "file_extension": ".py",
      "mimetype": "text/x-python",
      "name": "python",
      "nbconvert_exporter": "python",
      "pygments_lexer": "ipython3",
      "version": "3.10.6"
    },
    "toc": {
      "base_numbering": 1,
      "nav_menu": {},
      "number_sections": true,
      "sideBar": true,
      "skip_h1_title": false,
      "title_cell": "Table of Contents",
      "title_sidebar": "Contents",
      "toc_cell": false,
      "toc_position": {},
      "toc_section_display": true,
      "toc_window_display": false
    },
    "varInspector": {
      "cols": {
        "lenName": 16,
        "lenType": 16,
        "lenVar": 40
      },
      "kernels_config": {
        "python": {
          "delete_cmd_postfix": "",
          "delete_cmd_prefix": "del ",
          "library": "var_list.py",
          "varRefreshCmd": "print(var_dic_list())"
        },
        "r": {
          "delete_cmd_postfix": ") ",
          "delete_cmd_prefix": "rm(",
          "library": "var_list.r",
          "varRefreshCmd": "cat(var_dic_list()) "
        }
      },
      "types_to_exclude": [
        "module",
        "function",
        "builtin_function_or_method",
        "instance",
        "_Feature"
      ],
      "window_display": false
    },
    "colab": {
      "provenance": [],
      "include_colab_link": true
    },
    "accelerator": "GPU",
    "gpuClass": "standard"
  },
  "nbformat": 4,
  "nbformat_minor": 5
}