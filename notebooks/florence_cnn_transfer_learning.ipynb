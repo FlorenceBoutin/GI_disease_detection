{
 "cells": [
  {
   "cell_type": "markdown",
   "id": "213944eb",
   "metadata": {},
   "source": [
    "# Build CNN model from trained models architecture"
   ]
  },
  {
   "cell_type": "markdown",
   "id": "1f3bb8f7",
   "metadata": {},
   "source": [
    "Create CNN models based on the structure of trained models"
   ]
  },
  {
   "cell_type": "markdown",
   "id": "ae25e5bc",
   "metadata": {
    "heading_collapsed": true
   },
   "source": [
    "## Imports"
   ]
  },
  {
   "cell_type": "code",
   "execution_count": 1,
   "id": "49cb34fe",
   "metadata": {
    "hidden": true
   },
   "outputs": [
    {
     "name": "stderr",
     "output_type": "stream",
     "text": [
      "2023-03-08 11:15:48.836753: I tensorflow/core/platform/cpu_feature_guard.cc:193] This TensorFlow binary is optimized with oneAPI Deep Neural Network Library (oneDNN) to use the following CPU instructions in performance-critical operations:  AVX2 AVX512F AVX512_VNNI FMA\n",
      "To enable them in other operations, rebuild TensorFlow with the appropriate compiler flags.\n",
      "2023-03-08 11:15:49.236667: I tensorflow/core/util/util.cc:169] oneDNN custom operations are on. You may see slightly different numerical results due to floating-point round-off errors from different computation orders. To turn them off, set the environment variable `TF_ENABLE_ONEDNN_OPTS=0`.\n",
      "2023-03-08 11:15:49.320698: W tensorflow/stream_executor/platform/default/dso_loader.cc:64] Could not load dynamic library 'libcudart.so.11.0'; dlerror: libcudart.so.11.0: cannot open shared object file: No such file or directory\n",
      "2023-03-08 11:15:49.320716: I tensorflow/stream_executor/cuda/cudart_stub.cc:29] Ignore above cudart dlerror if you do not have a GPU set up on your machine.\n",
      "2023-03-08 11:15:49.377966: E tensorflow/stream_executor/cuda/cuda_blas.cc:2981] Unable to register cuBLAS factory: Attempting to register factory for plugin cuBLAS when one has already been registered\n",
      "2023-03-08 11:15:50.753670: W tensorflow/stream_executor/platform/default/dso_loader.cc:64] Could not load dynamic library 'libnvinfer.so.7'; dlerror: libnvinfer.so.7: cannot open shared object file: No such file or directory\n",
      "2023-03-08 11:15:50.753820: W tensorflow/stream_executor/platform/default/dso_loader.cc:64] Could not load dynamic library 'libnvinfer_plugin.so.7'; dlerror: libnvinfer_plugin.so.7: cannot open shared object file: No such file or directory\n",
      "2023-03-08 11:15:50.753827: W tensorflow/compiler/tf2tensorrt/utils/py_utils.cc:38] TF-TRT Warning: Cannot dlopen some TensorRT libraries. If you would like to use Nvidia GPU with TensorRT, please make sure the missing libraries mentioned above are installed properly.\n"
     ]
    }
   ],
   "source": [
    "# Imports\n",
    "\n",
    "import numpy as np\n",
    "import tensorflow as tf\n",
    "\n",
    "from tensorflow.keras import optimizers\n",
    "from tensorflow.keras.preprocessing.image import ImageDataGenerator\n",
    "from tensorflow.keras import models\n",
    "from tensorflow.keras import Sequential, layers\n",
    "from tensorflow.keras.callbacks import EarlyStopping"
   ]
  },
  {
   "cell_type": "markdown",
   "id": "44c4d4b3",
   "metadata": {
    "heading_collapsed": true
   },
   "source": [
    "## Import data"
   ]
  },
  {
   "cell_type": "code",
   "execution_count": 2,
   "id": "33484c70",
   "metadata": {
    "hidden": true
   },
   "outputs": [
    {
     "name": "stdout",
     "output_type": "stream",
     "text": [
      "Found 2400 images belonging to 3 classes.\n",
      "Found 1500 images belonging to 3 classes.\n"
     ]
    }
   ],
   "source": [
    "train_folder = '/home/florenceboutin/code/FlorenceBoutin/GI_disease_detection/raw_data/train'\n",
    "val_folder = '/home/florenceboutin/code/FlorenceBoutin/GI_disease_detection/raw_data/val'\n",
    "\n",
    "datagen = ImageDataGenerator(rescale = 1. / 255)\n",
    "train_dataset = datagen.flow_from_directory(train_folder,\n",
    "                                         target_size = (224, 224),\n",
    "                                         color_mode = \"rgb\",\n",
    "                                         batch_size = 32,\n",
    "                                         class_mode = \"categorical\")\n",
    "\n",
    "val_dataset = datagen.flow_from_directory(val_folder,\n",
    "                                         target_size = (224, 224),\n",
    "                                         color_mode = \"rgb\",\n",
    "                                         batch_size = 32,\n",
    "                                         class_mode = \"categorical\")"
   ]
  },
  {
   "cell_type": "markdown",
   "id": "fd060ff8",
   "metadata": {},
   "source": [
    "## Create model"
   ]
  },
  {
   "cell_type": "code",
   "execution_count": 6,
   "id": "93f24178",
   "metadata": {},
   "outputs": [],
   "source": [
    "recall = tf.keras.metrics.Recall()\n",
    "es = EarlyStopping(patience=2, restore_best_weights=True)\n",
    "adam_opt = optimizers.Adam(learning_rate=0.0001)\n",
    "adam_opt_1 = optimizers.Adam(learning_rate=0.01)\n",
    "adam_opt_2 = optimizers.Adam(learning_rate=0.005)"
   ]
  },
  {
   "cell_type": "markdown",
   "id": "7b270c49",
   "metadata": {},
   "source": [
    "### VGG16"
   ]
  },
  {
   "cell_type": "markdown",
   "id": "ba820e20",
   "metadata": {},
   "source": [
    "#### Model 1:"
   ]
  },
  {
   "cell_type": "code",
   "execution_count": 4,
   "id": "14dcc2a6",
   "metadata": {},
   "outputs": [
    {
     "name": "stdout",
     "output_type": "stream",
     "text": [
      "Model: \"sequential\"\n",
      "_________________________________________________________________\n",
      " Layer (type)                Output Shape              Param #   \n",
      "=================================================================\n",
      " conv2d (Conv2D)             (None, 224, 224, 64)      1792      \n",
      "                                                                 \n",
      " conv2d_1 (Conv2D)           (None, 224, 224, 64)      36928     \n",
      "                                                                 \n",
      " max_pooling2d (MaxPooling2D  (None, 112, 112, 64)     0         \n",
      " )                                                               \n",
      "                                                                 \n",
      " conv2d_2 (Conv2D)           (None, 112, 112, 128)     73856     \n",
      "                                                                 \n",
      " conv2d_3 (Conv2D)           (None, 112, 112, 128)     147584    \n",
      "                                                                 \n",
      " max_pooling2d_1 (MaxPooling  (None, 56, 56, 128)      0         \n",
      " 2D)                                                             \n",
      "                                                                 \n",
      " conv2d_4 (Conv2D)           (None, 56, 56, 256)       295168    \n",
      "                                                                 \n",
      " conv2d_5 (Conv2D)           (None, 56, 56, 256)       590080    \n",
      "                                                                 \n",
      " conv2d_6 (Conv2D)           (None, 56, 56, 256)       590080    \n",
      "                                                                 \n",
      " max_pooling2d_2 (MaxPooling  (None, 28, 28, 256)      0         \n",
      " 2D)                                                             \n",
      "                                                                 \n",
      " conv2d_7 (Conv2D)           (None, 28, 28, 512)       1180160   \n",
      "                                                                 \n",
      " conv2d_8 (Conv2D)           (None, 28, 28, 512)       2359808   \n",
      "                                                                 \n",
      " conv2d_9 (Conv2D)           (None, 28, 28, 512)       2359808   \n",
      "                                                                 \n",
      " max_pooling2d_3 (MaxPooling  (None, 14, 14, 512)      0         \n",
      " 2D)                                                             \n",
      "                                                                 \n",
      " conv2d_10 (Conv2D)          (None, 14, 14, 512)       2359808   \n",
      "                                                                 \n",
      " conv2d_11 (Conv2D)          (None, 14, 14, 512)       2359808   \n",
      "                                                                 \n",
      " conv2d_12 (Conv2D)          (None, 14, 14, 512)       2359808   \n",
      "                                                                 \n",
      " max_pooling2d_4 (MaxPooling  (None, 7, 7, 512)        0         \n",
      " 2D)                                                             \n",
      "                                                                 \n",
      " flatten (Flatten)           (None, 25088)             0         \n",
      "                                                                 \n",
      " dense (Dense)               (None, 4096)              102764544 \n",
      "                                                                 \n",
      " dense_1 (Dense)             (None, 4096)              16781312  \n",
      "                                                                 \n",
      " dense_2 (Dense)             (None, 3)                 12291     \n",
      "                                                                 \n",
      "=================================================================\n",
      "Total params: 134,272,835\n",
      "Trainable params: 134,272,835\n",
      "Non-trainable params: 0\n",
      "_________________________________________________________________\n"
     ]
    }
   ],
   "source": [
    "model_vgg_1 = Sequential()\n",
    "\n",
    "model_vgg_1.add(layers.Conv2D(64, kernel_size=(3,3), padding='same', activation='relu', input_shape=(224,224,3)))\n",
    "model_vgg_1.add(layers.Conv2D(64, kernel_size=(3,3), padding='same', activation='relu'))\n",
    "model_vgg_1.add(layers.MaxPooling2D((2,2)))\n",
    "\n",
    "model_vgg_1.add(layers.Conv2D(128, kernel_size=(3,3), padding=\"same\", activation=\"relu\"))\n",
    "model_vgg_1.add(layers.Conv2D(128, kernel_size=(3,3), padding=\"same\", activation=\"relu\"))\n",
    "model_vgg_1.add(layers.MaxPooling2D((2,2)))\n",
    "\n",
    "model_vgg_1.add(layers.Conv2D(256, kernel_size=(3,3), padding=\"same\", activation=\"relu\"))\n",
    "model_vgg_1.add(layers.Conv2D(256, kernel_size=(3,3), padding=\"same\", activation=\"relu\"))\n",
    "model_vgg_1.add(layers.Conv2D(256, kernel_size=(3,3), padding=\"same\", activation=\"relu\"))\n",
    "model_vgg_1.add(layers.MaxPooling2D((2,2)))\n",
    "\n",
    "model_vgg_1.add(layers.Conv2D(512, kernel_size=(3,3), padding=\"same\", activation=\"relu\"))\n",
    "model_vgg_1.add(layers.Conv2D(512, kernel_size=(3,3), padding=\"same\", activation=\"relu\"))\n",
    "model_vgg_1.add(layers.Conv2D(512, kernel_size=(3,3), padding=\"same\", activation=\"relu\"))\n",
    "model_vgg_1.add(layers.MaxPooling2D((2,2)))\n",
    "\n",
    "model_vgg_1.add(layers.Conv2D(512, kernel_size=(3,3), padding=\"same\", activation=\"relu\"))\n",
    "model_vgg_1.add(layers.Conv2D(512, kernel_size=(3,3), padding=\"same\", activation=\"relu\"))\n",
    "model_vgg_1.add(layers.Conv2D(512, kernel_size=(3,3), padding=\"same\", activation=\"relu\"))\n",
    "model_vgg_1.add(layers.MaxPooling2D((2,2)))\n",
    "\n",
    "model_vgg_1.add(layers.Flatten())\n",
    "model_vgg_1.add(layers.Dense(4096, activation='relu'))\n",
    "model_vgg_1.add(layers.Dense(4096, activation='relu'))\n",
    "model_vgg_1.add(layers.Dense(3, activation='softmax'))\n",
    "\n",
    "model_vgg_1.summary()"
   ]
  },
  {
   "cell_type": "code",
   "execution_count": 5,
   "id": "742ff038",
   "metadata": {},
   "outputs": [],
   "source": [
    "model_vgg_1.compile(loss='categorical_crossentropy',\n",
    "               optimizer='adam',\n",
    "               metrics=[recall, 'accuracy'])"
   ]
  },
  {
   "cell_type": "code",
   "execution_count": null,
   "id": "e382817e",
   "metadata": {},
   "outputs": [
    {
     "name": "stdout",
     "output_type": "stream",
     "text": [
      "Epoch 1/20\n",
      "25/75 [=========>....................] - ETA: 22:01 - loss: 1.3522 - recall: 0.0275 - accuracy: 0.3212"
     ]
    }
   ],
   "source": [
    "model_vgg_1.fit(train_dataset,\n",
    "                epochs=20,\n",
    "                callbacks=[es],\n",
    "                validation_data=val_dataset)"
   ]
  },
  {
   "cell_type": "markdown",
   "id": "d75a39f9",
   "metadata": {},
   "source": [
    "### ResNet50"
   ]
  },
  {
   "cell_type": "markdown",
   "id": "a6fee768",
   "metadata": {},
   "source": [
    "### EfficientNetB3"
   ]
  },
  {
   "cell_type": "markdown",
   "id": "44bec723",
   "metadata": {},
   "source": [
    "### LeNet5"
   ]
  },
  {
   "cell_type": "markdown",
   "id": "0af69a38",
   "metadata": {},
   "source": [
    "### AlexNet"
   ]
  },
  {
   "cell_type": "markdown",
   "id": "532ec616",
   "metadata": {},
   "source": [
    "### GoogLeNet"
   ]
  },
  {
   "cell_type": "code",
   "execution_count": null,
   "id": "f4feeb6b",
   "metadata": {},
   "outputs": [],
   "source": []
  }
 ],
 "metadata": {
  "kernelspec": {
   "display_name": "Python 3 (ipykernel)",
   "language": "python",
   "name": "python3"
  },
  "language_info": {
   "codemirror_mode": {
    "name": "ipython",
    "version": 3
   },
   "file_extension": ".py",
   "mimetype": "text/x-python",
   "name": "python",
   "nbconvert_exporter": "python",
   "pygments_lexer": "ipython3",
   "version": "3.10.6"
  },
  "toc": {
   "base_numbering": 1,
   "nav_menu": {},
   "number_sections": true,
   "sideBar": true,
   "skip_h1_title": false,
   "title_cell": "Table of Contents",
   "title_sidebar": "Contents",
   "toc_cell": false,
   "toc_position": {},
   "toc_section_display": true,
   "toc_window_display": false
  },
  "varInspector": {
   "cols": {
    "lenName": 16,
    "lenType": 16,
    "lenVar": 40
   },
   "kernels_config": {
    "python": {
     "delete_cmd_postfix": "",
     "delete_cmd_prefix": "del ",
     "library": "var_list.py",
     "varRefreshCmd": "print(var_dic_list())"
    },
    "r": {
     "delete_cmd_postfix": ") ",
     "delete_cmd_prefix": "rm(",
     "library": "var_list.r",
     "varRefreshCmd": "cat(var_dic_list()) "
    }
   },
   "types_to_exclude": [
    "module",
    "function",
    "builtin_function_or_method",
    "instance",
    "_Feature"
   ],
   "window_display": false
  }
 },
 "nbformat": 4,
 "nbformat_minor": 5
}
