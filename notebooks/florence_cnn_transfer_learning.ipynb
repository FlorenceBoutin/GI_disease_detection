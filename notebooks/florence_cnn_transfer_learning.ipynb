{
 "cells": [
  {
   "cell_type": "markdown",
   "id": "d5952920",
   "metadata": {
    "colab_type": "text",
    "id": "view-in-github"
   },
   "source": [
    "<a href=\"https://colab.research.google.com/github/FlorenceBoutin/GI_disease_detection/blob/ResNet50/florence_cnn_transfer_learning.ipynb\" target=\"_parent\"><img src=\"https://colab.research.google.com/assets/colab-badge.svg\" alt=\"Open In Colab\"/></a>"
   ]
  },
  {
   "cell_type": "markdown",
   "id": "213944eb",
   "metadata": {
    "id": "213944eb"
   },
   "source": [
    "# Build CNN model from trained models architecture"
   ]
  },
  {
   "cell_type": "markdown",
   "id": "1f3bb8f7",
   "metadata": {
    "id": "1f3bb8f7"
   },
   "source": [
    "Create CNN models based on the structure of trained models"
   ]
  },
  {
   "cell_type": "markdown",
   "id": "ae25e5bc",
   "metadata": {
    "id": "ae25e5bc"
   },
   "source": [
    "## Imports"
   ]
  },
  {
   "cell_type": "code",
   "execution_count": 18,
   "id": "49cb34fe",
   "metadata": {
    "id": "49cb34fe"
   },
   "outputs": [],
   "source": [
    "# Imports\n",
    "\n",
    "import numpy as np\n",
    "import pandas as pd\n",
    "import matplotlib.pyplot as plt\n",
    "import seaborn as sns\n",
    "from sklearn.metrics import confusion_matrix\n",
    "from tensorflow import keras\n",
    "\n",
    "from keras import optimizers\n",
    "from keras.preprocessing.image import ImageDataGenerator\n",
    "from keras import models\n",
    "from keras import Sequential, layers\n",
    "from keras.callbacks import EarlyStopping\n",
    "\n",
    "from google.colab import drive"
   ]
  },
  {
   "cell_type": "markdown",
   "id": "44c4d4b3",
   "metadata": {
    "id": "44c4d4b3"
   },
   "source": [
    "## Import data"
   ]
  },
  {
   "cell_type": "code",
   "execution_count": 19,
   "id": "nIp6BRJp1WSB",
   "metadata": {
    "colab": {
     "base_uri": "https://localhost:8080/"
    },
    "id": "nIp6BRJp1WSB",
    "outputId": "4a5344a3-2c79-4d91-b09c-a5be1647ec30"
   },
   "outputs": [
    {
     "name": "stdout",
     "output_type": "stream",
     "text": [
      "Drive already mounted at /content/gdrive/; to attempt to forcibly remount, call drive.mount(\"/content/gdrive/\", force_remount=True).\n"
     ]
    }
   ],
   "source": [
    "drive.mount('/content/gdrive/')"
   ]
  },
  {
   "cell_type": "code",
   "execution_count": 20,
   "id": "q1VQb-fN5cSG",
   "metadata": {
    "id": "q1VQb-fN5cSG"
   },
   "outputs": [],
   "source": [
    "drive_path = '/content/gdrive/My Drive/Colab Notebooks/GI_disease_detection/raw_data/'"
   ]
  },
  {
   "cell_type": "code",
   "execution_count": 21,
   "id": "33484c70",
   "metadata": {
    "colab": {
     "base_uri": "https://localhost:8080/"
    },
    "id": "33484c70",
    "outputId": "49d1243a-9b7d-4d84-853e-c2037138bdfb"
   },
   "outputs": [
    {
     "name": "stdout",
     "output_type": "stream",
     "text": [
      "Found 2406 images belonging to 3 classes.\n",
      "Found 1500 images belonging to 3 classes.\n",
      "Found 600 images belonging to 3 classes.\n"
     ]
    }
   ],
   "source": [
    "train_folder = drive_path + 'train'\n",
    "val_folder = drive_path + 'val'\n",
    "test_folder = drive_path + 'test'\n",
    "\n",
    "datagen = ImageDataGenerator(rescale = 1. / 255)\n",
    "train_dataset = datagen.flow_from_directory(train_folder,\n",
    "                                         target_size = (224, 224),\n",
    "                                         color_mode = \"rgb\",\n",
    "                                         batch_size = 32,\n",
    "                                         class_mode = \"categorical\")\n",
    "\n",
    "val_dataset = datagen.flow_from_directory(val_folder,\n",
    "                                         target_size = (224, 224),\n",
    "                                         color_mode = \"rgb\",\n",
    "                                         batch_size = 32,\n",
    "                                         class_mode = \"categorical\")\n",
    "\n",
    "test_dataset = datagen.flow_from_directory(test_folder,\n",
    "                                         target_size = (224, 224),\n",
    "                                         color_mode = \"rgb\",\n",
    "                                         batch_size = 32,\n",
    "                                         class_mode = \"categorical\", \n",
    "                                         shuffle=False)"
   ]
  },
  {
   "cell_type": "markdown",
   "id": "fd060ff8",
   "metadata": {
    "id": "fd060ff8"
   },
   "source": [
    "## Create model"
   ]
  },
  {
   "cell_type": "code",
   "execution_count": 22,
   "id": "93f24178",
   "metadata": {
    "id": "93f24178"
   },
   "outputs": [],
   "source": [
    "recall = keras.metrics.Recall()\n",
    "es = EarlyStopping(patience=10, restore_best_weights=True)\n",
    "es_recall = EarlyStopping(patience=5, restore_best_weights=True, monitor='val_recall_1', mode='max')\n",
    "adam_opt = optimizers.Adam(learning_rate=0.0001)\n",
    "adam_opt_1 = optimizers.Adam(learning_rate=0.01)\n",
    "adam_opt_2 = optimizers.Adam(learning_rate=0.005)\n",
    "adam_opt_3 = optimizers.Adam(learning_rate=1)"
   ]
  },
  {
   "cell_type": "markdown",
   "id": "7b270c49",
   "metadata": {
    "id": "7b270c49"
   },
   "source": [
    "### VGG16"
   ]
  },
  {
   "cell_type": "markdown",
   "id": "ba820e20",
   "metadata": {
    "id": "ba820e20"
   },
   "source": [
    "#### Model 1:"
   ]
  },
  {
   "cell_type": "code",
   "execution_count": null,
   "id": "14dcc2a6",
   "metadata": {
    "colab": {
     "base_uri": "https://localhost:8080/"
    },
    "id": "14dcc2a6",
    "outputId": "6a582603-80da-48be-860a-1ec56efb1ea3"
   },
   "outputs": [
    {
     "name": "stdout",
     "output_type": "stream",
     "text": [
      "Model: \"sequential_1\"\n",
      "_________________________________________________________________\n",
      " Layer (type)                Output Shape              Param #   \n",
      "=================================================================\n",
      " conv2d_13 (Conv2D)          (None, 224, 224, 64)      1792      \n",
      "                                                                 \n",
      " conv2d_14 (Conv2D)          (None, 224, 224, 64)      36928     \n",
      "                                                                 \n",
      " max_pooling2d_5 (MaxPooling  (None, 112, 112, 64)     0         \n",
      " 2D)                                                             \n",
      "                                                                 \n",
      " conv2d_15 (Conv2D)          (None, 112, 112, 128)     73856     \n",
      "                                                                 \n",
      " conv2d_16 (Conv2D)          (None, 112, 112, 128)     147584    \n",
      "                                                                 \n",
      " max_pooling2d_6 (MaxPooling  (None, 56, 56, 128)      0         \n",
      " 2D)                                                             \n",
      "                                                                 \n",
      " conv2d_17 (Conv2D)          (None, 56, 56, 256)       295168    \n",
      "                                                                 \n",
      " conv2d_18 (Conv2D)          (None, 56, 56, 256)       590080    \n",
      "                                                                 \n",
      " conv2d_19 (Conv2D)          (None, 56, 56, 256)       590080    \n",
      "                                                                 \n",
      " max_pooling2d_7 (MaxPooling  (None, 28, 28, 256)      0         \n",
      " 2D)                                                             \n",
      "                                                                 \n",
      " conv2d_20 (Conv2D)          (None, 28, 28, 512)       1180160   \n",
      "                                                                 \n",
      " conv2d_21 (Conv2D)          (None, 28, 28, 512)       2359808   \n",
      "                                                                 \n",
      " conv2d_22 (Conv2D)          (None, 28, 28, 512)       2359808   \n",
      "                                                                 \n",
      " max_pooling2d_8 (MaxPooling  (None, 14, 14, 512)      0         \n",
      " 2D)                                                             \n",
      "                                                                 \n",
      " conv2d_23 (Conv2D)          (None, 14, 14, 512)       2359808   \n",
      "                                                                 \n",
      " conv2d_24 (Conv2D)          (None, 14, 14, 512)       2359808   \n",
      "                                                                 \n",
      " conv2d_25 (Conv2D)          (None, 14, 14, 512)       2359808   \n",
      "                                                                 \n",
      " max_pooling2d_9 (MaxPooling  (None, 7, 7, 512)        0         \n",
      " 2D)                                                             \n",
      "                                                                 \n",
      " flatten_1 (Flatten)         (None, 25088)             0         \n",
      "                                                                 \n",
      " dense_3 (Dense)             (None, 4096)              102764544 \n",
      "                                                                 \n",
      " dense_4 (Dense)             (None, 4096)              16781312  \n",
      "                                                                 \n",
      " dense_5 (Dense)             (None, 3)                 12291     \n",
      "                                                                 \n",
      "=================================================================\n",
      "Total params: 134,272,835\n",
      "Trainable params: 134,272,835\n",
      "Non-trainable params: 0\n",
      "_________________________________________________________________\n"
     ]
    }
   ],
   "source": [
    "model_vgg_1 = Sequential()\n",
    "\n",
    "model_vgg_1.add(layers.Conv2D(64, kernel_size=(3,3), padding='same', activation='relu', input_shape=(224,224,3)))\n",
    "model_vgg_1.add(layers.Conv2D(64, kernel_size=(3,3), padding='same', activation='relu'))\n",
    "model_vgg_1.add(layers.MaxPooling2D((2,2)))\n",
    "\n",
    "model_vgg_1.add(layers.Conv2D(128, kernel_size=(3,3), padding=\"same\", activation=\"relu\"))\n",
    "model_vgg_1.add(layers.Conv2D(128, kernel_size=(3,3), padding=\"same\", activation=\"relu\"))\n",
    "model_vgg_1.add(layers.MaxPooling2D((2,2)))\n",
    "\n",
    "model_vgg_1.add(layers.Conv2D(256, kernel_size=(3,3), padding=\"same\", activation=\"relu\"))\n",
    "model_vgg_1.add(layers.Conv2D(256, kernel_size=(3,3), padding=\"same\", activation=\"relu\"))\n",
    "model_vgg_1.add(layers.Conv2D(256, kernel_size=(3,3), padding=\"same\", activation=\"relu\"))\n",
    "model_vgg_1.add(layers.MaxPooling2D((2,2)))\n",
    "\n",
    "model_vgg_1.add(layers.Conv2D(512, kernel_size=(3,3), padding=\"same\", activation=\"relu\"))\n",
    "model_vgg_1.add(layers.Conv2D(512, kernel_size=(3,3), padding=\"same\", activation=\"relu\"))\n",
    "model_vgg_1.add(layers.Conv2D(512, kernel_size=(3,3), padding=\"same\", activation=\"relu\"))\n",
    "model_vgg_1.add(layers.MaxPooling2D((2,2)))\n",
    "\n",
    "model_vgg_1.add(layers.Conv2D(512, kernel_size=(3,3), padding=\"same\", activation=\"relu\"))\n",
    "model_vgg_1.add(layers.Conv2D(512, kernel_size=(3,3), padding=\"same\", activation=\"relu\"))\n",
    "model_vgg_1.add(layers.Conv2D(512, kernel_size=(3,3), padding=\"same\", activation=\"relu\"))\n",
    "model_vgg_1.add(layers.MaxPooling2D((2,2)))\n",
    "\n",
    "model_vgg_1.add(layers.Flatten())\n",
    "model_vgg_1.add(layers.Dense(4096, activation='relu'))\n",
    "model_vgg_1.add(layers.Dense(4096, activation='relu'))\n",
    "model_vgg_1.add(layers.Dense(3, activation='softmax'))\n",
    "\n",
    "model_vgg_1.summary()"
   ]
  },
  {
   "cell_type": "code",
   "execution_count": null,
   "id": "742ff038",
   "metadata": {
    "id": "742ff038"
   },
   "outputs": [],
   "source": [
    "model_vgg_1.compile(loss='categorical_crossentropy',\n",
    "               optimizer='adam',\n",
    "               metrics=[recall, 'accuracy'])"
   ]
  },
  {
   "cell_type": "code",
   "execution_count": null,
   "id": "e382817e",
   "metadata": {
    "colab": {
     "base_uri": "https://localhost:8080/"
    },
    "id": "e382817e",
    "outputId": "ea5a42a1-27eb-40f2-c225-293cc75ebd58"
   },
   "outputs": [
    {
     "name": "stdout",
     "output_type": "stream",
     "text": [
      "Epoch 1/20\n",
      "76/76 [==============================] - 55s 656ms/step - loss: 1.1431 - recall_1: 0.0108 - accuracy: 0.3180 - val_loss: 1.0987 - val_recall_1: 0.0000e+00 - val_accuracy: 0.3333\n",
      "Epoch 2/20\n",
      "76/76 [==============================] - 50s 655ms/step - loss: 1.0992 - recall_1: 0.0000e+00 - accuracy: 0.3188 - val_loss: 1.0986 - val_recall_1: 0.0000e+00 - val_accuracy: 0.3333\n",
      "Epoch 3/20\n",
      "76/76 [==============================] - 49s 644ms/step - loss: 1.0987 - recall_1: 0.0000e+00 - accuracy: 0.3308 - val_loss: 1.0986 - val_recall_1: 0.0000e+00 - val_accuracy: 0.3333\n",
      "Epoch 4/20\n",
      "76/76 [==============================] - 49s 644ms/step - loss: 1.0988 - recall_1: 0.0000e+00 - accuracy: 0.3246 - val_loss: 1.0986 - val_recall_1: 0.0000e+00 - val_accuracy: 0.3333\n",
      "Epoch 5/20\n",
      "76/76 [==============================] - 49s 644ms/step - loss: 1.0987 - recall_1: 0.0000e+00 - accuracy: 0.3300 - val_loss: 1.0986 - val_recall_1: 0.0000e+00 - val_accuracy: 0.3333\n",
      "Epoch 6/20\n",
      "76/76 [==============================] - 49s 648ms/step - loss: 1.0987 - recall_1: 0.0000e+00 - accuracy: 0.3225 - val_loss: 1.0986 - val_recall_1: 0.0000e+00 - val_accuracy: 0.3333\n",
      "Epoch 7/20\n",
      "76/76 [==============================] - 49s 640ms/step - loss: 1.0987 - recall_1: 0.0000e+00 - accuracy: 0.3254 - val_loss: 1.0986 - val_recall_1: 0.0000e+00 - val_accuracy: 0.3333\n",
      "Epoch 8/20\n",
      "76/76 [==============================] - 49s 647ms/step - loss: 1.0988 - recall_1: 0.0000e+00 - accuracy: 0.3342 - val_loss: 1.0986 - val_recall_1: 0.0000e+00 - val_accuracy: 0.3333\n",
      "Epoch 9/20\n",
      "76/76 [==============================] - 55s 724ms/step - loss: 1.0987 - recall_1: 0.0000e+00 - accuracy: 0.3283 - val_loss: 1.0986 - val_recall_1: 0.0000e+00 - val_accuracy: 0.3333\n",
      "Epoch 10/20\n",
      "76/76 [==============================] - 50s 651ms/step - loss: 1.0987 - recall_1: 0.0000e+00 - accuracy: 0.3267 - val_loss: 1.0986 - val_recall_1: 0.0000e+00 - val_accuracy: 0.3333\n",
      "Epoch 11/20\n",
      "76/76 [==============================] - 49s 641ms/step - loss: 1.0987 - recall_1: 0.0000e+00 - accuracy: 0.3121 - val_loss: 1.0986 - val_recall_1: 0.0000e+00 - val_accuracy: 0.3333\n",
      "Epoch 12/20\n",
      "76/76 [==============================] - 49s 646ms/step - loss: 1.0988 - recall_1: 0.0000e+00 - accuracy: 0.3317 - val_loss: 1.0986 - val_recall_1: 0.0000e+00 - val_accuracy: 0.3333\n",
      "Epoch 13/20\n",
      "76/76 [==============================] - 48s 633ms/step - loss: 1.0987 - recall_1: 0.0000e+00 - accuracy: 0.3317 - val_loss: 1.0986 - val_recall_1: 0.0000e+00 - val_accuracy: 0.3333\n",
      "Epoch 14/20\n",
      "76/76 [==============================] - 49s 645ms/step - loss: 1.0987 - recall_1: 0.0000e+00 - accuracy: 0.3300 - val_loss: 1.0986 - val_recall_1: 0.0000e+00 - val_accuracy: 0.3333\n",
      "Epoch 15/20\n",
      "76/76 [==============================] - 48s 634ms/step - loss: 1.0987 - recall_1: 0.0000e+00 - accuracy: 0.3342 - val_loss: 1.0986 - val_recall_1: 0.0000e+00 - val_accuracy: 0.3333\n",
      "Epoch 16/20\n",
      "76/76 [==============================] - 49s 644ms/step - loss: 1.0987 - recall_1: 0.0000e+00 - accuracy: 0.3150 - val_loss: 1.0986 - val_recall_1: 0.0000e+00 - val_accuracy: 0.3333\n",
      "Epoch 17/20\n",
      "76/76 [==============================] - 48s 633ms/step - loss: 1.0987 - recall_1: 0.0000e+00 - accuracy: 0.3246 - val_loss: 1.0986 - val_recall_1: 0.0000e+00 - val_accuracy: 0.3333\n",
      "Epoch 18/20\n",
      "76/76 [==============================] - 49s 642ms/step - loss: 1.0987 - recall_1: 0.0000e+00 - accuracy: 0.3342 - val_loss: 1.0986 - val_recall_1: 0.0000e+00 - val_accuracy: 0.3333\n",
      "Epoch 19/20\n",
      "76/76 [==============================] - 52s 688ms/step - loss: 1.0988 - recall_1: 0.0000e+00 - accuracy: 0.3267 - val_loss: 1.0986 - val_recall_1: 0.0000e+00 - val_accuracy: 0.3333\n",
      "Epoch 20/20\n",
      "76/76 [==============================] - 53s 700ms/step - loss: 1.0987 - recall_1: 0.0000e+00 - accuracy: 0.3254 - val_loss: 1.0986 - val_recall_1: 0.0000e+00 - val_accuracy: 0.3333\n"
     ]
    },
    {
     "data": {
      "text/plain": [
       "<keras.callbacks.History at 0x7f0d4338af40>"
      ]
     },
     "execution_count": 12,
     "metadata": {},
     "output_type": "execute_result"
    }
   ],
   "source": [
    "model_vgg_1.fit(train_dataset,\n",
    "                epochs=20,\n",
    "                callbacks=[es],\n",
    "                validation_data=val_dataset)"
   ]
  },
  {
   "cell_type": "markdown",
   "id": "ExSbiRcNihGg",
   "metadata": {
    "id": "ExSbiRcNihGg"
   },
   "source": [
    "Model 1:"
   ]
  },
  {
   "cell_type": "code",
   "execution_count": null,
   "id": "B7zVl6wdio-R",
   "metadata": {
    "colab": {
     "base_uri": "https://localhost:8080/"
    },
    "id": "B7zVl6wdio-R",
    "outputId": "d905b7ac-d1f5-4f37-c012-a45a0a60ba6e"
   },
   "outputs": [
    {
     "name": "stdout",
     "output_type": "stream",
     "text": [
      "Model: \"sequential_1\"\n",
      "_________________________________________________________________\n",
      " Layer (type)                Output Shape              Param #   \n",
      "=================================================================\n",
      " conv2d_13 (Conv2D)          (None, 224, 224, 64)      1792      \n",
      "                                                                 \n",
      " conv2d_14 (Conv2D)          (None, 224, 224, 64)      36928     \n",
      "                                                                 \n",
      " max_pooling2d_5 (MaxPooling  (None, 112, 112, 64)     0         \n",
      " 2D)                                                             \n",
      "                                                                 \n",
      " conv2d_15 (Conv2D)          (None, 112, 112, 128)     73856     \n",
      "                                                                 \n",
      " conv2d_16 (Conv2D)          (None, 112, 112, 128)     147584    \n",
      "                                                                 \n",
      " max_pooling2d_6 (MaxPooling  (None, 56, 56, 128)      0         \n",
      " 2D)                                                             \n",
      "                                                                 \n",
      " conv2d_17 (Conv2D)          (None, 56, 56, 256)       295168    \n",
      "                                                                 \n",
      " conv2d_18 (Conv2D)          (None, 56, 56, 256)       590080    \n",
      "                                                                 \n",
      " conv2d_19 (Conv2D)          (None, 56, 56, 256)       590080    \n",
      "                                                                 \n",
      " max_pooling2d_7 (MaxPooling  (None, 28, 28, 256)      0         \n",
      " 2D)                                                             \n",
      "                                                                 \n",
      " conv2d_20 (Conv2D)          (None, 28, 28, 512)       1180160   \n",
      "                                                                 \n",
      " conv2d_21 (Conv2D)          (None, 28, 28, 512)       2359808   \n",
      "                                                                 \n",
      " conv2d_22 (Conv2D)          (None, 28, 28, 512)       2359808   \n",
      "                                                                 \n",
      " max_pooling2d_8 (MaxPooling  (None, 14, 14, 512)      0         \n",
      " 2D)                                                             \n",
      "                                                                 \n",
      " conv2d_23 (Conv2D)          (None, 14, 14, 512)       2359808   \n",
      "                                                                 \n",
      " conv2d_24 (Conv2D)          (None, 14, 14, 512)       2359808   \n",
      "                                                                 \n",
      " conv2d_25 (Conv2D)          (None, 14, 14, 512)       2359808   \n",
      "                                                                 \n",
      " max_pooling2d_9 (MaxPooling  (None, 7, 7, 512)        0         \n",
      " 2D)                                                             \n",
      "                                                                 \n",
      " flatten_1 (Flatten)         (None, 25088)             0         \n",
      "                                                                 \n",
      " dense_3 (Dense)             (None, 4096)              102764544 \n",
      "                                                                 \n",
      " dense_4 (Dense)             (None, 4096)              16781312  \n",
      "                                                                 \n",
      " dense_5 (Dense)             (None, 3)                 12291     \n",
      "                                                                 \n",
      "=================================================================\n",
      "Total params: 134,272,835\n",
      "Trainable params: 134,272,835\n",
      "Non-trainable params: 0\n",
      "_________________________________________________________________\n"
     ]
    }
   ],
   "source": [
    "model_vgg_2 = Sequential()\n",
    "\n",
    "model_vgg_2.add(layers.Conv2D(64, kernel_size=(3,3), padding='same', activation='relu', input_shape=(224,224,3)))\n",
    "model_vgg_2.add(layers.Conv2D(64, kernel_size=(3,3), padding='same', activation='relu'))\n",
    "model_vgg_2.add(layers.MaxPooling2D((2,2)))\n",
    "\n",
    "model_vgg_2.add(layers.Conv2D(128, kernel_size=(3,3), padding=\"same\", activation=\"relu\"))\n",
    "model_vgg_2.add(layers.Conv2D(128, kernel_size=(3,3), padding=\"same\", activation=\"relu\"))\n",
    "model_vgg_2.add(layers.MaxPooling2D((2,2)))\n",
    "\n",
    "model_vgg_2.add(layers.Conv2D(256, kernel_size=(3,3), padding=\"same\", activation=\"relu\"))\n",
    "model_vgg_2.add(layers.Conv2D(256, kernel_size=(3,3), padding=\"same\", activation=\"relu\"))\n",
    "model_vgg_2.add(layers.Conv2D(256, kernel_size=(3,3), padding=\"same\", activation=\"relu\"))\n",
    "model_vgg_2.add(layers.MaxPooling2D((2,2)))\n",
    "\n",
    "model_vgg_2.add(layers.Conv2D(512, kernel_size=(3,3), padding=\"same\", activation=\"relu\"))\n",
    "model_vgg_2.add(layers.Conv2D(512, kernel_size=(3,3), padding=\"same\", activation=\"relu\"))\n",
    "model_vgg_2.add(layers.Conv2D(512, kernel_size=(3,3), padding=\"same\", activation=\"relu\"))\n",
    "model_vgg_2.add(layers.MaxPooling2D((2,2)))\n",
    "\n",
    "model_vgg_2.add(layers.Conv2D(512, kernel_size=(3,3), padding=\"same\", activation=\"relu\"))\n",
    "model_vgg_2.add(layers.Conv2D(512, kernel_size=(3,3), padding=\"same\", activation=\"relu\"))\n",
    "model_vgg_2.add(layers.Conv2D(512, kernel_size=(3,3), padding=\"same\", activation=\"relu\"))\n",
    "model_vgg_2.add(layers.MaxPooling2D((2,2)))\n",
    "\n",
    "model_vgg_2.add(layers.Flatten())\n",
    "model_vgg_2.add(layers.Dense(4096, activation='relu'))\n",
    "model_vgg_2.add(layers.Dense(4096, activation='relu'))\n",
    "model_vgg_2.add(layers.Dense(3, activation='softmax'))\n",
    "\n",
    "model_vgg_2.summary()"
   ]
  },
  {
   "cell_type": "code",
   "execution_count": null,
   "id": "q-Xc77fCiotu",
   "metadata": {
    "id": "q-Xc77fCiotu"
   },
   "outputs": [],
   "source": [
    "model_vgg_2.compile(loss='categorical_crossentropy',\n",
    "               optimizer=adam_opt_1,\n",
    "               metrics=[recall, 'accuracy'])"
   ]
  },
  {
   "cell_type": "code",
   "execution_count": null,
   "id": "EM2FAKHDioXG",
   "metadata": {
    "colab": {
     "base_uri": "https://localhost:8080/"
    },
    "id": "EM2FAKHDioXG",
    "outputId": "6e82c5f3-3197-481e-ec85-1290e992a3a5"
   },
   "outputs": [
    {
     "name": "stdout",
     "output_type": "stream",
     "text": [
      "Epoch 1/50\n",
      "76/76 [==============================] - 55s 649ms/step - loss: 132925408.0000 - recall: 0.2117 - accuracy: 0.3545 - val_loss: 189.1189 - val_recall: 0.3333 - val_accuracy: 0.3333\n",
      "Epoch 2/50\n",
      "76/76 [==============================] - 49s 644ms/step - loss: 5.4434 - recall: 0.0574 - accuracy: 0.3308 - val_loss: 1.1040 - val_recall: 0.0000e+00 - val_accuracy: 0.3333\n",
      "Epoch 3/50\n",
      "76/76 [==============================] - 48s 634ms/step - loss: 1.1028 - recall: 0.0000e+00 - accuracy: 0.3325 - val_loss: 1.1016 - val_recall: 0.0000e+00 - val_accuracy: 0.3333\n",
      "Epoch 4/50\n",
      "76/76 [==============================] - 50s 652ms/step - loss: 1.1031 - recall: 0.0000e+00 - accuracy: 0.3333 - val_loss: 1.1002 - val_recall: 0.0000e+00 - val_accuracy: 0.3333\n",
      "Epoch 5/50\n",
      "76/76 [==============================] - 52s 685ms/step - loss: 1.1014 - recall: 0.0000e+00 - accuracy: 0.3254 - val_loss: 1.1023 - val_recall: 0.0000e+00 - val_accuracy: 0.3333\n",
      "Epoch 6/50\n",
      "76/76 [==============================] - 48s 630ms/step - loss: 1.1016 - recall: 0.0000e+00 - accuracy: 0.3171 - val_loss: 1.1053 - val_recall: 0.0000e+00 - val_accuracy: 0.3333\n",
      "Epoch 7/50\n",
      "76/76 [==============================] - 49s 642ms/step - loss: 1.1019 - recall: 0.0000e+00 - accuracy: 0.3454 - val_loss: 1.1044 - val_recall: 0.0000e+00 - val_accuracy: 0.3333\n",
      "Epoch 8/50\n",
      "76/76 [==============================] - 48s 627ms/step - loss: 1.1036 - recall: 0.0000e+00 - accuracy: 0.3271 - val_loss: 1.1003 - val_recall: 0.0000e+00 - val_accuracy: 0.3333\n",
      "Epoch 9/50\n",
      "76/76 [==============================] - 49s 649ms/step - loss: 1.1050 - recall: 0.0000e+00 - accuracy: 0.3288 - val_loss: 1.0995 - val_recall: 0.0000e+00 - val_accuracy: 0.3333\n",
      "Epoch 10/50\n",
      "76/76 [==============================] - 52s 683ms/step - loss: 1.1022 - recall: 0.0000e+00 - accuracy: 0.3383 - val_loss: 1.0997 - val_recall: 0.0000e+00 - val_accuracy: 0.3333\n",
      "Epoch 11/50\n",
      "76/76 [==============================] - 48s 630ms/step - loss: 1.1015 - recall: 0.0000e+00 - accuracy: 0.3292 - val_loss: 1.0998 - val_recall: 0.0000e+00 - val_accuracy: 0.3333\n",
      "Epoch 12/50\n",
      "76/76 [==============================] - 49s 649ms/step - loss: 1.1017 - recall: 0.0000e+00 - accuracy: 0.3337 - val_loss: 1.0989 - val_recall: 0.0000e+00 - val_accuracy: 0.3333\n",
      "Epoch 13/50\n",
      "76/76 [==============================] - 48s 630ms/step - loss: 1.1024 - recall: 0.0000e+00 - accuracy: 0.3279 - val_loss: 1.1006 - val_recall: 0.0000e+00 - val_accuracy: 0.3333\n",
      "Epoch 14/50\n",
      "76/76 [==============================] - 49s 642ms/step - loss: 1.1028 - recall: 0.0000e+00 - accuracy: 0.3263 - val_loss: 1.0998 - val_recall: 0.0000e+00 - val_accuracy: 0.3333\n",
      "Epoch 15/50\n",
      "76/76 [==============================] - 48s 629ms/step - loss: 1.1024 - recall: 0.0000e+00 - accuracy: 0.3250 - val_loss: 1.0998 - val_recall: 0.0000e+00 - val_accuracy: 0.3333\n",
      "Epoch 16/50\n",
      "76/76 [==============================] - 49s 638ms/step - loss: 1.1014 - recall: 0.0000e+00 - accuracy: 0.3416 - val_loss: 1.1042 - val_recall: 0.0000e+00 - val_accuracy: 0.3333\n",
      "Epoch 17/50\n",
      "76/76 [==============================] - 48s 630ms/step - loss: 1.1019 - recall: 0.0000e+00 - accuracy: 0.3209 - val_loss: 1.0998 - val_recall: 0.0000e+00 - val_accuracy: 0.3333\n",
      "Epoch 18/50\n",
      "76/76 [==============================] - 49s 644ms/step - loss: 1.1018 - recall: 0.0000e+00 - accuracy: 0.3138 - val_loss: 1.0990 - val_recall: 0.0000e+00 - val_accuracy: 0.3333\n",
      "Epoch 19/50\n",
      "76/76 [==============================] - 48s 633ms/step - loss: 1.1023 - recall: 0.0000e+00 - accuracy: 0.3213 - val_loss: 1.0998 - val_recall: 0.0000e+00 - val_accuracy: 0.3333\n",
      "Epoch 20/50\n",
      "76/76 [==============================] - 48s 637ms/step - loss: 1.1005 - recall: 0.0000e+00 - accuracy: 0.3358 - val_loss: 1.1006 - val_recall: 0.0000e+00 - val_accuracy: 0.3333\n",
      "Epoch 21/50\n",
      "76/76 [==============================] - 48s 627ms/step - loss: 1.1006 - recall: 0.0000e+00 - accuracy: 0.3362 - val_loss: 1.1010 - val_recall: 0.0000e+00 - val_accuracy: 0.3333\n",
      "Epoch 22/50\n",
      "76/76 [==============================] - 49s 648ms/step - loss: 1.1009 - recall: 0.0000e+00 - accuracy: 0.3159 - val_loss: 1.1022 - val_recall: 0.0000e+00 - val_accuracy: 0.3333\n"
     ]
    },
    {
     "data": {
      "text/plain": [
       "<keras.callbacks.History at 0x7f5ba1cf06d0>"
      ]
     },
     "execution_count": 11,
     "metadata": {},
     "output_type": "execute_result"
    }
   ],
   "source": [
    "model_vgg_2.fit(train_dataset,\n",
    "                epochs=50,\n",
    "                callbacks=[es],\n",
    "                validation_data=val_dataset)"
   ]
  },
  {
   "cell_type": "markdown",
   "id": "d75a39f9",
   "metadata": {
    "id": "d75a39f9"
   },
   "source": [
    "### ResNet50"
   ]
  },
  {
   "cell_type": "markdown",
   "id": "z5SsacAbP-dQ",
   "metadata": {
    "id": "z5SsacAbP-dQ"
   },
   "source": [
    "#### Without Data augmentation"
   ]
  },
  {
   "cell_type": "code",
   "execution_count": 23,
   "id": "Nz8M7vN7ro23",
   "metadata": {
    "id": "Nz8M7vN7ro23"
   },
   "outputs": [],
   "source": [
    "# Cfg0 Block\n",
    "cfg0_conv_input = keras.Input(shape=(56,56,64), name='cfg0_conv')\n",
    "x = keras.layers.Conv2D(64, kernel_size=1, strides=1, activation='relu', padding='valid', kernel_constraint=keras.constraints.max_norm(2.)) (cfg0_conv_input)\n",
    "x = keras.layers.BatchNormalization()(x)\n",
    "x = keras.layers.Conv2D(64, kernel_size=3, strides=1, activation='relu', padding='same', kernel_constraint=keras.constraints.max_norm(2.)) (x)\n",
    "x = keras.layers.BatchNormalization()(x)\n",
    "x = keras.layers.Conv2D(256, kernel_size=1, strides=1, padding='valid', kernel_constraint=keras.constraints.max_norm(2.)) (x)\n",
    "x = keras.layers.BatchNormalization()(x)\n",
    "\n",
    "cfg0_conv_input_transform = keras.layers.Conv2D(256, kernel_size=1, strides=1, activation='relu', padding='same', kernel_constraint=keras.constraints.max_norm(2.)) (cfg0_conv_input)\n",
    "cfg0_conv_input_op = keras.layers.BatchNormalization()(cfg0_conv_input_transform)\n",
    "x = keras.layers.Add()([x, cfg0_conv_input_op])\n",
    "cfg0_conv_output = keras.layers.ReLU()(x)\n",
    "\n",
    "cfg0_conv = keras.Model(inputs=cfg0_conv_input, outputs=cfg0_conv_output, name='cfg0_conv')\n",
    "\n",
    "\n",
    "\n",
    "\n",
    "cfg0_identity_input = keras.Input(shape=(56, 56, 256), name='cfg0_identity')\n",
    "x = keras.layers.Conv2D(64, kernel_size=1, strides=1, padding='valid', activation='relu', kernel_constraint=keras.constraints.max_norm(2.)) (cfg0_identity_input)\n",
    "x = keras.layers.BatchNormalization()(x)\n",
    "x = keras.layers.Conv2D(64, kernel_size=3, strides=1, padding='same', activation='relu', kernel_constraint=keras.constraints.max_norm(2.)) (x)\n",
    "x = keras.layers.BatchNormalization()(x)\n",
    "x = keras.layers.Conv2D(256, kernel_size=1, strides=1, padding='valid', activation='relu', kernel_constraint=keras.constraints.max_norm(2.)) (x)\n",
    "x = keras.layers.BatchNormalization()(x)\n",
    "\n",
    "x = keras.layers.Add()([x, cfg0_identity_input])\n",
    "cfg0_identity_output = keras.layers.ReLU()(x)\n",
    "\n",
    "cfg0_identity = keras.Model(inputs=cfg0_identity_input, outputs=cfg0_identity_output, name='cfg0_identity_p1')\n",
    "\n",
    "\n",
    "\n",
    "\n",
    "cfg0_input = keras.Input(shape=(56, 56, 64), name='cfg0')\n",
    "x = cfg0_conv(cfg0_input)\n",
    "x = cfg0_identity(x)\n",
    "cfg0_output = cfg0_identity(x)\n",
    "\n",
    "cfg0 = keras.Model(inputs=cfg0_input, outputs=cfg0_output, name='cfg0_block')"
   ]
  },
  {
   "cell_type": "code",
   "execution_count": 24,
   "id": "Btxd4aHrroze",
   "metadata": {
    "id": "Btxd4aHrroze"
   },
   "outputs": [],
   "source": [
    "# Cfg1 Block\n",
    "cfg1_conv_input = keras.Input(shape=(56, 56, 256), name='cfg1_conv')\n",
    "x = keras.layers.Conv2D(128, kernel_size=1, strides=2, activation='relu', padding='valid', kernel_constraint=keras.constraints.max_norm(2.)) (cfg1_conv_input)\n",
    "x = keras.layers.BatchNormalization()(x)\n",
    "x = keras.layers.Conv2D(128, kernel_size=3, strides=1, activation='relu', padding='same', kernel_constraint=keras.constraints.max_norm(2.)) (x)\n",
    "x = keras.layers.BatchNormalization()(x)\n",
    "x = keras.layers.Conv2D(512, kernel_size=1, strides=1, padding='valid', kernel_constraint=keras.constraints.max_norm(2.)) (x)\n",
    "x = keras.layers.BatchNormalization()(x)\n",
    "\n",
    "cfg1_conv_input_transform = keras.layers.Conv2D(512, kernel_size=1, strides=2, activation='relu', padding='same', kernel_constraint=keras.constraints.max_norm(2.)) (cfg1_conv_input)\n",
    "cfg1_conv_input_output = keras.layers.BatchNormalization()(cfg1_conv_input_transform)\n",
    "x = keras.layers.Add()([x, cfg1_conv_input_output])\n",
    "cfg1_conv_output = keras.layers.ReLU()(x)\n",
    "\n",
    "cfg1_conv = keras.Model(inputs=cfg1_conv_input, outputs=cfg1_conv_output, name='cfg1_conv')\n",
    "\n",
    "\n",
    "\n",
    "\n",
    "cfg1_identity_input = keras.Input(shape=(28, 28, 512), name='cfg1_identity')\n",
    "x = keras.layers.Conv2D(128, kernel_size=1, strides=1, padding='valid', activation='relu', kernel_constraint=keras.constraints.max_norm(2.)) (cfg1_identity_input)\n",
    "x = keras.layers.BatchNormalization()(x)\n",
    "x = keras.layers.Conv2D(128, kernel_size=3, strides=1, padding='same', activation='relu', kernel_constraint=keras.constraints.max_norm(2.)) (x)\n",
    "x = keras.layers.BatchNormalization()(x)\n",
    "x = keras.layers.Conv2D(512, kernel_size=1, strides=1, padding='valid', activation='relu', kernel_constraint=keras.constraints.max_norm(2.)) (x)\n",
    "x = keras.layers.BatchNormalization()(x)\n",
    "\n",
    "x = keras.layers.Add()([x, cfg1_identity_input])\n",
    "cfg1_identity_output = keras.layers.ReLU()(x)\n",
    "\n",
    "cfg1_identity = keras.Model(inputs=cfg1_identity_input, outputs=cfg1_identity_output, name='cfg1_identity_p1')\n",
    "\n",
    "\n",
    "cfg1_input = keras.Input(shape=(56, 56, 256), name='cfg1')\n",
    "x = cfg1_conv(cfg1_input)\n",
    "x = cfg1_identity(x)\n",
    "x = cfg1_identity(x)\n",
    "cfg1_output = cfg1_identity(x)\n",
    "\n",
    "cfg1 = keras.Model(inputs=cfg1_input, outputs=cfg1_output, name='cfg1_block')"
   ]
  },
  {
   "cell_type": "code",
   "execution_count": 25,
   "id": "73waRxb9rowu",
   "metadata": {
    "id": "73waRxb9rowu"
   },
   "outputs": [],
   "source": [
    "# Cfg2 Block\n",
    "cfg2_conv_input = keras.Input(shape=(28, 28, 512), name='cfg2_conv')\n",
    "x = keras.layers.Conv2D(256, kernel_size=1, strides=2, activation='relu', padding='valid', kernel_constraint=keras.constraints.max_norm(2.)) (cfg2_conv_input)\n",
    "x = keras.layers.BatchNormalization()(x)\n",
    "x = keras.layers.Conv2D(256, kernel_size=3, strides=1, activation='relu', padding='same', kernel_constraint=keras.constraints.max_norm(2.)) (x)\n",
    "x = keras.layers.BatchNormalization()(x)\n",
    "x = keras.layers.Conv2D(1024, kernel_size=1, strides=1, padding='valid', kernel_constraint=keras.constraints.max_norm(2.)) (x)\n",
    "x = keras.layers.BatchNormalization()(x)\n",
    "\n",
    "cfg2_conv_input_transform = keras.layers.Conv2D(1024, kernel_size=1, strides=2, activation='relu', padding='same', kernel_constraint=keras.constraints.max_norm(2.)) (cfg2_conv_input)\n",
    "cfg2_conv_input_output = keras.layers.BatchNormalization()(cfg2_conv_input_transform)\n",
    "x = keras.layers.Add()([x, cfg2_conv_input_output])\n",
    "cfg2_conv_output = keras.layers.ReLU()(x)\n",
    "\n",
    "cfg2_conv = keras.Model(inputs=cfg2_conv_input, outputs=cfg2_conv_output, name='cfg2_conv')\n",
    "\n",
    "\n",
    "\n",
    "\n",
    "cfg2_identity_input = keras.Input(shape=(14, 14, 1024), name='cfg2_identity')\n",
    "x = keras.layers.Conv2D(256, kernel_size=1, strides=1, padding='valid', activation='relu', kernel_constraint=keras.constraints.max_norm(2.)) (cfg2_identity_input)\n",
    "x = keras.layers.BatchNormalization()(x)\n",
    "x = keras.layers.Conv2D(256, kernel_size=3, strides=1, padding='same', activation='relu', kernel_constraint=keras.constraints.max_norm(2.)) (x)\n",
    "x = keras.layers.BatchNormalization()(x)\n",
    "x = keras.layers.Conv2D(1024, kernel_size=1, strides=1, padding='valid', activation='relu', kernel_constraint=keras.constraints.max_norm(2.)) (x)\n",
    "x = keras.layers.BatchNormalization()(x)\n",
    "\n",
    "x = keras.layers.Add()([x, cfg2_identity_input])\n",
    "cfg2_identity_output = keras.layers.ReLU()(x)\n",
    "\n",
    "cfg2_identity = keras.Model(inputs=cfg2_identity_input, outputs=cfg2_identity_output, name='cfg2_identity_p1')\n",
    "\n",
    "\n",
    "cfg2_input = keras.Input(shape=(28, 28, 512), name='cfg2')\n",
    "x = cfg2_conv(cfg2_input)\n",
    "x = cfg2_identity(x)\n",
    "x = cfg2_identity(x)\n",
    "x = cfg2_identity(x)\n",
    "x = cfg2_identity(x)\n",
    "cfg2_output = cfg2_identity(x)\n",
    "\n",
    "cfg2 = keras.Model(inputs=cfg2_input, outputs=cfg2_output, name='cfg2_block')"
   ]
  },
  {
   "cell_type": "code",
   "execution_count": 26,
   "id": "9_W8rKiarouD",
   "metadata": {
    "id": "9_W8rKiarouD"
   },
   "outputs": [],
   "source": [
    "# Cfg3 Block\n",
    "cfg3_conv_input = keras.Input(shape=(14, 14, 1024), name='cfg3_conv')\n",
    "x = keras.layers.Conv2D(512, kernel_size=1, strides=2, activation='relu', padding='valid', kernel_constraint=keras.constraints.max_norm(2.)) (cfg3_conv_input)\n",
    "x = keras.layers.BatchNormalization()(x)\n",
    "x = keras.layers.Conv2D(512, kernel_size=3, strides=1, activation='relu', padding='same', kernel_constraint=keras.constraints.max_norm(2.)) (x)\n",
    "x = keras.layers.BatchNormalization()(x)\n",
    "x = keras.layers.Conv2D(2048, kernel_size=1, strides=1, padding='valid', kernel_constraint=keras.constraints.max_norm(2.)) (x)\n",
    "x = keras.layers.BatchNormalization()(x)\n",
    "\n",
    "cfg3_conv_input_transform = keras.layers.Conv2D(2048, kernel_size=1, strides=2, activation='relu', padding='same', kernel_constraint=keras.constraints.max_norm(2.)) (cfg3_conv_input)\n",
    "cfg3_conv_input_output = keras.layers.BatchNormalization()(cfg3_conv_input_transform)\n",
    "x = keras.layers.Add()([x, cfg3_conv_input_output])\n",
    "cfg3_conv_output = keras.layers.ReLU()(x)\n",
    "\n",
    "cfg3_conv = keras.Model(inputs=cfg3_conv_input, outputs=cfg3_conv_output, name='cfg3_conv')\n",
    "\n",
    "\n",
    "\n",
    "\n",
    "cfg3_identity_input = keras.Input(shape=(7, 7, 2048), name='cfg3_identity')\n",
    "x = keras.layers.Conv2D(512, kernel_size=1, strides=1, padding='valid', activation='relu', kernel_constraint=keras.constraints.max_norm(2.)) (cfg3_identity_input)\n",
    "x = keras.layers.BatchNormalization()(x)\n",
    "x = keras.layers.Conv2D(512, kernel_size=3, strides=1, padding='same', activation='relu', kernel_constraint=keras.constraints.max_norm(2.)) (x)\n",
    "x = keras.layers.BatchNormalization()(x)\n",
    "x = keras.layers.Conv2D(2048, kernel_size=1, strides=1, padding='valid', activation='relu', kernel_constraint=keras.constraints.max_norm(2.)) (x)\n",
    "x = keras.layers.BatchNormalization()(x)\n",
    "\n",
    "x = keras.layers.Add()([x, cfg3_identity_input])\n",
    "cfg3_identity_output = keras.layers.ReLU()(x)\n",
    "\n",
    "cfg3_identity = keras.Model(inputs=cfg3_identity_input, outputs=cfg3_identity_output, name='cfg3_identity_p1')\n",
    "\n",
    "\n",
    "cfg3_input = keras.Input(shape=(14, 14, 1024), name='cfg3')\n",
    "x = cfg3_conv(cfg3_input)\n",
    "x = cfg3_identity(x)\n",
    "cfg3_output = cfg3_identity(x)\n",
    "\n",
    "cfg3 = keras.Model(inputs=cfg3_input, outputs=cfg3_output, name='cfg3_block')"
   ]
  },
  {
   "cell_type": "code",
   "execution_count": 27,
   "id": "ThXrkYgDronQ",
   "metadata": {
    "id": "ThXrkYgDronQ"
   },
   "outputs": [],
   "source": [
    "# Classifier block\n",
    "classifier_input = keras.Input(shape=(7, 7, 2048), name='classifier')\n",
    "x = keras.layers.AveragePooling2D(pool_size=2, padding='same')(classifier_input)\n",
    "x = keras.layers.Dropout(0.2)(x)\n",
    "x = keras.layers.Flatten()(x)\n",
    "classifier_output = keras.layers.Dense(3, activation='softmax', kernel_constraint=keras.constraints.max_norm(2.))(x)\n",
    "\n",
    "classifier = keras.Model(inputs=classifier_input, outputs=classifier_output, name='classifier')"
   ]
  },
  {
   "cell_type": "code",
   "execution_count": null,
   "id": "4oSjuslzroax",
   "metadata": {
    "colab": {
     "base_uri": "https://localhost:8080/"
    },
    "id": "4oSjuslzroax",
    "outputId": "83b85ce8-a5e6-4308-b011-77c0736c7880"
   },
   "outputs": [
    {
     "name": "stdout",
     "output_type": "stream",
     "text": [
      "Model: \"resnet50\"\n",
      "_________________________________________________________________\n",
      " Layer (type)                Output Shape              Param #   \n",
      "=================================================================\n",
      " input (InputLayer)          [(None, 224, 224, 3)]     0         \n",
      "                                                                 \n",
      " conv2d_39 (Conv2D)          (None, 112, 112, 64)      9472      \n",
      "                                                                 \n",
      " max_pooling2d_3 (MaxPooling  (None, 56, 56, 64)       0         \n",
      " 2D)                                                             \n",
      "                                                                 \n",
      " cfg0_block (Functional)     (None, 56, 56, 256)       148480    \n",
      "                                                                 \n",
      " cfg1_block (Functional)     (None, 28, 28, 512)       665600    \n",
      "                                                                 \n",
      " cfg2_block (Functional)     (None, 14, 14, 1024)      2641920   \n",
      "                                                                 \n",
      " cfg3_block (Functional)     (None, 7, 7, 2048)        10526720  \n",
      "                                                                 \n",
      " classifier (Functional)     (None, 3)                 98307     \n",
      "                                                                 \n",
      "=================================================================\n",
      "Total params: 14,090,499\n",
      "Trainable params: 14,059,779\n",
      "Non-trainable params: 30,720\n",
      "_________________________________________________________________\n",
      "None\n"
     ]
    }
   ],
   "source": [
    "# Build model\n",
    "def build_resnet_model():\n",
    "    resnet_input = keras.Input(shape=(224, 224, 3), name='input')\n",
    "    #x = imageAug(resnet_input)\n",
    "    x = keras.layers.Conv2D(64, kernel_size=7, activation='relu', padding='same', strides=2, kernel_constraint=keras.constraints.max_norm(2.))(resnet_input)\n",
    "    conv1_output = keras.layers.MaxPooling2D(pool_size=3, padding='same', strides=2) (x)\n",
    "    x = cfg0(conv1_output)\n",
    "    x = cfg1(x)\n",
    "    x = cfg2(x)\n",
    "    x = cfg3(x)\n",
    "    model_output = classifier(x)\n",
    "    resnet_model = keras.Model(inputs=resnet_input, outputs=model_output, name='resnet50')\n",
    "\n",
    "    print(resnet_model.summary())\n",
    "\n",
    "    resnet_model.compile(\n",
    "        optimizer=keras.optimizers.Adam(learning_rate=0.0005),\n",
    "        loss='categorical_crossentropy',\n",
    "        metrics=['accuracy', recall],\n",
    "    )\n",
    "    \n",
    "    return resnet_model\n",
    "\n",
    "model_resnet_1 = build_resnet_model()\n",
    "\n"
   ]
  },
  {
   "cell_type": "code",
   "execution_count": null,
   "id": "00r__TOBtMyN",
   "metadata": {
    "colab": {
     "base_uri": "https://localhost:8080/"
    },
    "id": "00r__TOBtMyN",
    "outputId": "a3847216-af3f-4f6a-a4b6-f271ba1153f2"
   },
   "outputs": [
    {
     "name": "stdout",
     "output_type": "stream",
     "text": [
      "Epoch 1/50\n",
      "76/76 [==============================] - 69s 654ms/step - loss: 0.3446 - accuracy: 0.9526 - recall_1: 0.9526 - val_loss: 10.0513 - val_accuracy: 0.3260 - val_recall_1: 0.3260\n",
      "Epoch 2/50\n",
      "76/76 [==============================] - 50s 653ms/step - loss: 0.1272 - accuracy: 0.9780 - recall_1: 0.9776 - val_loss: 71.4006 - val_accuracy: 0.5013 - val_recall_1: 0.5013\n",
      "Epoch 3/50\n",
      "76/76 [==============================] - 48s 632ms/step - loss: 0.0806 - accuracy: 0.9846 - recall_1: 0.9846 - val_loss: 4.1335 - val_accuracy: 0.5747 - val_recall_1: 0.5747\n",
      "Epoch 4/50\n",
      "76/76 [==============================] - 50s 655ms/step - loss: 0.0268 - accuracy: 0.9938 - recall_1: 0.9938 - val_loss: 1.8472 - val_accuracy: 0.6900 - val_recall_1: 0.6880\n",
      "Epoch 5/50\n",
      "76/76 [==============================] - 48s 634ms/step - loss: 0.0139 - accuracy: 0.9975 - recall_1: 0.9975 - val_loss: 1.3280 - val_accuracy: 0.7327 - val_recall_1: 0.7320\n",
      "Epoch 6/50\n",
      "76/76 [==============================] - 49s 647ms/step - loss: 0.0068 - accuracy: 0.9979 - recall_1: 0.9979 - val_loss: 7.3801 - val_accuracy: 0.6600 - val_recall_1: 0.6600\n",
      "Epoch 7/50\n",
      "76/76 [==============================] - 48s 635ms/step - loss: 0.0060 - accuracy: 0.9983 - recall_1: 0.9983 - val_loss: 6.9563 - val_accuracy: 0.6580 - val_recall_1: 0.6580\n",
      "Epoch 8/50\n",
      "76/76 [==============================] - 49s 646ms/step - loss: 0.0620 - accuracy: 0.9884 - recall_1: 0.9884 - val_loss: 2.1242 - val_accuracy: 0.6833 - val_recall_1: 0.6833\n",
      "Epoch 9/50\n",
      "76/76 [==============================] - 48s 632ms/step - loss: 0.0202 - accuracy: 0.9958 - recall_1: 0.9958 - val_loss: 1.6233 - val_accuracy: 0.7247 - val_recall_1: 0.7240\n",
      "Epoch 10/50\n",
      "76/76 [==============================] - 49s 646ms/step - loss: 0.0615 - accuracy: 0.9904 - recall_1: 0.9904 - val_loss: 5.9629 - val_accuracy: 0.7067 - val_recall_1: 0.7027\n"
     ]
    }
   ],
   "source": [
    "history = model_resnet_1.fit(train_dataset,\n",
    "                epochs=50,\n",
    "                callbacks=[es_recall],\n",
    "                validation_data=val_dataset)"
   ]
  },
  {
   "cell_type": "code",
   "execution_count": null,
   "id": "KDf4U6w29io-",
   "metadata": {
    "colab": {
     "base_uri": "https://localhost:8080/"
    },
    "id": "KDf4U6w29io-",
    "outputId": "0eb0374d-a67e-4149-c676-b4cb4930b79f"
   },
   "outputs": [
    {
     "name": "stdout",
     "output_type": "stream",
     "text": [
      "19/19 [==============================] - 7s 395ms/step - loss: 1.1391 - accuracy: 0.7550 - recall_1: 0.7550\n"
     ]
    },
    {
     "data": {
      "text/plain": [
       "[1.1391149759292603, 0.7549999952316284, 0.7549999952316284]"
      ]
     },
     "execution_count": 29,
     "metadata": {},
     "output_type": "execute_result"
    }
   ],
   "source": [
    "model_resnet_1.evaluate(test_dataset)"
   ]
  },
  {
   "cell_type": "code",
   "execution_count": null,
   "id": "7F1IEPlpNmmm",
   "metadata": {
    "colab": {
     "base_uri": "https://localhost:8080/"
    },
    "id": "7F1IEPlpNmmm",
    "outputId": "88452b5d-633a-4e4b-d503-54c6633e707d"
   },
   "outputs": [
    {
     "name": "stdout",
     "output_type": "stream",
     "text": [
      "19/19 [==============================] - 9s 402ms/step\n"
     ]
    }
   ],
   "source": [
    "predictions = model_resnet_1.predict(test_dataset)"
   ]
  },
  {
   "cell_type": "code",
   "execution_count": null,
   "id": "OzIGm8FqNmjN",
   "metadata": {
    "id": "OzIGm8FqNmjN"
   },
   "outputs": [],
   "source": [
    "predictions = np.round(predictions, 0)"
   ]
  },
  {
   "cell_type": "code",
   "execution_count": null,
   "id": "z_B7AQJ-Nmga",
   "metadata": {
    "id": "z_B7AQJ-Nmga"
   },
   "outputs": [],
   "source": [
    "predictions=pd.DataFrame(predictions)"
   ]
  },
  {
   "cell_type": "code",
   "execution_count": null,
   "id": "Q8qfhUh0NmVT",
   "metadata": {
    "id": "Q8qfhUh0NmVT"
   },
   "outputs": [],
   "source": [
    "y_pred = np.array(predictions.idxmax(1))"
   ]
  },
  {
   "cell_type": "code",
   "execution_count": null,
   "id": "Zm7NWlS0N7cd",
   "metadata": {
    "id": "Zm7NWlS0N7cd"
   },
   "outputs": [],
   "source": [
    "y_true = test_dataset.classes"
   ]
  },
  {
   "cell_type": "code",
   "execution_count": null,
   "id": "eCt_vOKHN7Wo",
   "metadata": {
    "colab": {
     "base_uri": "https://localhost:8080/",
     "height": 296
    },
    "id": "eCt_vOKHN7Wo",
    "outputId": "9bb144aa-6adc-4e3b-db6e-fc1adeb11853"
   },
   "outputs": [
    {
     "data": {
      "image/png": "[encoded data removed]",
      "text/plain": [
       "<Figure size 360x288 with 2 Axes>"
      ]
     },
     "metadata": {
      "needs_background": "light"
     },
     "output_type": "display_data"
    }
   ],
   "source": [
    "# Creating  a confusion matrix,which compares the y_test and y_pred\n",
    "cm = confusion_matrix(y_true, y_pred, normalize='true')\n",
    "# Creating a dataframe for a array-formatted Confusion matrix,so it will be easy for plotting.\n",
    "cm_df = pd.DataFrame(cm,\n",
    "                     index = ['normal','ulcerative_colitis','polyps'], \n",
    "                     columns = ['normal','ulcerative_colitis','polyps'])\n",
    "#Plotting the confusion matrix\n",
    "plt.figure(figsize=(5,4))\n",
    "sns.heatmap(cm_df, annot=True)\n",
    "plt.title('Confusion Matrix')\n",
    "plt.ylabel('Actual Values')\n",
    "plt.xlabel('Predicted Values')\n",
    "plt.show()"
   ]
  },
  {
   "cell_type": "code",
   "execution_count": null,
   "id": "FXy5Abv-N7OB",
   "metadata": {
    "id": "FXy5Abv-N7OB"
   },
   "outputs": [],
   "source": []
  },
  {
   "cell_type": "markdown",
   "id": "D2zgr7HqQH9x",
   "metadata": {
    "id": "D2zgr7HqQH9x"
   },
   "source": [
    "#### With Data augmentation"
   ]
  },
  {
   "cell_type": "code",
   "execution_count": 28,
   "id": "mHpL5xG_N7Bz",
   "metadata": {
    "id": "mHpL5xG_N7Bz"
   },
   "outputs": [],
   "source": [
    "# Data Augmentation\n",
    "imageAug = keras.Sequential([\n",
    "    keras.layers.RandomFlip(\"horizontal_and_vertical\"),\n",
    "    keras.layers.RandomRotation(0.2),\n",
    "    keras.layers.RandomContrast(0.2)\n",
    "])"
   ]
  },
  {
   "cell_type": "code",
   "execution_count": 29,
   "id": "fnxG3TTengMZ",
   "metadata": {
    "colab": {
     "base_uri": "https://localhost:8080/"
    },
    "id": "fnxG3TTengMZ",
    "outputId": "12887f6c-29fa-4788-ebd9-d08551e2dc61"
   },
   "outputs": [
    {
     "data": {
      "text/plain": [
       "<keras.metrics.metrics.Recall at 0x7f6bb61a9fa0>"
      ]
     },
     "execution_count": 29,
     "metadata": {},
     "output_type": "execute_result"
    }
   ],
   "source": [
    "recall"
   ]
  },
  {
   "cell_type": "code",
   "execution_count": 39,
   "id": "OZ0upehDQOD2",
   "metadata": {
    "colab": {
     "base_uri": "https://localhost:8080/"
    },
    "id": "OZ0upehDQOD2",
    "outputId": "6636e246-fd42-4190-bd69-d77646fe84db"
   },
   "outputs": [
    {
     "name": "stderr",
     "output_type": "stream",
     "text": [
      "WARNING:tensorflow:Using a while_loop for converting RngReadAndSkip cause there is no registered converter for this op.\n",
      "WARNING:tensorflow:Using a while_loop for converting Bitcast cause there is no registered converter for this op.\n",
      "WARNING:tensorflow:Using a while_loop for converting Bitcast cause there is no registered converter for this op.\n",
      "WARNING:tensorflow:Using a while_loop for converting StatelessRandomUniformV2 cause there is no registered converter for this op.\n",
      "WARNING:tensorflow:Using a while_loop for converting ImageProjectiveTransformV3 cause there is no registered converter for this op.\n",
      "WARNING:tensorflow:Using a while_loop for converting RngReadAndSkip cause there is no registered converter for this op.\n",
      "WARNING:tensorflow:Using a while_loop for converting Bitcast cause there is no registered converter for this op.\n",
      "WARNING:tensorflow:Using a while_loop for converting Bitcast cause there is no registered converter for this op.\n",
      "WARNING:tensorflow:Using a while_loop for converting StatelessRandomUniformFullIntV2 cause there is no registered converter for this op.\n",
      "WARNING:tensorflow:Using a while_loop for converting StatelessRandomGetKeyCounter cause there is no registered converter for this op.\n",
      "WARNING:tensorflow:Using a while_loop for converting StatelessRandomUniformV2 cause there is no registered converter for this op.\n"
     ]
    },
    {
     "name": "stdout",
     "output_type": "stream",
     "text": [
      "Model: \"resnet50\"\n",
      "_________________________________________________________________\n",
      " Layer (type)                Output Shape              Param #   \n",
      "=================================================================\n",
      " input (InputLayer)          [(None, 224, 224, 3)]     0         \n",
      "                                                                 \n",
      " sequential_1 (Sequential)   (None, 224, 224, 3)       0         \n",
      "                                                                 \n",
      " conv2d_60 (Conv2D)          (None, 112, 112, 64)      9472      \n",
      "                                                                 \n",
      " max_pooling2d_4 (MaxPooling  (None, 56, 56, 64)       0         \n",
      " 2D)                                                             \n",
      "                                                                 \n",
      " cfg0_block (Functional)     (None, 56, 56, 256)       148480    \n",
      "                                                                 \n",
      " cfg1_block (Functional)     (None, 28, 28, 512)       665600    \n",
      "                                                                 \n",
      " cfg2_block (Functional)     (None, 14, 14, 1024)      2641920   \n",
      "                                                                 \n",
      " cfg3_block (Functional)     (None, 7, 7, 2048)        10526720  \n",
      "                                                                 \n",
      " classifier (Functional)     (None, 3)                 98307     \n",
      "                                                                 \n",
      "=================================================================\n",
      "Total params: 14,090,499\n",
      "Trainable params: 14,059,779\n",
      "Non-trainable params: 30,720\n",
      "_________________________________________________________________\n",
      "None\n"
     ]
    }
   ],
   "source": [
    "# Build model\n",
    "def build_resnet_model_augmentation():\n",
    "    resnet_input = keras.Input(shape=(224, 224, 3), name='input')\n",
    "    x = imageAug(resnet_input)\n",
    "    x = keras.layers.Conv2D(64, kernel_size=7, activation='relu', padding='same', strides=2, kernel_constraint=keras.constraints.max_norm(2.))(x)\n",
    "    conv1_output = keras.layers.MaxPooling2D(pool_size=3, padding='same', strides=2) (x)\n",
    "    x = cfg0(conv1_output)\n",
    "    x = cfg1(x)\n",
    "    x = cfg2(x)\n",
    "    x = cfg3(x)\n",
    "    model_output = classifier(x)\n",
    "    resnet_model = keras.Model(inputs=resnet_input, outputs=model_output, name='resnet50')\n",
    "\n",
    "    print(resnet_model.summary())\n",
    "\n",
    "    resnet_model.compile(\n",
    "        optimizer=keras.optimizers.Adam(learning_rate=0.0005),\n",
    "        loss='categorical_crossentropy',\n",
    "        metrics=['accuracy', recall],\n",
    "    )\n",
    "    \n",
    "    return resnet_model\n",
    "\n",
    "model_resnet_2 = build_resnet_model_augmentation()\n"
   ]
  },
  {
   "cell_type": "code",
   "execution_count": 40,
   "id": "3JFrZhzyQOAS",
   "metadata": {
    "id": "3JFrZhzyQOAS"
   },
   "outputs": [],
   "source": [
    "es_recall_2 = EarlyStopping(patience=10, restore_best_weights=True, monitor='val_recall_1', mode='max')"
   ]
  },
  {
   "cell_type": "code",
   "execution_count": 41,
   "id": "4LkrTFg_QN-N",
   "metadata": {
    "colab": {
     "base_uri": "https://localhost:8080/"
    },
    "id": "4LkrTFg_QN-N",
    "outputId": "a526c7be-9584-4e37-9ef2-438d61226cfa"
   },
   "outputs": [
    {
     "name": "stdout",
     "output_type": "stream",
     "text": [
      "Epoch 1/50\n"
     ]
    },
    {
     "name": "stderr",
     "output_type": "stream",
     "text": [
      "WARNING:tensorflow:Using a while_loop for converting RngReadAndSkip cause there is no registered converter for this op.\n",
      "WARNING:tensorflow:Using a while_loop for converting Bitcast cause there is no registered converter for this op.\n",
      "WARNING:tensorflow:Using a while_loop for converting Bitcast cause there is no registered converter for this op.\n",
      "WARNING:tensorflow:Using a while_loop for converting StatelessRandomUniformV2 cause there is no registered converter for this op.\n",
      "WARNING:tensorflow:Using a while_loop for converting ImageProjectiveTransformV3 cause there is no registered converter for this op.\n",
      "WARNING:tensorflow:Using a while_loop for converting RngReadAndSkip cause there is no registered converter for this op.\n",
      "WARNING:tensorflow:Using a while_loop for converting Bitcast cause there is no registered converter for this op.\n",
      "WARNING:tensorflow:Using a while_loop for converting Bitcast cause there is no registered converter for this op.\n",
      "WARNING:tensorflow:Using a while_loop for converting StatelessRandomUniformFullIntV2 cause there is no registered converter for this op.\n",
      "WARNING:tensorflow:Using a while_loop for converting StatelessRandomGetKeyCounter cause there is no registered converter for this op.\n",
      "WARNING:tensorflow:Using a while_loop for converting StatelessRandomUniformV2 cause there is no registered converter for this op.\n",
      "WARNING:tensorflow:Using a while_loop for converting RngReadAndSkip cause there is no registered converter for this op.\n",
      "WARNING:tensorflow:Using a while_loop for converting Bitcast cause there is no registered converter for this op.\n",
      "WARNING:tensorflow:Using a while_loop for converting Bitcast cause there is no registered converter for this op.\n",
      "WARNING:tensorflow:Using a while_loop for converting StatelessRandomUniformV2 cause there is no registered converter for this op.\n",
      "WARNING:tensorflow:Using a while_loop for converting ImageProjectiveTransformV3 cause there is no registered converter for this op.\n",
      "WARNING:tensorflow:Using a while_loop for converting RngReadAndSkip cause there is no registered converter for this op.\n",
      "WARNING:tensorflow:Using a while_loop for converting Bitcast cause there is no registered converter for this op.\n",
      "WARNING:tensorflow:Using a while_loop for converting Bitcast cause there is no registered converter for this op.\n",
      "WARNING:tensorflow:Using a while_loop for converting StatelessRandomUniformFullIntV2 cause there is no registered converter for this op.\n",
      "WARNING:tensorflow:Using a while_loop for converting StatelessRandomGetKeyCounter cause there is no registered converter for this op.\n",
      "WARNING:tensorflow:Using a while_loop for converting StatelessRandomUniformV2 cause there is no registered converter for this op.\n"
     ]
    },
    {
     "name": "stdout",
     "output_type": "stream",
     "text": [
      "76/76 [==============================] - 91s 911ms/step - loss: 1.3574 - accuracy: 0.7722 - recall_1: 0.6329 - val_loss: 56.1326 - val_accuracy: 0.2513 - val_recall_1: 0.2513\n",
      "Epoch 2/50\n",
      "76/76 [==============================] - 68s 893ms/step - loss: 1.2771 - accuracy: 0.7884 - recall_1: 0.7880 - val_loss: 8.2975 - val_accuracy: 0.3553 - val_recall_1: 0.3553\n",
      "Epoch 3/50\n",
      "76/76 [==============================] - 68s 894ms/step - loss: 0.6645 - accuracy: 0.8362 - recall_1: 0.8362 - val_loss: 6.9860 - val_accuracy: 0.3973 - val_recall_1: 0.3973\n",
      "Epoch 4/50\n",
      "76/76 [==============================] - 67s 884ms/step - loss: 0.9421 - accuracy: 0.8192 - recall_1: 0.8180 - val_loss: 41.9963 - val_accuracy: 0.3313 - val_recall_1: 0.3313\n",
      "Epoch 5/50\n",
      "76/76 [==============================] - 71s 939ms/step - loss: 0.7744 - accuracy: 0.8150 - recall_1: 0.8142 - val_loss: 20.6457 - val_accuracy: 0.3333 - val_recall_1: 0.3333\n",
      "Epoch 6/50\n",
      "76/76 [==============================] - 68s 890ms/step - loss: 0.8464 - accuracy: 0.8525 - recall_1: 0.8516 - val_loss: 7.1979 - val_accuracy: 0.3380 - val_recall_1: 0.3380\n",
      "Epoch 7/50\n",
      "76/76 [==============================] - 68s 893ms/step - loss: 1.2074 - accuracy: 0.8200 - recall_1: 0.8200 - val_loss: 16.2739 - val_accuracy: 0.3447 - val_recall_1: 0.3447\n",
      "Epoch 8/50\n",
      "76/76 [==============================] - 68s 897ms/step - loss: 0.7480 - accuracy: 0.8300 - recall_1: 0.8300 - val_loss: 13.6234 - val_accuracy: 0.3700 - val_recall_1: 0.3700\n",
      "Epoch 9/50\n",
      "76/76 [==============================] - 67s 887ms/step - loss: 0.5995 - accuracy: 0.8691 - recall_1: 0.8687 - val_loss: 20.7097 - val_accuracy: 0.4167 - val_recall_1: 0.4167\n",
      "Epoch 10/50\n",
      "76/76 [==============================] - 68s 892ms/step - loss: 0.5444 - accuracy: 0.8720 - recall_1: 0.8712 - val_loss: 7.3906 - val_accuracy: 0.3567 - val_recall_1: 0.3567\n",
      "Epoch 11/50\n",
      "76/76 [==============================] - 67s 885ms/step - loss: 0.8305 - accuracy: 0.8462 - recall_1: 0.8450 - val_loss: 32.5353 - val_accuracy: 0.3467 - val_recall_1: 0.3467\n",
      "Epoch 12/50\n",
      "76/76 [==============================] - 68s 893ms/step - loss: 0.3639 - accuracy: 0.8886 - recall_1: 0.8878 - val_loss: 20.5071 - val_accuracy: 0.3307 - val_recall_1: 0.3307\n",
      "Epoch 13/50\n",
      "76/76 [==============================] - 68s 890ms/step - loss: 0.5444 - accuracy: 0.8865 - recall_1: 0.8861 - val_loss: 14.4809 - val_accuracy: 0.3353 - val_recall_1: 0.3353\n",
      "Epoch 14/50\n",
      "76/76 [==============================] - 68s 895ms/step - loss: 0.3360 - accuracy: 0.8961 - recall_1: 0.8957 - val_loss: 7.6527 - val_accuracy: 0.2940 - val_recall_1: 0.2940\n",
      "Epoch 15/50\n",
      "76/76 [==============================] - 69s 902ms/step - loss: 0.2973 - accuracy: 0.9032 - recall_1: 0.9032 - val_loss: 6.1550 - val_accuracy: 0.3520 - val_recall_1: 0.3520\n",
      "Epoch 16/50\n",
      "76/76 [==============================] - 68s 896ms/step - loss: 0.2103 - accuracy: 0.9194 - recall_1: 0.9190 - val_loss: 14.8579 - val_accuracy: 0.3547 - val_recall_1: 0.3547\n",
      "Epoch 17/50\n",
      "76/76 [==============================] - 68s 899ms/step - loss: 0.3425 - accuracy: 0.8986 - recall_1: 0.8986 - val_loss: 6.4767 - val_accuracy: 0.3367 - val_recall_1: 0.3367\n",
      "Epoch 18/50\n",
      "76/76 [==============================] - 68s 897ms/step - loss: 0.6169 - accuracy: 0.8799 - recall_1: 0.8795 - val_loss: 26.3179 - val_accuracy: 0.3640 - val_recall_1: 0.3640\n",
      "Epoch 19/50\n",
      "76/76 [==============================] - 69s 902ms/step - loss: 0.7823 - accuracy: 0.8703 - recall_1: 0.8699 - val_loss: 12.4614 - val_accuracy: 0.3687 - val_recall_1: 0.3687\n"
     ]
    }
   ],
   "source": [
    "history = model_resnet_2.fit(train_dataset,\n",
    "                epochs=50,\n",
    "                callbacks=[es_recall_2],\n",
    "                validation_data=val_dataset)"
   ]
  },
  {
   "cell_type": "code",
   "execution_count": 42,
   "id": "zpJps0oMQN7k",
   "metadata": {
    "colab": {
     "base_uri": "https://localhost:8080/"
    },
    "id": "zpJps0oMQN7k",
    "outputId": "75ffa3ab-ef54-47b1-feb5-37664ccd82fd"
   },
   "outputs": [
    {
     "name": "stdout",
     "output_type": "stream",
     "text": [
      "19/19 [==============================] - 351s 19s/step - loss: 20.3423 - accuracy: 0.4317 - recall_1: 0.4317\n"
     ]
    },
    {
     "data": {
      "text/plain": [
       "[20.34231948852539, 0.43166667222976685, 0.43166667222976685]"
      ]
     },
     "execution_count": 42,
     "metadata": {},
     "output_type": "execute_result"
    }
   ],
   "source": [
    "model_resnet_2.evaluate(test_dataset)"
   ]
  },
  {
   "cell_type": "code",
   "execution_count": 43,
   "id": "csMfaZngQN46",
   "metadata": {
    "colab": {
     "base_uri": "https://localhost:8080/"
    },
    "id": "csMfaZngQN46",
    "outputId": "df25da55-37d6-4a85-95e3-5b2646a5a7cc"
   },
   "outputs": [
    {
     "name": "stdout",
     "output_type": "stream",
     "text": [
      "19/19 [==============================] - 10s 483ms/step\n"
     ]
    }
   ],
   "source": [
    "predictions = model_resnet_2.predict(test_dataset)\n",
    "predictions = np.round(predictions, 0)\n",
    "predictions=pd.DataFrame(predictions)\n",
    "y_pred = np.array(predictions.idxmax(1))\n",
    "y_true = test_dataset.classes"
   ]
  },
  {
   "cell_type": "code",
   "execution_count": 44,
   "id": "rYFSGtrkQNrL",
   "metadata": {
    "colab": {
     "base_uri": "https://localhost:8080/",
     "height": 296
    },
    "id": "rYFSGtrkQNrL",
    "outputId": "34b16bab-5c9e-4b1f-b5ea-2d99d88c0406"
   },
   "outputs": [
    {
     "data": {
      "image/png": "[encoded data removed]",
      "text/plain": [
       "<Figure size 360x288 with 2 Axes>"
      ]
     },
     "metadata": {
      "needs_background": "light"
     },
     "output_type": "display_data"
    }
   ],
   "source": [
    "# Creating  a confusion matrix,which compares the y_test and y_pred\n",
    "cm = confusion_matrix(y_true, y_pred, normalize='true')\n",
    "# Creating a dataframe for a array-formatted Confusion matrix,so it will be easy for plotting.\n",
    "cm_df = pd.DataFrame(cm,\n",
    "                     index = ['normal','ulcerative_colitis','polyps'], \n",
    "                     columns = ['normal','ulcerative_colitis','polyps'])\n",
    "#Plotting the confusion matrix\n",
    "plt.figure(figsize=(5,4))\n",
    "sns.heatmap(cm_df, annot=True)\n",
    "plt.title('Confusion Matrix')\n",
    "plt.ylabel('Actual Values')\n",
    "plt.xlabel('Predicted Values')\n",
    "plt.show()"
   ]
  },
  {
   "cell_type": "markdown",
   "id": "a6fee768",
   "metadata": {
    "id": "a6fee768"
   },
   "source": [
    "### EfficientNetB3"
   ]
  },
  {
   "cell_type": "markdown",
   "id": "44bec723",
   "metadata": {
    "id": "44bec723"
   },
   "source": [
    "### LeNet5"
   ]
  },
  {
   "cell_type": "markdown",
   "id": "0af69a38",
   "metadata": {
    "id": "0af69a38"
   },
   "source": [
    "### AlexNet"
   ]
  },
  {
   "cell_type": "markdown",
   "id": "532ec616",
   "metadata": {
    "id": "532ec616"
   },
   "source": [
    "### GoogLeNet"
   ]
  },
  {
   "cell_type": "code",
   "execution_count": null,
   "id": "f4feeb6b",
   "metadata": {
    "id": "f4feeb6b"
   },
   "outputs": [],
   "source": []
  }
 ],
 "metadata": {
  "accelerator": "GPU",
  "colab": {
   "collapsed_sections": [
    "ba820e20"
   ],
   "include_colab_link": true,
   "provenance": []
  },
  "gpuClass": "standard",
  "kernelspec": {
   "display_name": "Python 3 (ipykernel)",
   "language": "python",
   "name": "python3"
  },
  "language_info": {
   "codemirror_mode": {
    "name": "ipython",
    "version": 3
   },
   "file_extension": ".py",
   "mimetype": "text/x-python",
   "name": "python",
   "nbconvert_exporter": "python",
   "pygments_lexer": "ipython3",
   "version": "3.10.6"
  },
  "toc": {
   "base_numbering": 1,
   "nav_menu": {},
   "number_sections": true,
   "sideBar": true,
   "skip_h1_title": false,
   "title_cell": "Table of Contents",
   "title_sidebar": "Contents",
   "toc_cell": false,
   "toc_position": {},
   "toc_section_display": true,
   "toc_window_display": false
  },
  "varInspector": {
   "cols": {
    "lenName": 16,
    "lenType": 16,
    "lenVar": 40
   },
   "kernels_config": {
    "python": {
     "delete_cmd_postfix": "",
     "delete_cmd_prefix": "del ",
     "library": "var_list.py",
     "varRefreshCmd": "print(var_dic_list())"
    },
    "r": {
     "delete_cmd_postfix": ") ",
     "delete_cmd_prefix": "rm(",
     "library": "var_list.r",
     "varRefreshCmd": "cat(var_dic_list()) "
    }
   },
   "types_to_exclude": [
    "module",
    "function",
    "builtin_function_or_method",
    "instance",
    "_Feature"
   ],
   "window_display": false
  }
 },
 "nbformat": 4,
 "nbformat_minor": 5
}
